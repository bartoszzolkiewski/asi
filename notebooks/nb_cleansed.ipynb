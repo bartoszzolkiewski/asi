{
 "cells": [
  {
   "cell_type": "markdown",
   "metadata": {
    "papermill": {
     "duration": 0.259734,
     "end_time": "2020-11-18T16:22:00.398759",
     "exception": false,
     "start_time": "2020-11-18T16:22:00.139025",
     "status": "completed"
    },
    "tags": []
   },
   "source": [
    "# Introduction"
   ]
  },
  {
   "cell_type": "markdown",
   "metadata": {
    "papermill": {
     "duration": 0.250742,
     "end_time": "2020-11-18T16:22:00.901791",
     "exception": false,
     "start_time": "2020-11-18T16:22:00.651049",
     "status": "completed"
    },
    "tags": []
   },
   "source": [
    "\n",
    "This case study aims to give us an idea of applying EDA in a real business scenario. In this case study, apart from applying the techniques that we have learnt in the EDA module, we will also develop a basic understanding of risk analytics in banking and financial services and understand how data is used to minimise the risk of losing money while lending to customers."
   ]
  },
  {
   "cell_type": "markdown",
   "metadata": {
    "papermill": {
     "duration": 0.256229,
     "end_time": "2020-11-18T16:22:01.411815",
     "exception": false,
     "start_time": "2020-11-18T16:22:01.155586",
     "status": "completed"
    },
    "tags": []
   },
   "source": [
    "# Business Understanding"
   ]
  },
  {
   "cell_type": "markdown",
   "metadata": {
    "papermill": {
     "duration": 0.248108,
     "end_time": "2020-11-18T16:22:01.910616",
     "exception": false,
     "start_time": "2020-11-18T16:22:01.662508",
     "status": "completed"
    },
    "tags": []
   },
   "source": [
    "The loan providing companies find it hard to give loans to the people due to their insufficient or non-existent credit history. Because of that, some consumers use it as their advantage by becoming a defaulter. Suppose you work for a consumer finance company which specialises in lending various types of loans to urban customers. You have to use EDA to analyse the patterns present in the data. This will ensure that the applicants are capable of repaying the loan are not rejected.\n",
    "\n",
    " \n",
    "\n",
    "When the company receives a loan application, the company has to decide for loan approval based on the applicant’s profile. Two types of risks are associated with the bank’s decision:\n",
    "\n",
    "If the applicant is likely to repay the loan, then not approving the loan results in a loss of business to the company\n",
    "\n",
    "If the applicant is not likely to repay the loan, i.e. he/she is likely to default, then approving the loan may lead to a financial loss for the company.\n",
    "\n",
    " \n",
    "\n",
    "The data given below contains the information about the loan application at the time of applying for the loan. It contains two types of scenarios:\n",
    "\n",
    "The client with payment difficulties: he/she had late payment more than X days on at least one of the first Y instalments of the loan in our sample,\n",
    "\n",
    "All other cases: All other cases when the payment is paid on time.\n",
    "\n",
    " \n",
    "\n",
    " \n",
    "\n",
    "When a client applies for a loan, there are four types of decisions that could be taken by the client/company):\n",
    "\n",
    "###### Approved: \n",
    "The Company has approved loan Application\n",
    "\n",
    "###### Cancelled: \n",
    "The client cancelled the application sometime during approval. Either the client changed her/his mind about the loan or in some cases due to a higher risk of the client he received worse pricing which he did not want.\n",
    "\n",
    "###### Refused: \n",
    "The company had rejected the loan (because the client does not meet their requirements etc.).\n",
    "\n",
    "###### Unused offer:  \n",
    "Loan has been cancelled by the client but on different stages of the process.\n",
    "\n",
    "\n",
    "\n",
    " \n",
    "\n",
    " "
   ]
  },
  {
   "cell_type": "markdown",
   "metadata": {
    "papermill": {
     "duration": 0.302232,
     "end_time": "2020-11-18T16:22:02.465535",
     "exception": false,
     "start_time": "2020-11-18T16:22:02.163303",
     "status": "completed"
    },
    "tags": []
   },
   "source": [
    "# Business Objectives"
   ]
  },
  {
   "cell_type": "markdown",
   "metadata": {
    "papermill": {
     "duration": 0.249021,
     "end_time": "2020-11-18T16:22:02.966733",
     "exception": false,
     "start_time": "2020-11-18T16:22:02.717712",
     "status": "completed"
    },
    "tags": []
   },
   "source": [
    "\n",
    "The case study aims to identify patterns which indicate if a client has difficulty paying their installments which may be used for taking actions such as denying the loan, reducing the amount of loan, lending (to risky applicants) at a higher interest rate, etc. This will ensure that the consumers capable of repaying the loan are not rejected. Identification of such applicants using EDA is the aim of this case study.\n",
    "\n",
    " \n",
    "\n",
    "In other words, the company wants to understand the driving factors (or driver variables) behind loan default, i.e. the variables which are strong indicators of default.  The company can utilise this knowledge for its portfolio and risk assessment.\n",
    "\n"
   ]
  },
  {
   "cell_type": "markdown",
   "metadata": {
    "papermill": {
     "duration": 0.247077,
     "end_time": "2020-11-18T16:22:03.465142",
     "exception": false,
     "start_time": "2020-11-18T16:22:03.218065",
     "status": "completed"
    },
    "tags": []
   },
   "source": [
    "# Data Understanding"
   ]
  },
  {
   "cell_type": "markdown",
   "metadata": {
    "papermill": {
     "duration": 0.24846,
     "end_time": "2020-11-18T16:22:03.964466",
     "exception": false,
     "start_time": "2020-11-18T16:22:03.716006",
     "status": "completed"
    },
    "tags": []
   },
   "source": [
    "##### 1. 'application_data.csv' \n",
    "It contains all the information of the client at the time of application.\n",
    "The data is about whether a client has payment difficulties.\n",
    "\n",
    " \n",
    "\n",
    "##### 2. 'previous_application.csv'\n",
    "It contains information about the client’s previous loan data. It contains the data whether the previous application had been Approved, Cancelled, Refused or Unused offer.\n",
    "\n",
    " \n",
    "\n",
    "##### 3. 'columns_description.csv' \n",
    "It is data dictionary which describes the meaning of the variables."
   ]
  },
  {
   "cell_type": "markdown",
   "metadata": {
    "papermill": {
     "duration": 0.252019,
     "end_time": "2020-11-18T16:22:04.471350",
     "exception": false,
     "start_time": "2020-11-18T16:22:04.219331",
     "status": "completed"
    },
    "tags": []
   },
   "source": [
    "The solution is made in 2 different ipymb files\n",
    "\n",
    "- 1st file contains detailed analysis (EDA) on application_data to identify the important features which help us to identify the defaulters\n",
    "- 2nd file contains data where we inner join the records (application_data, previous_application) with same the SK_ID_CURR"
   ]
  },
  {
   "cell_type": "markdown",
   "metadata": {
    "papermill": {
     "duration": 0.252722,
     "end_time": "2020-11-18T16:22:04.997024",
     "exception": false,
     "start_time": "2020-11-18T16:22:04.744302",
     "status": "completed"
    },
    "tags": []
   },
   "source": [
    "## IMPORTING LIBRARIES"
   ]
  },
  {
   "cell_type": "code",
   "execution_count": 1,
   "metadata": {
    "papermill": {
     "duration": 1.333699,
     "end_time": "2020-11-18T16:22:06.583427",
     "exception": false,
     "start_time": "2020-11-18T16:22:05.249728",
     "status": "completed"
    },
    "tags": []
   },
   "outputs": [],
   "source": [
    "import numpy as np\n",
    "import matplotlib.pyplot as plt\n",
    "%matplotlib inline\n",
    "import pandas as pd\n",
    "import seaborn as sns\n",
    "import warnings\n",
    "warnings.filterwarnings(\"ignore\")\n",
    "import itertools"
   ]
  },
  {
   "cell_type": "markdown",
   "metadata": {
    "papermill": {
     "duration": 0.25106,
     "end_time": "2020-11-18T16:22:07.083248",
     "exception": false,
     "start_time": "2020-11-18T16:22:06.832188",
     "status": "completed"
    },
    "tags": []
   },
   "source": [
    "## Importing Data"
   ]
  },
  {
   "cell_type": "code",
   "execution_count": 7,
   "metadata": {
    "papermill": {
     "duration": 17.08907,
     "end_time": "2020-11-18T16:22:24.423013",
     "exception": false,
     "start_time": "2020-11-18T16:22:07.333943",
     "status": "completed"
    },
    "tags": []
   },
   "outputs": [],
   "source": [
    "application_data = pd.read_csv(r'../src/data/raw/application_data.csv')\n",
    "previous_application = pd.read_csv(r'../src/data/raw/previous_application.csv')\n",
    "columns_description = pd.read_csv(r'../src/data/raw/columns_description.csv',skiprows=1)"
   ]
  },
  {
   "cell_type": "markdown",
   "metadata": {
    "papermill": {
     "duration": 0.249577,
     "end_time": "2020-11-18T16:22:24.924237",
     "exception": false,
     "start_time": "2020-11-18T16:22:24.674660",
     "status": "completed"
    },
    "tags": []
   },
   "source": [
    "## Data Dimensions"
   ]
  },
  {
   "cell_type": "code",
   "execution_count": 8,
   "metadata": {
    "papermill": {
     "duration": 0.260647,
     "end_time": "2020-11-18T16:22:25.436998",
     "exception": false,
     "start_time": "2020-11-18T16:22:25.176351",
     "status": "completed"
    },
    "tags": []
   },
   "outputs": [
    {
     "name": "stdout",
     "output_type": "stream",
     "text": [
      "application_data     : (307511, 122)\n",
      "previous_application : (1670214, 37)\n",
      "columns_description  : (159, 5)\n"
     ]
    }
   ],
   "source": [
    "print (\"application_data     :\",application_data.shape)\n",
    "print (\"previous_application :\",previous_application.shape)\n",
    "print (\"columns_description  :\",columns_description.shape)"
   ]
  },
  {
   "cell_type": "markdown",
   "metadata": {
    "papermill": {
     "duration": 0.25073,
     "end_time": "2020-11-18T16:22:25.940676",
     "exception": false,
     "start_time": "2020-11-18T16:22:25.689946",
     "status": "completed"
    },
    "tags": []
   },
   "source": [
    "## First Few rows of Data"
   ]
  },
  {
   "cell_type": "code",
   "execution_count": 9,
   "metadata": {
    "papermill": {
     "duration": 0.390216,
     "end_time": "2020-11-18T16:22:26.583955",
     "exception": false,
     "start_time": "2020-11-18T16:22:26.193739",
     "status": "completed"
    },
    "tags": []
   },
   "outputs": [
    {
     "data": {
      "text/plain": [
       "'application_data'"
      ]
     },
     "metadata": {},
     "output_type": "display_data"
    },
    {
     "data": {
      "text/html": [
       "<div>\n",
       "<style scoped>\n",
       "    .dataframe tbody tr th:only-of-type {\n",
       "        vertical-align: middle;\n",
       "    }\n",
       "\n",
       "    .dataframe tbody tr th {\n",
       "        vertical-align: top;\n",
       "    }\n",
       "\n",
       "    .dataframe thead th {\n",
       "        text-align: right;\n",
       "    }\n",
       "</style>\n",
       "<table border=\"1\" class=\"dataframe\">\n",
       "  <thead>\n",
       "    <tr style=\"text-align: right;\">\n",
       "      <th></th>\n",
       "      <th>SK_ID_CURR</th>\n",
       "      <th>TARGET</th>\n",
       "      <th>NAME_CONTRACT_TYPE</th>\n",
       "      <th>CODE_GENDER</th>\n",
       "      <th>FLAG_OWN_CAR</th>\n",
       "      <th>FLAG_OWN_REALTY</th>\n",
       "      <th>CNT_CHILDREN</th>\n",
       "      <th>AMT_INCOME_TOTAL</th>\n",
       "      <th>AMT_CREDIT</th>\n",
       "      <th>AMT_ANNUITY</th>\n",
       "      <th>AMT_GOODS_PRICE</th>\n",
       "      <th>NAME_TYPE_SUITE</th>\n",
       "      <th>NAME_INCOME_TYPE</th>\n",
       "      <th>NAME_EDUCATION_TYPE</th>\n",
       "      <th>NAME_FAMILY_STATUS</th>\n",
       "      <th>NAME_HOUSING_TYPE</th>\n",
       "      <th>REGION_POPULATION_RELATIVE</th>\n",
       "      <th>DAYS_BIRTH</th>\n",
       "      <th>DAYS_EMPLOYED</th>\n",
       "      <th>DAYS_REGISTRATION</th>\n",
       "      <th>DAYS_ID_PUBLISH</th>\n",
       "      <th>OWN_CAR_AGE</th>\n",
       "      <th>FLAG_MOBIL</th>\n",
       "      <th>FLAG_EMP_PHONE</th>\n",
       "      <th>FLAG_WORK_PHONE</th>\n",
       "      <th>FLAG_CONT_MOBILE</th>\n",
       "      <th>FLAG_PHONE</th>\n",
       "      <th>FLAG_EMAIL</th>\n",
       "      <th>OCCUPATION_TYPE</th>\n",
       "      <th>CNT_FAM_MEMBERS</th>\n",
       "      <th>REGION_RATING_CLIENT</th>\n",
       "      <th>REGION_RATING_CLIENT_W_CITY</th>\n",
       "      <th>WEEKDAY_APPR_PROCESS_START</th>\n",
       "      <th>HOUR_APPR_PROCESS_START</th>\n",
       "      <th>REG_REGION_NOT_LIVE_REGION</th>\n",
       "      <th>REG_REGION_NOT_WORK_REGION</th>\n",
       "      <th>LIVE_REGION_NOT_WORK_REGION</th>\n",
       "      <th>REG_CITY_NOT_LIVE_CITY</th>\n",
       "      <th>REG_CITY_NOT_WORK_CITY</th>\n",
       "      <th>LIVE_CITY_NOT_WORK_CITY</th>\n",
       "      <th>ORGANIZATION_TYPE</th>\n",
       "      <th>EXT_SOURCE_1</th>\n",
       "      <th>EXT_SOURCE_2</th>\n",
       "      <th>EXT_SOURCE_3</th>\n",
       "      <th>APARTMENTS_AVG</th>\n",
       "      <th>BASEMENTAREA_AVG</th>\n",
       "      <th>YEARS_BEGINEXPLUATATION_AVG</th>\n",
       "      <th>YEARS_BUILD_AVG</th>\n",
       "      <th>COMMONAREA_AVG</th>\n",
       "      <th>ELEVATORS_AVG</th>\n",
       "      <th>ENTRANCES_AVG</th>\n",
       "      <th>FLOORSMAX_AVG</th>\n",
       "      <th>FLOORSMIN_AVG</th>\n",
       "      <th>LANDAREA_AVG</th>\n",
       "      <th>LIVINGAPARTMENTS_AVG</th>\n",
       "      <th>LIVINGAREA_AVG</th>\n",
       "      <th>NONLIVINGAPARTMENTS_AVG</th>\n",
       "      <th>NONLIVINGAREA_AVG</th>\n",
       "      <th>APARTMENTS_MODE</th>\n",
       "      <th>BASEMENTAREA_MODE</th>\n",
       "      <th>YEARS_BEGINEXPLUATATION_MODE</th>\n",
       "      <th>YEARS_BUILD_MODE</th>\n",
       "      <th>COMMONAREA_MODE</th>\n",
       "      <th>ELEVATORS_MODE</th>\n",
       "      <th>ENTRANCES_MODE</th>\n",
       "      <th>FLOORSMAX_MODE</th>\n",
       "      <th>FLOORSMIN_MODE</th>\n",
       "      <th>LANDAREA_MODE</th>\n",
       "      <th>LIVINGAPARTMENTS_MODE</th>\n",
       "      <th>LIVINGAREA_MODE</th>\n",
       "      <th>NONLIVINGAPARTMENTS_MODE</th>\n",
       "      <th>NONLIVINGAREA_MODE</th>\n",
       "      <th>APARTMENTS_MEDI</th>\n",
       "      <th>BASEMENTAREA_MEDI</th>\n",
       "      <th>YEARS_BEGINEXPLUATATION_MEDI</th>\n",
       "      <th>YEARS_BUILD_MEDI</th>\n",
       "      <th>COMMONAREA_MEDI</th>\n",
       "      <th>ELEVATORS_MEDI</th>\n",
       "      <th>ENTRANCES_MEDI</th>\n",
       "      <th>FLOORSMAX_MEDI</th>\n",
       "      <th>FLOORSMIN_MEDI</th>\n",
       "      <th>LANDAREA_MEDI</th>\n",
       "      <th>LIVINGAPARTMENTS_MEDI</th>\n",
       "      <th>LIVINGAREA_MEDI</th>\n",
       "      <th>NONLIVINGAPARTMENTS_MEDI</th>\n",
       "      <th>NONLIVINGAREA_MEDI</th>\n",
       "      <th>FONDKAPREMONT_MODE</th>\n",
       "      <th>HOUSETYPE_MODE</th>\n",
       "      <th>TOTALAREA_MODE</th>\n",
       "      <th>WALLSMATERIAL_MODE</th>\n",
       "      <th>EMERGENCYSTATE_MODE</th>\n",
       "      <th>OBS_30_CNT_SOCIAL_CIRCLE</th>\n",
       "      <th>DEF_30_CNT_SOCIAL_CIRCLE</th>\n",
       "      <th>OBS_60_CNT_SOCIAL_CIRCLE</th>\n",
       "      <th>DEF_60_CNT_SOCIAL_CIRCLE</th>\n",
       "      <th>DAYS_LAST_PHONE_CHANGE</th>\n",
       "      <th>FLAG_DOCUMENT_2</th>\n",
       "      <th>FLAG_DOCUMENT_3</th>\n",
       "      <th>FLAG_DOCUMENT_4</th>\n",
       "      <th>FLAG_DOCUMENT_5</th>\n",
       "      <th>FLAG_DOCUMENT_6</th>\n",
       "      <th>FLAG_DOCUMENT_7</th>\n",
       "      <th>FLAG_DOCUMENT_8</th>\n",
       "      <th>FLAG_DOCUMENT_9</th>\n",
       "      <th>FLAG_DOCUMENT_10</th>\n",
       "      <th>FLAG_DOCUMENT_11</th>\n",
       "      <th>FLAG_DOCUMENT_12</th>\n",
       "      <th>FLAG_DOCUMENT_13</th>\n",
       "      <th>FLAG_DOCUMENT_14</th>\n",
       "      <th>FLAG_DOCUMENT_15</th>\n",
       "      <th>FLAG_DOCUMENT_16</th>\n",
       "      <th>FLAG_DOCUMENT_17</th>\n",
       "      <th>FLAG_DOCUMENT_18</th>\n",
       "      <th>FLAG_DOCUMENT_19</th>\n",
       "      <th>FLAG_DOCUMENT_20</th>\n",
       "      <th>FLAG_DOCUMENT_21</th>\n",
       "      <th>AMT_REQ_CREDIT_BUREAU_HOUR</th>\n",
       "      <th>AMT_REQ_CREDIT_BUREAU_DAY</th>\n",
       "      <th>AMT_REQ_CREDIT_BUREAU_WEEK</th>\n",
       "      <th>AMT_REQ_CREDIT_BUREAU_MON</th>\n",
       "      <th>AMT_REQ_CREDIT_BUREAU_QRT</th>\n",
       "      <th>AMT_REQ_CREDIT_BUREAU_YEAR</th>\n",
       "    </tr>\n",
       "  </thead>\n",
       "  <tbody>\n",
       "    <tr>\n",
       "      <th>0</th>\n",
       "      <td>100002</td>\n",
       "      <td>1</td>\n",
       "      <td>Cash loans</td>\n",
       "      <td>M</td>\n",
       "      <td>N</td>\n",
       "      <td>Y</td>\n",
       "      <td>0</td>\n",
       "      <td>202500.0</td>\n",
       "      <td>406597.5</td>\n",
       "      <td>24700.5</td>\n",
       "      <td>351000.0</td>\n",
       "      <td>Unaccompanied</td>\n",
       "      <td>Working</td>\n",
       "      <td>Secondary / secondary special</td>\n",
       "      <td>Single / not married</td>\n",
       "      <td>House / apartment</td>\n",
       "      <td>0.018801</td>\n",
       "      <td>-9461</td>\n",
       "      <td>-637</td>\n",
       "      <td>-3648.0</td>\n",
       "      <td>-2120</td>\n",
       "      <td>NaN</td>\n",
       "      <td>1</td>\n",
       "      <td>1</td>\n",
       "      <td>0</td>\n",
       "      <td>1</td>\n",
       "      <td>1</td>\n",
       "      <td>0</td>\n",
       "      <td>Laborers</td>\n",
       "      <td>1.0</td>\n",
       "      <td>2</td>\n",
       "      <td>2</td>\n",
       "      <td>WEDNESDAY</td>\n",
       "      <td>10</td>\n",
       "      <td>0</td>\n",
       "      <td>0</td>\n",
       "      <td>0</td>\n",
       "      <td>0</td>\n",
       "      <td>0</td>\n",
       "      <td>0</td>\n",
       "      <td>Business Entity Type 3</td>\n",
       "      <td>0.083037</td>\n",
       "      <td>0.262949</td>\n",
       "      <td>0.139376</td>\n",
       "      <td>0.0247</td>\n",
       "      <td>0.0369</td>\n",
       "      <td>0.9722</td>\n",
       "      <td>0.6192</td>\n",
       "      <td>0.0143</td>\n",
       "      <td>0.00</td>\n",
       "      <td>0.0690</td>\n",
       "      <td>0.0833</td>\n",
       "      <td>0.1250</td>\n",
       "      <td>0.0369</td>\n",
       "      <td>0.0202</td>\n",
       "      <td>0.0190</td>\n",
       "      <td>0.0000</td>\n",
       "      <td>0.0000</td>\n",
       "      <td>0.0252</td>\n",
       "      <td>0.0383</td>\n",
       "      <td>0.9722</td>\n",
       "      <td>0.6341</td>\n",
       "      <td>0.0144</td>\n",
       "      <td>0.0000</td>\n",
       "      <td>0.0690</td>\n",
       "      <td>0.0833</td>\n",
       "      <td>0.1250</td>\n",
       "      <td>0.0377</td>\n",
       "      <td>0.022</td>\n",
       "      <td>0.0198</td>\n",
       "      <td>0.0</td>\n",
       "      <td>0.0</td>\n",
       "      <td>0.0250</td>\n",
       "      <td>0.0369</td>\n",
       "      <td>0.9722</td>\n",
       "      <td>0.6243</td>\n",
       "      <td>0.0144</td>\n",
       "      <td>0.00</td>\n",
       "      <td>0.0690</td>\n",
       "      <td>0.0833</td>\n",
       "      <td>0.1250</td>\n",
       "      <td>0.0375</td>\n",
       "      <td>0.0205</td>\n",
       "      <td>0.0193</td>\n",
       "      <td>0.0000</td>\n",
       "      <td>0.00</td>\n",
       "      <td>reg oper account</td>\n",
       "      <td>block of flats</td>\n",
       "      <td>0.0149</td>\n",
       "      <td>Stone, brick</td>\n",
       "      <td>No</td>\n",
       "      <td>2.0</td>\n",
       "      <td>2.0</td>\n",
       "      <td>2.0</td>\n",
       "      <td>2.0</td>\n",
       "      <td>-1134.0</td>\n",
       "      <td>0</td>\n",
       "      <td>1</td>\n",
       "      <td>0</td>\n",
       "      <td>0</td>\n",
       "      <td>0</td>\n",
       "      <td>0</td>\n",
       "      <td>0</td>\n",
       "      <td>0</td>\n",
       "      <td>0</td>\n",
       "      <td>0</td>\n",
       "      <td>0</td>\n",
       "      <td>0</td>\n",
       "      <td>0</td>\n",
       "      <td>0</td>\n",
       "      <td>0</td>\n",
       "      <td>0</td>\n",
       "      <td>0</td>\n",
       "      <td>0</td>\n",
       "      <td>0</td>\n",
       "      <td>0</td>\n",
       "      <td>0.0</td>\n",
       "      <td>0.0</td>\n",
       "      <td>0.0</td>\n",
       "      <td>0.0</td>\n",
       "      <td>0.0</td>\n",
       "      <td>1.0</td>\n",
       "    </tr>\n",
       "    <tr>\n",
       "      <th>1</th>\n",
       "      <td>100003</td>\n",
       "      <td>0</td>\n",
       "      <td>Cash loans</td>\n",
       "      <td>F</td>\n",
       "      <td>N</td>\n",
       "      <td>N</td>\n",
       "      <td>0</td>\n",
       "      <td>270000.0</td>\n",
       "      <td>1293502.5</td>\n",
       "      <td>35698.5</td>\n",
       "      <td>1129500.0</td>\n",
       "      <td>Family</td>\n",
       "      <td>State servant</td>\n",
       "      <td>Higher education</td>\n",
       "      <td>Married</td>\n",
       "      <td>House / apartment</td>\n",
       "      <td>0.003541</td>\n",
       "      <td>-16765</td>\n",
       "      <td>-1188</td>\n",
       "      <td>-1186.0</td>\n",
       "      <td>-291</td>\n",
       "      <td>NaN</td>\n",
       "      <td>1</td>\n",
       "      <td>1</td>\n",
       "      <td>0</td>\n",
       "      <td>1</td>\n",
       "      <td>1</td>\n",
       "      <td>0</td>\n",
       "      <td>Core staff</td>\n",
       "      <td>2.0</td>\n",
       "      <td>1</td>\n",
       "      <td>1</td>\n",
       "      <td>MONDAY</td>\n",
       "      <td>11</td>\n",
       "      <td>0</td>\n",
       "      <td>0</td>\n",
       "      <td>0</td>\n",
       "      <td>0</td>\n",
       "      <td>0</td>\n",
       "      <td>0</td>\n",
       "      <td>School</td>\n",
       "      <td>0.311267</td>\n",
       "      <td>0.622246</td>\n",
       "      <td>NaN</td>\n",
       "      <td>0.0959</td>\n",
       "      <td>0.0529</td>\n",
       "      <td>0.9851</td>\n",
       "      <td>0.7960</td>\n",
       "      <td>0.0605</td>\n",
       "      <td>0.08</td>\n",
       "      <td>0.0345</td>\n",
       "      <td>0.2917</td>\n",
       "      <td>0.3333</td>\n",
       "      <td>0.0130</td>\n",
       "      <td>0.0773</td>\n",
       "      <td>0.0549</td>\n",
       "      <td>0.0039</td>\n",
       "      <td>0.0098</td>\n",
       "      <td>0.0924</td>\n",
       "      <td>0.0538</td>\n",
       "      <td>0.9851</td>\n",
       "      <td>0.8040</td>\n",
       "      <td>0.0497</td>\n",
       "      <td>0.0806</td>\n",
       "      <td>0.0345</td>\n",
       "      <td>0.2917</td>\n",
       "      <td>0.3333</td>\n",
       "      <td>0.0128</td>\n",
       "      <td>0.079</td>\n",
       "      <td>0.0554</td>\n",
       "      <td>0.0</td>\n",
       "      <td>0.0</td>\n",
       "      <td>0.0968</td>\n",
       "      <td>0.0529</td>\n",
       "      <td>0.9851</td>\n",
       "      <td>0.7987</td>\n",
       "      <td>0.0608</td>\n",
       "      <td>0.08</td>\n",
       "      <td>0.0345</td>\n",
       "      <td>0.2917</td>\n",
       "      <td>0.3333</td>\n",
       "      <td>0.0132</td>\n",
       "      <td>0.0787</td>\n",
       "      <td>0.0558</td>\n",
       "      <td>0.0039</td>\n",
       "      <td>0.01</td>\n",
       "      <td>reg oper account</td>\n",
       "      <td>block of flats</td>\n",
       "      <td>0.0714</td>\n",
       "      <td>Block</td>\n",
       "      <td>No</td>\n",
       "      <td>1.0</td>\n",
       "      <td>0.0</td>\n",
       "      <td>1.0</td>\n",
       "      <td>0.0</td>\n",
       "      <td>-828.0</td>\n",
       "      <td>0</td>\n",
       "      <td>1</td>\n",
       "      <td>0</td>\n",
       "      <td>0</td>\n",
       "      <td>0</td>\n",
       "      <td>0</td>\n",
       "      <td>0</td>\n",
       "      <td>0</td>\n",
       "      <td>0</td>\n",
       "      <td>0</td>\n",
       "      <td>0</td>\n",
       "      <td>0</td>\n",
       "      <td>0</td>\n",
       "      <td>0</td>\n",
       "      <td>0</td>\n",
       "      <td>0</td>\n",
       "      <td>0</td>\n",
       "      <td>0</td>\n",
       "      <td>0</td>\n",
       "      <td>0</td>\n",
       "      <td>0.0</td>\n",
       "      <td>0.0</td>\n",
       "      <td>0.0</td>\n",
       "      <td>0.0</td>\n",
       "      <td>0.0</td>\n",
       "      <td>0.0</td>\n",
       "    </tr>\n",
       "    <tr>\n",
       "      <th>2</th>\n",
       "      <td>100004</td>\n",
       "      <td>0</td>\n",
       "      <td>Revolving loans</td>\n",
       "      <td>M</td>\n",
       "      <td>Y</td>\n",
       "      <td>Y</td>\n",
       "      <td>0</td>\n",
       "      <td>67500.0</td>\n",
       "      <td>135000.0</td>\n",
       "      <td>6750.0</td>\n",
       "      <td>135000.0</td>\n",
       "      <td>Unaccompanied</td>\n",
       "      <td>Working</td>\n",
       "      <td>Secondary / secondary special</td>\n",
       "      <td>Single / not married</td>\n",
       "      <td>House / apartment</td>\n",
       "      <td>0.010032</td>\n",
       "      <td>-19046</td>\n",
       "      <td>-225</td>\n",
       "      <td>-4260.0</td>\n",
       "      <td>-2531</td>\n",
       "      <td>26.0</td>\n",
       "      <td>1</td>\n",
       "      <td>1</td>\n",
       "      <td>1</td>\n",
       "      <td>1</td>\n",
       "      <td>1</td>\n",
       "      <td>0</td>\n",
       "      <td>Laborers</td>\n",
       "      <td>1.0</td>\n",
       "      <td>2</td>\n",
       "      <td>2</td>\n",
       "      <td>MONDAY</td>\n",
       "      <td>9</td>\n",
       "      <td>0</td>\n",
       "      <td>0</td>\n",
       "      <td>0</td>\n",
       "      <td>0</td>\n",
       "      <td>0</td>\n",
       "      <td>0</td>\n",
       "      <td>Government</td>\n",
       "      <td>NaN</td>\n",
       "      <td>0.555912</td>\n",
       "      <td>0.729567</td>\n",
       "      <td>NaN</td>\n",
       "      <td>NaN</td>\n",
       "      <td>NaN</td>\n",
       "      <td>NaN</td>\n",
       "      <td>NaN</td>\n",
       "      <td>NaN</td>\n",
       "      <td>NaN</td>\n",
       "      <td>NaN</td>\n",
       "      <td>NaN</td>\n",
       "      <td>NaN</td>\n",
       "      <td>NaN</td>\n",
       "      <td>NaN</td>\n",
       "      <td>NaN</td>\n",
       "      <td>NaN</td>\n",
       "      <td>NaN</td>\n",
       "      <td>NaN</td>\n",
       "      <td>NaN</td>\n",
       "      <td>NaN</td>\n",
       "      <td>NaN</td>\n",
       "      <td>NaN</td>\n",
       "      <td>NaN</td>\n",
       "      <td>NaN</td>\n",
       "      <td>NaN</td>\n",
       "      <td>NaN</td>\n",
       "      <td>NaN</td>\n",
       "      <td>NaN</td>\n",
       "      <td>NaN</td>\n",
       "      <td>NaN</td>\n",
       "      <td>NaN</td>\n",
       "      <td>NaN</td>\n",
       "      <td>NaN</td>\n",
       "      <td>NaN</td>\n",
       "      <td>NaN</td>\n",
       "      <td>NaN</td>\n",
       "      <td>NaN</td>\n",
       "      <td>NaN</td>\n",
       "      <td>NaN</td>\n",
       "      <td>NaN</td>\n",
       "      <td>NaN</td>\n",
       "      <td>NaN</td>\n",
       "      <td>NaN</td>\n",
       "      <td>NaN</td>\n",
       "      <td>NaN</td>\n",
       "      <td>NaN</td>\n",
       "      <td>NaN</td>\n",
       "      <td>NaN</td>\n",
       "      <td>NaN</td>\n",
       "      <td>0.0</td>\n",
       "      <td>0.0</td>\n",
       "      <td>0.0</td>\n",
       "      <td>0.0</td>\n",
       "      <td>-815.0</td>\n",
       "      <td>0</td>\n",
       "      <td>0</td>\n",
       "      <td>0</td>\n",
       "      <td>0</td>\n",
       "      <td>0</td>\n",
       "      <td>0</td>\n",
       "      <td>0</td>\n",
       "      <td>0</td>\n",
       "      <td>0</td>\n",
       "      <td>0</td>\n",
       "      <td>0</td>\n",
       "      <td>0</td>\n",
       "      <td>0</td>\n",
       "      <td>0</td>\n",
       "      <td>0</td>\n",
       "      <td>0</td>\n",
       "      <td>0</td>\n",
       "      <td>0</td>\n",
       "      <td>0</td>\n",
       "      <td>0</td>\n",
       "      <td>0.0</td>\n",
       "      <td>0.0</td>\n",
       "      <td>0.0</td>\n",
       "      <td>0.0</td>\n",
       "      <td>0.0</td>\n",
       "      <td>0.0</td>\n",
       "    </tr>\n",
       "  </tbody>\n",
       "</table>\n",
       "</div>"
      ],
      "text/plain": [
       "   SK_ID_CURR  TARGET NAME_CONTRACT_TYPE CODE_GENDER FLAG_OWN_CAR  \\\n",
       "0      100002       1         Cash loans           M            N   \n",
       "1      100003       0         Cash loans           F            N   \n",
       "2      100004       0    Revolving loans           M            Y   \n",
       "\n",
       "  FLAG_OWN_REALTY  CNT_CHILDREN  AMT_INCOME_TOTAL  AMT_CREDIT  AMT_ANNUITY  \\\n",
       "0               Y             0          202500.0    406597.5      24700.5   \n",
       "1               N             0          270000.0   1293502.5      35698.5   \n",
       "2               Y             0           67500.0    135000.0       6750.0   \n",
       "\n",
       "   AMT_GOODS_PRICE NAME_TYPE_SUITE NAME_INCOME_TYPE  \\\n",
       "0         351000.0   Unaccompanied          Working   \n",
       "1        1129500.0          Family    State servant   \n",
       "2         135000.0   Unaccompanied          Working   \n",
       "\n",
       "             NAME_EDUCATION_TYPE    NAME_FAMILY_STATUS  NAME_HOUSING_TYPE  \\\n",
       "0  Secondary / secondary special  Single / not married  House / apartment   \n",
       "1               Higher education               Married  House / apartment   \n",
       "2  Secondary / secondary special  Single / not married  House / apartment   \n",
       "\n",
       "   REGION_POPULATION_RELATIVE  DAYS_BIRTH  DAYS_EMPLOYED  DAYS_REGISTRATION  \\\n",
       "0                    0.018801       -9461           -637            -3648.0   \n",
       "1                    0.003541      -16765          -1188            -1186.0   \n",
       "2                    0.010032      -19046           -225            -4260.0   \n",
       "\n",
       "   DAYS_ID_PUBLISH  OWN_CAR_AGE  FLAG_MOBIL  FLAG_EMP_PHONE  FLAG_WORK_PHONE  \\\n",
       "0            -2120          NaN           1               1                0   \n",
       "1             -291          NaN           1               1                0   \n",
       "2            -2531         26.0           1               1                1   \n",
       "\n",
       "   FLAG_CONT_MOBILE  FLAG_PHONE  FLAG_EMAIL OCCUPATION_TYPE  CNT_FAM_MEMBERS  \\\n",
       "0                 1           1           0        Laborers              1.0   \n",
       "1                 1           1           0      Core staff              2.0   \n",
       "2                 1           1           0        Laborers              1.0   \n",
       "\n",
       "   REGION_RATING_CLIENT  REGION_RATING_CLIENT_W_CITY  \\\n",
       "0                     2                            2   \n",
       "1                     1                            1   \n",
       "2                     2                            2   \n",
       "\n",
       "  WEEKDAY_APPR_PROCESS_START  HOUR_APPR_PROCESS_START  \\\n",
       "0                  WEDNESDAY                       10   \n",
       "1                     MONDAY                       11   \n",
       "2                     MONDAY                        9   \n",
       "\n",
       "   REG_REGION_NOT_LIVE_REGION  REG_REGION_NOT_WORK_REGION  \\\n",
       "0                           0                           0   \n",
       "1                           0                           0   \n",
       "2                           0                           0   \n",
       "\n",
       "   LIVE_REGION_NOT_WORK_REGION  REG_CITY_NOT_LIVE_CITY  \\\n",
       "0                            0                       0   \n",
       "1                            0                       0   \n",
       "2                            0                       0   \n",
       "\n",
       "   REG_CITY_NOT_WORK_CITY  LIVE_CITY_NOT_WORK_CITY       ORGANIZATION_TYPE  \\\n",
       "0                       0                        0  Business Entity Type 3   \n",
       "1                       0                        0                  School   \n",
       "2                       0                        0              Government   \n",
       "\n",
       "   EXT_SOURCE_1  EXT_SOURCE_2  EXT_SOURCE_3  APARTMENTS_AVG  BASEMENTAREA_AVG  \\\n",
       "0      0.083037      0.262949      0.139376          0.0247            0.0369   \n",
       "1      0.311267      0.622246           NaN          0.0959            0.0529   \n",
       "2           NaN      0.555912      0.729567             NaN               NaN   \n",
       "\n",
       "   YEARS_BEGINEXPLUATATION_AVG  YEARS_BUILD_AVG  COMMONAREA_AVG  \\\n",
       "0                       0.9722           0.6192          0.0143   \n",
       "1                       0.9851           0.7960          0.0605   \n",
       "2                          NaN              NaN             NaN   \n",
       "\n",
       "   ELEVATORS_AVG  ENTRANCES_AVG  FLOORSMAX_AVG  FLOORSMIN_AVG  LANDAREA_AVG  \\\n",
       "0           0.00         0.0690         0.0833         0.1250        0.0369   \n",
       "1           0.08         0.0345         0.2917         0.3333        0.0130   \n",
       "2            NaN            NaN            NaN            NaN           NaN   \n",
       "\n",
       "   LIVINGAPARTMENTS_AVG  LIVINGAREA_AVG  NONLIVINGAPARTMENTS_AVG  \\\n",
       "0                0.0202          0.0190                   0.0000   \n",
       "1                0.0773          0.0549                   0.0039   \n",
       "2                   NaN             NaN                      NaN   \n",
       "\n",
       "   NONLIVINGAREA_AVG  APARTMENTS_MODE  BASEMENTAREA_MODE  \\\n",
       "0             0.0000           0.0252             0.0383   \n",
       "1             0.0098           0.0924             0.0538   \n",
       "2                NaN              NaN                NaN   \n",
       "\n",
       "   YEARS_BEGINEXPLUATATION_MODE  YEARS_BUILD_MODE  COMMONAREA_MODE  \\\n",
       "0                        0.9722            0.6341           0.0144   \n",
       "1                        0.9851            0.8040           0.0497   \n",
       "2                           NaN               NaN              NaN   \n",
       "\n",
       "   ELEVATORS_MODE  ENTRANCES_MODE  FLOORSMAX_MODE  FLOORSMIN_MODE  \\\n",
       "0          0.0000          0.0690          0.0833          0.1250   \n",
       "1          0.0806          0.0345          0.2917          0.3333   \n",
       "2             NaN             NaN             NaN             NaN   \n",
       "\n",
       "   LANDAREA_MODE  LIVINGAPARTMENTS_MODE  LIVINGAREA_MODE  \\\n",
       "0         0.0377                  0.022           0.0198   \n",
       "1         0.0128                  0.079           0.0554   \n",
       "2            NaN                    NaN              NaN   \n",
       "\n",
       "   NONLIVINGAPARTMENTS_MODE  NONLIVINGAREA_MODE  APARTMENTS_MEDI  \\\n",
       "0                       0.0                 0.0           0.0250   \n",
       "1                       0.0                 0.0           0.0968   \n",
       "2                       NaN                 NaN              NaN   \n",
       "\n",
       "   BASEMENTAREA_MEDI  YEARS_BEGINEXPLUATATION_MEDI  YEARS_BUILD_MEDI  \\\n",
       "0             0.0369                        0.9722            0.6243   \n",
       "1             0.0529                        0.9851            0.7987   \n",
       "2                NaN                           NaN               NaN   \n",
       "\n",
       "   COMMONAREA_MEDI  ELEVATORS_MEDI  ENTRANCES_MEDI  FLOORSMAX_MEDI  \\\n",
       "0           0.0144            0.00          0.0690          0.0833   \n",
       "1           0.0608            0.08          0.0345          0.2917   \n",
       "2              NaN             NaN             NaN             NaN   \n",
       "\n",
       "   FLOORSMIN_MEDI  LANDAREA_MEDI  LIVINGAPARTMENTS_MEDI  LIVINGAREA_MEDI  \\\n",
       "0          0.1250         0.0375                 0.0205           0.0193   \n",
       "1          0.3333         0.0132                 0.0787           0.0558   \n",
       "2             NaN            NaN                    NaN              NaN   \n",
       "\n",
       "   NONLIVINGAPARTMENTS_MEDI  NONLIVINGAREA_MEDI FONDKAPREMONT_MODE  \\\n",
       "0                    0.0000                0.00   reg oper account   \n",
       "1                    0.0039                0.01   reg oper account   \n",
       "2                       NaN                 NaN                NaN   \n",
       "\n",
       "   HOUSETYPE_MODE  TOTALAREA_MODE WALLSMATERIAL_MODE EMERGENCYSTATE_MODE  \\\n",
       "0  block of flats          0.0149       Stone, brick                  No   \n",
       "1  block of flats          0.0714              Block                  No   \n",
       "2             NaN             NaN                NaN                 NaN   \n",
       "\n",
       "   OBS_30_CNT_SOCIAL_CIRCLE  DEF_30_CNT_SOCIAL_CIRCLE  \\\n",
       "0                       2.0                       2.0   \n",
       "1                       1.0                       0.0   \n",
       "2                       0.0                       0.0   \n",
       "\n",
       "   OBS_60_CNT_SOCIAL_CIRCLE  DEF_60_CNT_SOCIAL_CIRCLE  DAYS_LAST_PHONE_CHANGE  \\\n",
       "0                       2.0                       2.0                 -1134.0   \n",
       "1                       1.0                       0.0                  -828.0   \n",
       "2                       0.0                       0.0                  -815.0   \n",
       "\n",
       "   FLAG_DOCUMENT_2  FLAG_DOCUMENT_3  FLAG_DOCUMENT_4  FLAG_DOCUMENT_5  \\\n",
       "0                0                1                0                0   \n",
       "1                0                1                0                0   \n",
       "2                0                0                0                0   \n",
       "\n",
       "   FLAG_DOCUMENT_6  FLAG_DOCUMENT_7  FLAG_DOCUMENT_8  FLAG_DOCUMENT_9  \\\n",
       "0                0                0                0                0   \n",
       "1                0                0                0                0   \n",
       "2                0                0                0                0   \n",
       "\n",
       "   FLAG_DOCUMENT_10  FLAG_DOCUMENT_11  FLAG_DOCUMENT_12  FLAG_DOCUMENT_13  \\\n",
       "0                 0                 0                 0                 0   \n",
       "1                 0                 0                 0                 0   \n",
       "2                 0                 0                 0                 0   \n",
       "\n",
       "   FLAG_DOCUMENT_14  FLAG_DOCUMENT_15  FLAG_DOCUMENT_16  FLAG_DOCUMENT_17  \\\n",
       "0                 0                 0                 0                 0   \n",
       "1                 0                 0                 0                 0   \n",
       "2                 0                 0                 0                 0   \n",
       "\n",
       "   FLAG_DOCUMENT_18  FLAG_DOCUMENT_19  FLAG_DOCUMENT_20  FLAG_DOCUMENT_21  \\\n",
       "0                 0                 0                 0                 0   \n",
       "1                 0                 0                 0                 0   \n",
       "2                 0                 0                 0                 0   \n",
       "\n",
       "   AMT_REQ_CREDIT_BUREAU_HOUR  AMT_REQ_CREDIT_BUREAU_DAY  \\\n",
       "0                         0.0                        0.0   \n",
       "1                         0.0                        0.0   \n",
       "2                         0.0                        0.0   \n",
       "\n",
       "   AMT_REQ_CREDIT_BUREAU_WEEK  AMT_REQ_CREDIT_BUREAU_MON  \\\n",
       "0                         0.0                        0.0   \n",
       "1                         0.0                        0.0   \n",
       "2                         0.0                        0.0   \n",
       "\n",
       "   AMT_REQ_CREDIT_BUREAU_QRT  AMT_REQ_CREDIT_BUREAU_YEAR  \n",
       "0                        0.0                         1.0  \n",
       "1                        0.0                         0.0  \n",
       "2                        0.0                         0.0  "
      ]
     },
     "metadata": {},
     "output_type": "display_data"
    }
   ],
   "source": [
    "pd.set_option(\"display.max_rows\", None, \"display.max_columns\", None)\n",
    "display(\"application_data\")\n",
    "display(application_data.head(3))"
   ]
  },
  {
   "cell_type": "code",
   "execution_count": null,
   "metadata": {
    "execution": {
     "iopub.execute_input": "2020-11-18T16:22:27.120452Z",
     "iopub.status.busy": "2020-11-18T16:22:27.119682Z",
     "iopub.status.idle": "2020-11-18T16:22:27.161497Z",
     "shell.execute_reply": "2020-11-18T16:22:27.160877Z"
    },
    "papermill": {
     "duration": 0.302152,
     "end_time": "2020-11-18T16:22:27.161679",
     "exception": false,
     "start_time": "2020-11-18T16:22:26.859527",
     "status": "completed"
    },
    "tags": []
   },
   "outputs": [],
   "source": [
    "display(\"previous_application \")\n",
    "display(previous_application.head(3))"
   ]
  },
  {
   "cell_type": "markdown",
   "metadata": {
    "papermill": {
     "duration": 0.25839,
     "end_time": "2020-11-18T16:22:27.678085",
     "exception": false,
     "start_time": "2020-11-18T16:22:27.419695",
     "status": "completed"
    },
    "tags": []
   },
   "source": [
    "\n",
    "## Term Dictionary "
   ]
  },
  {
   "cell_type": "code",
   "execution_count": null,
   "metadata": {
    "execution": {
     "iopub.execute_input": "2020-11-18T16:22:28.198591Z",
     "iopub.status.busy": "2020-11-18T16:22:28.197513Z",
     "iopub.status.idle": "2020-11-18T16:22:28.275536Z",
     "shell.execute_reply": "2020-11-18T16:22:28.276145Z"
    },
    "papermill": {
     "duration": 0.342533,
     "end_time": "2020-11-18T16:22:28.276303",
     "exception": false,
     "start_time": "2020-11-18T16:22:27.933770",
     "status": "completed"
    },
    "tags": []
   },
   "outputs": [],
   "source": [
    "display(\"columns_description\")\n",
    "pd.set_option('display.max_colwidth', -1)\n",
    "columns_description=columns_description.drop(['1'],axis=1)\n",
    "display(columns_description)"
   ]
  },
  {
   "cell_type": "markdown",
   "metadata": {
    "papermill": {
     "duration": 0.260914,
     "end_time": "2020-11-18T16:22:28.800742",
     "exception": false,
     "start_time": "2020-11-18T16:22:28.539828",
     "status": "completed"
    },
    "tags": []
   },
   "source": [
    "## Percentage of Missing values in previous_application"
   ]
  },
  {
   "cell_type": "code",
   "execution_count": null,
   "metadata": {
    "execution": {
     "iopub.execute_input": "2020-11-18T16:22:29.335042Z",
     "iopub.status.busy": "2020-11-18T16:22:29.334287Z",
     "iopub.status.idle": "2020-11-18T16:22:32.749696Z",
     "shell.execute_reply": "2020-11-18T16:22:32.748931Z"
    },
    "papermill": {
     "duration": 3.687023,
     "end_time": "2020-11-18T16:22:32.749821",
     "exception": false,
     "start_time": "2020-11-18T16:22:29.062798",
     "status": "completed"
    },
    "tags": []
   },
   "outputs": [],
   "source": [
    "fig = plt.figure(figsize=(18,6))\n",
    "miss_previous_application = pd.DataFrame((previous_application.isnull().sum())*100/previous_application.shape[0]).reset_index()\n",
    "miss_previous_application[\"type\"] = \"previous_application\"\n",
    "ax = sns.pointplot(\"index\",0,data=miss_previous_application,hue=\"type\")\n",
    "plt.xticks(rotation =90,fontsize =7)\n",
    "plt.title(\"Percentage of Missing values in previous_application\")\n",
    "plt.ylabel(\"PERCENTAGE\")\n",
    "plt.xlabel(\"COLUMNS\")\n",
    "ax.set_facecolor(\"k\")\n",
    "fig.set_facecolor(\"lightgrey\")"
   ]
  },
  {
   "cell_type": "code",
   "execution_count": null,
   "metadata": {
    "execution": {
     "iopub.execute_input": "2020-11-18T16:22:33.285913Z",
     "iopub.status.busy": "2020-11-18T16:22:33.285160Z",
     "iopub.status.idle": "2020-11-18T16:22:36.285575Z",
     "shell.execute_reply": "2020-11-18T16:22:36.284933Z"
    },
    "papermill": {
     "duration": 3.271445,
     "end_time": "2020-11-18T16:22:36.285702",
     "exception": false,
     "start_time": "2020-11-18T16:22:33.014257",
     "status": "completed"
    },
    "tags": []
   },
   "outputs": [],
   "source": [
    "round(100*(previous_application.isnull().sum()/len(previous_application.index)),2)"
   ]
  },
  {
   "cell_type": "markdown",
   "metadata": {
    "papermill": {
     "duration": 0.270944,
     "end_time": "2020-11-18T16:22:36.831377",
     "exception": false,
     "start_time": "2020-11-18T16:22:36.560433",
     "status": "completed"
    },
    "tags": []
   },
   "source": [
    "### Removing columns with missing values more than 50%\n",
    "\n",
    "#### key point\n",
    "As per Industrial Standard, max Threshold limit can be between 40% to 50 % depending upon the data acquired in specific sector."
   ]
  },
  {
   "cell_type": "code",
   "execution_count": null,
   "metadata": {
    "execution": {
     "iopub.execute_input": "2020-11-18T16:22:38.107897Z",
     "iopub.status.busy": "2020-11-18T16:22:37.398213Z",
     "iopub.status.idle": "2020-11-18T16:22:38.486777Z",
     "shell.execute_reply": "2020-11-18T16:22:38.485647Z"
    },
    "papermill": {
     "duration": 1.386663,
     "end_time": "2020-11-18T16:22:38.487004",
     "exception": false,
     "start_time": "2020-11-18T16:22:37.100341",
     "status": "completed"
    },
    "tags": []
   },
   "outputs": [],
   "source": [
    "previous_application=previous_application.drop([ 'AMT_DOWN_PAYMENT', 'RATE_DOWN_PAYMENT', 'RATE_INTEREST_PRIMARY',\n",
    "       \"RATE_INTEREST_PRIVILEGED\"],axis=1)"
   ]
  },
  {
   "cell_type": "code",
   "execution_count": null,
   "metadata": {
    "execution": {
     "iopub.execute_input": "2020-11-18T16:22:39.067010Z",
     "iopub.status.busy": "2020-11-18T16:22:39.065652Z",
     "iopub.status.idle": "2020-11-18T16:22:42.420766Z",
     "shell.execute_reply": "2020-11-18T16:22:42.421570Z"
    },
    "papermill": {
     "duration": 3.635819,
     "end_time": "2020-11-18T16:22:42.421773",
     "exception": false,
     "start_time": "2020-11-18T16:22:38.785954",
     "status": "completed"
    },
    "tags": []
   },
   "outputs": [],
   "source": [
    "fig = plt.figure(figsize=(18,6))\n",
    "miss_previous_application = pd.DataFrame((previous_application.isnull().sum())*100/previous_application.shape[0]).reset_index()\n",
    "miss_previous_application[\"type\"] = \"previous_application\"\n",
    "ax = sns.pointplot(\"index\",0,data=miss_previous_application,hue=\"type\")\n",
    "plt.xticks(rotation =90,fontsize =7)\n",
    "plt.title(\"Percentage of Missing values in previous_application\")\n",
    "plt.ylabel(\"PERCENTAGE\")\n",
    "plt.xlabel(\"COLUMNS\")\n",
    "ax.set_facecolor(\"k\")\n",
    "fig.set_facecolor(\"lightgrey\")"
   ]
  },
  {
   "cell_type": "code",
   "execution_count": null,
   "metadata": {
    "execution": {
     "iopub.execute_input": "2020-11-18T16:22:43.069437Z",
     "iopub.status.busy": "2020-11-18T16:22:43.068473Z",
     "iopub.status.idle": "2020-11-18T16:22:45.951608Z",
     "shell.execute_reply": "2020-11-18T16:22:45.950775Z"
    },
    "papermill": {
     "duration": 3.225091,
     "end_time": "2020-11-18T16:22:45.951736",
     "exception": false,
     "start_time": "2020-11-18T16:22:42.726645",
     "status": "completed"
    },
    "tags": []
   },
   "outputs": [],
   "source": [
    "round(100*(previous_application.isnull().sum()/len(previous_application.index)),2)"
   ]
  },
  {
   "cell_type": "markdown",
   "metadata": {
    "papermill": {
     "duration": 0.269218,
     "end_time": "2020-11-18T16:22:46.491871",
     "exception": false,
     "start_time": "2020-11-18T16:22:46.222653",
     "status": "completed"
    },
    "tags": []
   },
   "source": [
    "### MISSING values Suggestion"
   ]
  },
  {
   "cell_type": "code",
   "execution_count": null,
   "metadata": {
    "execution": {
     "iopub.execute_input": "2020-11-18T16:22:47.033918Z",
     "iopub.status.busy": "2020-11-18T16:22:47.033111Z",
     "iopub.status.idle": "2020-11-18T16:22:47.041507Z",
     "shell.execute_reply": "2020-11-18T16:22:47.040827Z"
    },
    "papermill": {
     "duration": 0.282812,
     "end_time": "2020-11-18T16:22:47.041630",
     "exception": false,
     "start_time": "2020-11-18T16:22:46.758818",
     "status": "completed"
    },
    "tags": []
   },
   "outputs": [],
   "source": [
    "print(\"AMT_ANNUITY NULL COUNT:\" ,previous_application['AMT_ANNUITY'].isnull().sum())"
   ]
  },
  {
   "cell_type": "code",
   "execution_count": null,
   "metadata": {
    "execution": {
     "iopub.execute_input": "2020-11-18T16:22:47.590786Z",
     "iopub.status.busy": "2020-11-18T16:22:47.589747Z",
     "iopub.status.idle": "2020-11-18T16:22:47.671056Z",
     "shell.execute_reply": "2020-11-18T16:22:47.670296Z"
    },
    "papermill": {
     "duration": 0.358742,
     "end_time": "2020-11-18T16:22:47.671184",
     "exception": false,
     "start_time": "2020-11-18T16:22:47.312442",
     "status": "completed"
    },
    "tags": []
   },
   "outputs": [],
   "source": [
    "previous_application['AMT_ANNUITY'].describe()"
   ]
  },
  {
   "cell_type": "code",
   "execution_count": null,
   "metadata": {
    "execution": {
     "iopub.execute_input": "2020-11-18T16:22:48.318004Z",
     "iopub.status.busy": "2020-11-18T16:22:48.316781Z",
     "iopub.status.idle": "2020-11-18T16:22:49.333217Z",
     "shell.execute_reply": "2020-11-18T16:22:49.332368Z"
    },
    "papermill": {
     "duration": 1.387444,
     "end_time": "2020-11-18T16:22:49.333353",
     "exception": false,
     "start_time": "2020-11-18T16:22:47.945909",
     "status": "completed"
    },
    "tags": []
   },
   "outputs": [],
   "source": [
    "sns.set_style('whitegrid') \n",
    "sns.distplot(previous_application['AMT_ANNUITY']) \n",
    "plt.show()\n"
   ]
  },
  {
   "cell_type": "markdown",
   "metadata": {
    "papermill": {
     "duration": 0.270337,
     "end_time": "2020-11-18T16:22:49.884935",
     "exception": false,
     "start_time": "2020-11-18T16:22:49.614598",
     "status": "completed"
    },
    "tags": []
   },
   "source": [
    "### Suggestion\n",
    "We can Fill NA with 15955 i.e. Mean for this field "
   ]
  },
  {
   "cell_type": "code",
   "execution_count": null,
   "metadata": {
    "execution": {
     "iopub.execute_input": "2020-11-18T16:22:50.440797Z",
     "iopub.status.busy": "2020-11-18T16:22:50.440001Z",
     "iopub.status.idle": "2020-11-18T16:22:50.448904Z",
     "shell.execute_reply": "2020-11-18T16:22:50.448155Z"
    },
    "papermill": {
     "duration": 0.290337,
     "end_time": "2020-11-18T16:22:50.449051",
     "exception": false,
     "start_time": "2020-11-18T16:22:50.158714",
     "status": "completed"
    },
    "tags": []
   },
   "outputs": [],
   "source": [
    "print(\"AMT_GOODS_PRICE NULL COUNT:\" ,previous_application['AMT_GOODS_PRICE'].isnull().sum())"
   ]
  },
  {
   "cell_type": "code",
   "execution_count": null,
   "metadata": {
    "execution": {
     "iopub.execute_input": "2020-11-18T16:22:51.002397Z",
     "iopub.status.busy": "2020-11-18T16:22:51.001512Z",
     "iopub.status.idle": "2020-11-18T16:22:51.081364Z",
     "shell.execute_reply": "2020-11-18T16:22:51.080566Z"
    },
    "papermill": {
     "duration": 0.354754,
     "end_time": "2020-11-18T16:22:51.081506",
     "exception": false,
     "start_time": "2020-11-18T16:22:50.726752",
     "status": "completed"
    },
    "tags": []
   },
   "outputs": [],
   "source": [
    "previous_application['AMT_GOODS_PRICE'].describe()"
   ]
  },
  {
   "cell_type": "code",
   "execution_count": null,
   "metadata": {
    "execution": {
     "iopub.execute_input": "2020-11-18T16:22:51.643737Z",
     "iopub.status.busy": "2020-11-18T16:22:51.642811Z",
     "iopub.status.idle": "2020-11-18T16:22:52.548746Z",
     "shell.execute_reply": "2020-11-18T16:22:52.547608Z"
    },
    "papermill": {
     "duration": 1.192666,
     "end_time": "2020-11-18T16:22:52.548923",
     "exception": false,
     "start_time": "2020-11-18T16:22:51.356257",
     "status": "completed"
    },
    "tags": []
   },
   "outputs": [],
   "source": [
    "sns.set_style('whitegrid') \n",
    "sns.distplot(previous_application['AMT_GOODS_PRICE']) \n",
    "plt.show()\n"
   ]
  },
  {
   "cell_type": "markdown",
   "metadata": {
    "papermill": {
     "duration": 0.273547,
     "end_time": "2020-11-18T16:22:53.104375",
     "exception": false,
     "start_time": "2020-11-18T16:22:52.830828",
     "status": "completed"
    },
    "tags": []
   },
   "source": [
    "### Suggestion\n",
    "We can Fill NA with 112320 i.e. Median for this field "
   ]
  },
  {
   "cell_type": "code",
   "execution_count": null,
   "metadata": {
    "execution": {
     "iopub.execute_input": "2020-11-18T16:22:53.841716Z",
     "iopub.status.busy": "2020-11-18T16:22:53.840664Z",
     "iopub.status.idle": "2020-11-18T16:22:53.849062Z",
     "shell.execute_reply": "2020-11-18T16:22:53.848253Z"
    },
    "papermill": {
     "duration": 0.426272,
     "end_time": "2020-11-18T16:22:53.849237",
     "exception": false,
     "start_time": "2020-11-18T16:22:53.422965",
     "status": "completed"
    },
    "tags": []
   },
   "outputs": [],
   "source": [
    "print(\"NAME_TYPE_SUITE NULL COUNT:\" ,previous_application['NAME_TYPE_SUITE'].isnull().sum())"
   ]
  },
  {
   "cell_type": "code",
   "execution_count": null,
   "metadata": {
    "execution": {
     "iopub.execute_input": "2020-11-18T16:22:54.778517Z",
     "iopub.status.busy": "2020-11-18T16:22:54.777760Z",
     "iopub.status.idle": "2020-11-18T16:22:54.786102Z",
     "shell.execute_reply": "2020-11-18T16:22:54.785503Z"
    },
    "papermill": {
     "duration": 0.627524,
     "end_time": "2020-11-18T16:22:54.786244",
     "exception": false,
     "start_time": "2020-11-18T16:22:54.158720",
     "status": "completed"
    },
    "tags": []
   },
   "outputs": [],
   "source": [
    "previous_application['NAME_TYPE_SUITE'].value_counts()"
   ]
  },
  {
   "cell_type": "markdown",
   "metadata": {
    "papermill": {
     "duration": 0.27508,
     "end_time": "2020-11-18T16:22:55.336150",
     "exception": false,
     "start_time": "2020-11-18T16:22:55.061070",
     "status": "completed"
    },
    "tags": []
   },
   "source": [
    "### Suggestion\n",
    "We can Fill NA with Unaccompanied  i.e. Mode for this field "
   ]
  },
  {
   "cell_type": "code",
   "execution_count": null,
   "metadata": {
    "execution": {
     "iopub.execute_input": "2020-11-18T16:22:55.895117Z",
     "iopub.status.busy": "2020-11-18T16:22:55.894354Z",
     "iopub.status.idle": "2020-11-18T16:22:55.903843Z",
     "shell.execute_reply": "2020-11-18T16:22:55.903114Z"
    },
    "papermill": {
     "duration": 0.291099,
     "end_time": "2020-11-18T16:22:55.904027",
     "exception": false,
     "start_time": "2020-11-18T16:22:55.612928",
     "status": "completed"
    },
    "tags": []
   },
   "outputs": [],
   "source": [
    "print(\"CNT_PAYMENT NULL COUNT:\" ,previous_application['CNT_PAYMENT'].isnull().sum())"
   ]
  },
  {
   "cell_type": "code",
   "execution_count": null,
   "metadata": {
    "execution": {
     "iopub.execute_input": "2020-11-18T16:22:56.474555Z",
     "iopub.status.busy": "2020-11-18T16:22:56.473679Z",
     "iopub.status.idle": "2020-11-18T16:22:56.563310Z",
     "shell.execute_reply": "2020-11-18T16:22:56.562261Z"
    },
    "papermill": {
     "duration": 0.374711,
     "end_time": "2020-11-18T16:22:56.563522",
     "exception": false,
     "start_time": "2020-11-18T16:22:56.188811",
     "status": "completed"
    },
    "tags": []
   },
   "outputs": [],
   "source": [
    "previous_application['CNT_PAYMENT'].describe()"
   ]
  },
  {
   "cell_type": "code",
   "execution_count": null,
   "metadata": {
    "execution": {
     "iopub.execute_input": "2020-11-18T16:22:57.132634Z",
     "iopub.status.busy": "2020-11-18T16:22:57.125782Z",
     "iopub.status.idle": "2020-11-18T16:22:57.551118Z",
     "shell.execute_reply": "2020-11-18T16:22:57.550293Z"
    },
    "papermill": {
     "duration": 0.71071,
     "end_time": "2020-11-18T16:22:57.551276",
     "exception": false,
     "start_time": "2020-11-18T16:22:56.840566",
     "status": "completed"
    },
    "tags": []
   },
   "outputs": [],
   "source": [
    "sns.set_style('whitegrid') \n",
    "sns.boxplot(previous_application['CNT_PAYMENT']) \n",
    "plt.show()"
   ]
  },
  {
   "cell_type": "markdown",
   "metadata": {
    "papermill": {
     "duration": 0.277063,
     "end_time": "2020-11-18T16:22:58.108424",
     "exception": false,
     "start_time": "2020-11-18T16:22:57.831361",
     "status": "completed"
    },
    "tags": []
   },
   "source": [
    "### Suggestion\n",
    "We can Fill NA with 12 i.e. Median for this field "
   ]
  },
  {
   "cell_type": "code",
   "execution_count": null,
   "metadata": {
    "execution": {
     "iopub.execute_input": "2020-11-18T16:22:58.676620Z",
     "iopub.status.busy": "2020-11-18T16:22:58.675836Z",
     "iopub.status.idle": "2020-11-18T16:22:58.685471Z",
     "shell.execute_reply": "2020-11-18T16:22:58.684757Z"
    },
    "papermill": {
     "duration": 0.302088,
     "end_time": "2020-11-18T16:22:58.685604",
     "exception": false,
     "start_time": "2020-11-18T16:22:58.383516",
     "status": "completed"
    },
    "tags": []
   },
   "outputs": [],
   "source": [
    "print(\"DAYS_FIRST_DRAWING :\" ,previous_application['CNT_PAYMENT'].isnull().sum())"
   ]
  },
  {
   "cell_type": "code",
   "execution_count": null,
   "metadata": {
    "execution": {
     "iopub.execute_input": "2020-11-18T16:22:59.255676Z",
     "iopub.status.busy": "2020-11-18T16:22:59.254702Z",
     "iopub.status.idle": "2020-11-18T16:22:59.326492Z",
     "shell.execute_reply": "2020-11-18T16:22:59.325729Z"
    },
    "papermill": {
     "duration": 0.363721,
     "end_time": "2020-11-18T16:22:59.326618",
     "exception": false,
     "start_time": "2020-11-18T16:22:58.962897",
     "status": "completed"
    },
    "tags": []
   },
   "outputs": [],
   "source": [
    "previous_application['DAYS_FIRST_DRAWING'].describe()"
   ]
  },
  {
   "cell_type": "code",
   "execution_count": null,
   "metadata": {
    "execution": {
     "iopub.execute_input": "2020-11-18T16:22:59.923372Z",
     "iopub.status.busy": "2020-11-18T16:22:59.910927Z",
     "iopub.status.idle": "2020-11-18T16:23:00.349872Z",
     "shell.execute_reply": "2020-11-18T16:23:00.349040Z"
    },
    "papermill": {
     "duration": 0.736463,
     "end_time": "2020-11-18T16:23:00.350059",
     "exception": false,
     "start_time": "2020-11-18T16:22:59.613596",
     "status": "completed"
    },
    "tags": []
   },
   "outputs": [],
   "source": [
    "sns.set_style('whitegrid') \n",
    "sns.boxplot(previous_application['DAYS_FIRST_DRAWING']) \n",
    "plt.show()"
   ]
  },
  {
   "cell_type": "markdown",
   "metadata": {
    "papermill": {
     "duration": 0.28462,
     "end_time": "2020-11-18T16:23:00.922490",
     "exception": false,
     "start_time": "2020-11-18T16:23:00.637870",
     "status": "completed"
    },
    "tags": []
   },
   "source": [
    "### Suggestion\n",
    "We can Fill NA with 365243 i.e. Median for this field "
   ]
  },
  {
   "cell_type": "code",
   "execution_count": null,
   "metadata": {
    "execution": {
     "iopub.execute_input": "2020-11-18T16:23:01.497511Z",
     "iopub.status.busy": "2020-11-18T16:23:01.495762Z",
     "iopub.status.idle": "2020-11-18T16:23:01.506825Z",
     "shell.execute_reply": "2020-11-18T16:23:01.505356Z"
    },
    "papermill": {
     "duration": 0.300112,
     "end_time": "2020-11-18T16:23:01.507245",
     "exception": false,
     "start_time": "2020-11-18T16:23:01.207133",
     "status": "completed"
    },
    "tags": []
   },
   "outputs": [],
   "source": [
    "print(\"DAYS_FIRST_DUE :\" ,previous_application['DAYS_FIRST_DUE'].isnull().sum())"
   ]
  },
  {
   "cell_type": "code",
   "execution_count": null,
   "metadata": {
    "execution": {
     "iopub.execute_input": "2020-11-18T16:23:02.093520Z",
     "iopub.status.busy": "2020-11-18T16:23:02.092713Z",
     "iopub.status.idle": "2020-11-18T16:23:02.182818Z",
     "shell.execute_reply": "2020-11-18T16:23:02.183403Z"
    },
    "papermill": {
     "duration": 0.378838,
     "end_time": "2020-11-18T16:23:02.183585",
     "exception": false,
     "start_time": "2020-11-18T16:23:01.804747",
     "status": "completed"
    },
    "tags": []
   },
   "outputs": [],
   "source": [
    "previous_application['DAYS_FIRST_DUE'].describe()"
   ]
  },
  {
   "cell_type": "code",
   "execution_count": null,
   "metadata": {
    "execution": {
     "iopub.execute_input": "2020-11-18T16:23:02.766843Z",
     "iopub.status.busy": "2020-11-18T16:23:02.765774Z",
     "iopub.status.idle": "2020-11-18T16:23:03.167533Z",
     "shell.execute_reply": "2020-11-18T16:23:03.166731Z"
    },
    "papermill": {
     "duration": 0.702355,
     "end_time": "2020-11-18T16:23:03.167670",
     "exception": false,
     "start_time": "2020-11-18T16:23:02.465315",
     "status": "completed"
    },
    "tags": []
   },
   "outputs": [],
   "source": [
    "sns.set_style('whitegrid') \n",
    "sns.boxplot(previous_application['DAYS_FIRST_DUE']) \n",
    "plt.show()"
   ]
  },
  {
   "cell_type": "markdown",
   "metadata": {
    "papermill": {
     "duration": 0.280629,
     "end_time": "2020-11-18T16:23:03.728200",
     "exception": false,
     "start_time": "2020-11-18T16:23:03.447571",
     "status": "completed"
    },
    "tags": []
   },
   "source": [
    "### Suggestion\n",
    "We can Fill NA with -831 i.e. Median for this field "
   ]
  },
  {
   "cell_type": "code",
   "execution_count": null,
   "metadata": {
    "execution": {
     "iopub.execute_input": "2020-11-18T16:23:04.294673Z",
     "iopub.status.busy": "2020-11-18T16:23:04.293887Z",
     "iopub.status.idle": "2020-11-18T16:23:04.302697Z",
     "shell.execute_reply": "2020-11-18T16:23:04.303255Z"
    },
    "papermill": {
     "duration": 0.295912,
     "end_time": "2020-11-18T16:23:04.303424",
     "exception": false,
     "start_time": "2020-11-18T16:23:04.007512",
     "status": "completed"
    },
    "tags": []
   },
   "outputs": [],
   "source": [
    "print(\"DAYS_LAST_DUE_1ST_VERSION :\" ,previous_application['DAYS_LAST_DUE_1ST_VERSION'].isnull().sum())"
   ]
  },
  {
   "cell_type": "code",
   "execution_count": null,
   "metadata": {
    "execution": {
     "iopub.execute_input": "2020-11-18T16:23:04.873177Z",
     "iopub.status.busy": "2020-11-18T16:23:04.872348Z",
     "iopub.status.idle": "2020-11-18T16:23:04.955765Z",
     "shell.execute_reply": "2020-11-18T16:23:04.954917Z"
    },
    "papermill": {
     "duration": 0.372181,
     "end_time": "2020-11-18T16:23:04.955911",
     "exception": false,
     "start_time": "2020-11-18T16:23:04.583730",
     "status": "completed"
    },
    "tags": []
   },
   "outputs": [],
   "source": [
    "previous_application['DAYS_LAST_DUE_1ST_VERSION'].describe()"
   ]
  },
  {
   "cell_type": "code",
   "execution_count": null,
   "metadata": {
    "execution": {
     "iopub.execute_input": "2020-11-18T16:23:05.542512Z",
     "iopub.status.busy": "2020-11-18T16:23:05.541715Z",
     "iopub.status.idle": "2020-11-18T16:23:06.036767Z",
     "shell.execute_reply": "2020-11-18T16:23:06.036020Z"
    },
    "papermill": {
     "duration": 0.79658,
     "end_time": "2020-11-18T16:23:06.036906",
     "exception": false,
     "start_time": "2020-11-18T16:23:05.240326",
     "status": "completed"
    },
    "tags": []
   },
   "outputs": [],
   "source": [
    "sns.set_style('whitegrid') \n",
    "sns.boxplot(previous_application['DAYS_LAST_DUE_1ST_VERSION']) \n",
    "plt.show()"
   ]
  },
  {
   "cell_type": "markdown",
   "metadata": {
    "papermill": {
     "duration": 0.282936,
     "end_time": "2020-11-18T16:23:06.606946",
     "exception": false,
     "start_time": "2020-11-18T16:23:06.324010",
     "status": "completed"
    },
    "tags": []
   },
   "source": [
    "### Suggestion\n",
    "We can Fill NA with -361 i.e. Median for this field "
   ]
  },
  {
   "cell_type": "code",
   "execution_count": null,
   "metadata": {
    "execution": {
     "iopub.execute_input": "2020-11-18T16:23:07.178488Z",
     "iopub.status.busy": "2020-11-18T16:23:07.177693Z",
     "iopub.status.idle": "2020-11-18T16:23:07.185242Z",
     "shell.execute_reply": "2020-11-18T16:23:07.186055Z"
    },
    "papermill": {
     "duration": 0.297567,
     "end_time": "2020-11-18T16:23:07.186226",
     "exception": false,
     "start_time": "2020-11-18T16:23:06.888659",
     "status": "completed"
    },
    "tags": []
   },
   "outputs": [],
   "source": [
    "print(\"DAYS_LAST_DUE:\" ,previous_application['DAYS_LAST_DUE'].isnull().sum())"
   ]
  },
  {
   "cell_type": "code",
   "execution_count": null,
   "metadata": {
    "execution": {
     "iopub.execute_input": "2020-11-18T16:23:07.757674Z",
     "iopub.status.busy": "2020-11-18T16:23:07.756915Z",
     "iopub.status.idle": "2020-11-18T16:23:07.839803Z",
     "shell.execute_reply": "2020-11-18T16:23:07.839071Z"
    },
    "papermill": {
     "duration": 0.370059,
     "end_time": "2020-11-18T16:23:07.839939",
     "exception": false,
     "start_time": "2020-11-18T16:23:07.469880",
     "status": "completed"
    },
    "tags": []
   },
   "outputs": [],
   "source": [
    "previous_application['DAYS_LAST_DUE'].describe()"
   ]
  },
  {
   "cell_type": "code",
   "execution_count": null,
   "metadata": {
    "execution": {
     "iopub.execute_input": "2020-11-18T16:23:08.428879Z",
     "iopub.status.busy": "2020-11-18T16:23:08.427328Z",
     "iopub.status.idle": "2020-11-18T16:23:09.164275Z",
     "shell.execute_reply": "2020-11-18T16:23:09.163460Z"
    },
    "papermill": {
     "duration": 1.037074,
     "end_time": "2020-11-18T16:23:09.164411",
     "exception": false,
     "start_time": "2020-11-18T16:23:08.127337",
     "status": "completed"
    },
    "tags": []
   },
   "outputs": [],
   "source": [
    "sns.set_style('whitegrid') \n",
    "sns.boxplot(previous_application['DAYS_LAST_DUE']) \n",
    "plt.show()"
   ]
  },
  {
   "cell_type": "markdown",
   "metadata": {
    "papermill": {
     "duration": 0.287069,
     "end_time": "2020-11-18T16:23:09.734871",
     "exception": false,
     "start_time": "2020-11-18T16:23:09.447802",
     "status": "completed"
    },
    "tags": []
   },
   "source": [
    "### Suggestion\n",
    "We can Fill NA with -537 i.e. Median for this field "
   ]
  },
  {
   "cell_type": "code",
   "execution_count": null,
   "metadata": {
    "execution": {
     "iopub.execute_input": "2020-11-18T16:23:10.315092Z",
     "iopub.status.busy": "2020-11-18T16:23:10.314308Z",
     "iopub.status.idle": "2020-11-18T16:23:10.323860Z",
     "shell.execute_reply": "2020-11-18T16:23:10.323196Z"
    },
    "papermill": {
     "duration": 0.301305,
     "end_time": "2020-11-18T16:23:10.324027",
     "exception": false,
     "start_time": "2020-11-18T16:23:10.022722",
     "status": "completed"
    },
    "tags": []
   },
   "outputs": [],
   "source": [
    "print(\"DAYS_TERMINATION :\" ,previous_application['DAYS_TERMINATION'].isnull().sum())"
   ]
  },
  {
   "cell_type": "code",
   "execution_count": null,
   "metadata": {
    "execution": {
     "iopub.execute_input": "2020-11-18T16:23:10.923619Z",
     "iopub.status.busy": "2020-11-18T16:23:10.922830Z",
     "iopub.status.idle": "2020-11-18T16:23:11.007173Z",
     "shell.execute_reply": "2020-11-18T16:23:11.006459Z"
    },
    "papermill": {
     "duration": 0.379913,
     "end_time": "2020-11-18T16:23:11.007311",
     "exception": false,
     "start_time": "2020-11-18T16:23:10.627398",
     "status": "completed"
    },
    "tags": []
   },
   "outputs": [],
   "source": [
    "previous_application['DAYS_TERMINATION'].describe()"
   ]
  },
  {
   "cell_type": "code",
   "execution_count": null,
   "metadata": {
    "execution": {
     "iopub.execute_input": "2020-11-18T16:23:11.608068Z",
     "iopub.status.busy": "2020-11-18T16:23:11.607229Z",
     "iopub.status.idle": "2020-11-18T16:23:12.376438Z",
     "shell.execute_reply": "2020-11-18T16:23:12.375574Z"
    },
    "papermill": {
     "duration": 1.079939,
     "end_time": "2020-11-18T16:23:12.376583",
     "exception": false,
     "start_time": "2020-11-18T16:23:11.296644",
     "status": "completed"
    },
    "tags": []
   },
   "outputs": [],
   "source": [
    "sns.set_style('whitegrid') \n",
    "sns.boxplot(previous_application['DAYS_TERMINATION']) \n",
    "plt.show()"
   ]
  },
  {
   "cell_type": "markdown",
   "metadata": {
    "papermill": {
     "duration": 0.286525,
     "end_time": "2020-11-18T16:23:12.959623",
     "exception": false,
     "start_time": "2020-11-18T16:23:12.673098",
     "status": "completed"
    },
    "tags": []
   },
   "source": [
    "### Suggestion\n",
    "We can Fill NA with -499 i.e. Median for this field "
   ]
  },
  {
   "cell_type": "code",
   "execution_count": null,
   "metadata": {
    "execution": {
     "iopub.execute_input": "2020-11-18T16:23:13.554105Z",
     "iopub.status.busy": "2020-11-18T16:23:13.553040Z",
     "iopub.status.idle": "2020-11-18T16:23:13.562791Z",
     "shell.execute_reply": "2020-11-18T16:23:13.562034Z"
    },
    "papermill": {
     "duration": 0.311474,
     "end_time": "2020-11-18T16:23:13.562921",
     "exception": false,
     "start_time": "2020-11-18T16:23:13.251447",
     "status": "completed"
    },
    "tags": []
   },
   "outputs": [],
   "source": [
    "print(\"NFLAG_INSURED_ON_APPROVAL:\" ,previous_application['NFLAG_INSURED_ON_APPROVAL'].isnull().sum())"
   ]
  },
  {
   "cell_type": "code",
   "execution_count": null,
   "metadata": {
    "execution": {
     "iopub.execute_input": "2020-11-18T16:23:14.159122Z",
     "iopub.status.busy": "2020-11-18T16:23:14.158298Z",
     "iopub.status.idle": "2020-11-18T16:23:14.195904Z",
     "shell.execute_reply": "2020-11-18T16:23:14.195142Z"
    },
    "papermill": {
     "duration": 0.339229,
     "end_time": "2020-11-18T16:23:14.196055",
     "exception": false,
     "start_time": "2020-11-18T16:23:13.856826",
     "status": "completed"
    },
    "tags": []
   },
   "outputs": [],
   "source": [
    "previous_application['NFLAG_INSURED_ON_APPROVAL'].value_counts()"
   ]
  },
  {
   "cell_type": "markdown",
   "metadata": {
    "papermill": {
     "duration": 0.291424,
     "end_time": "2020-11-18T16:23:14.773661",
     "exception": false,
     "start_time": "2020-11-18T16:23:14.482237",
     "status": "completed"
    },
    "tags": []
   },
   "source": [
    "### Suggestion\n",
    "We can Fill NA with 0 i.e. Mode for this field "
   ]
  },
  {
   "cell_type": "code",
   "execution_count": null,
   "metadata": {
    "execution": {
     "iopub.execute_input": "2020-11-18T16:23:15.367063Z",
     "iopub.status.busy": "2020-11-18T16:23:15.365816Z",
     "iopub.status.idle": "2020-11-18T16:23:18.252266Z",
     "shell.execute_reply": "2020-11-18T16:23:18.251486Z"
    },
    "papermill": {
     "duration": 3.191582,
     "end_time": "2020-11-18T16:23:18.252394",
     "exception": false,
     "start_time": "2020-11-18T16:23:15.060812",
     "status": "completed"
    },
    "tags": []
   },
   "outputs": [],
   "source": [
    "previous_application.isnull().sum()"
   ]
  },
  {
   "cell_type": "code",
   "execution_count": null,
   "metadata": {
    "execution": {
     "iopub.execute_input": "2020-11-18T16:23:18.839832Z",
     "iopub.status.busy": "2020-11-18T16:23:18.838695Z",
     "iopub.status.idle": "2020-11-18T16:23:18.848141Z",
     "shell.execute_reply": "2020-11-18T16:23:18.846740Z"
    },
    "papermill": {
     "duration": 0.307395,
     "end_time": "2020-11-18T16:23:18.848330",
     "exception": false,
     "start_time": "2020-11-18T16:23:18.540935",
     "status": "completed"
    },
    "tags": []
   },
   "outputs": [],
   "source": [
    "print(\"AMT_CREDIT :\" ,previous_application['AMT_CREDIT'].isnull().sum())"
   ]
  },
  {
   "cell_type": "code",
   "execution_count": null,
   "metadata": {
    "execution": {
     "iopub.execute_input": "2020-11-18T16:23:19.435267Z",
     "iopub.status.busy": "2020-11-18T16:23:19.434539Z",
     "iopub.status.idle": "2020-11-18T16:23:19.510689Z",
     "shell.execute_reply": "2020-11-18T16:23:19.509908Z"
    },
    "papermill": {
     "duration": 0.369937,
     "end_time": "2020-11-18T16:23:19.510815",
     "exception": false,
     "start_time": "2020-11-18T16:23:19.140878",
     "status": "completed"
    },
    "tags": []
   },
   "outputs": [],
   "source": [
    "previous_application['AMT_CREDIT'].describe()"
   ]
  },
  {
   "cell_type": "code",
   "execution_count": null,
   "metadata": {
    "execution": {
     "iopub.execute_input": "2020-11-18T16:23:20.101703Z",
     "iopub.status.busy": "2020-11-18T16:23:20.096845Z",
     "iopub.status.idle": "2020-11-18T16:23:20.785761Z",
     "shell.execute_reply": "2020-11-18T16:23:20.785024Z"
    },
    "papermill": {
     "duration": 0.985065,
     "end_time": "2020-11-18T16:23:20.785891",
     "exception": false,
     "start_time": "2020-11-18T16:23:19.800826",
     "status": "completed"
    },
    "tags": []
   },
   "outputs": [],
   "source": [
    "sns.set_style('whitegrid') \n",
    "sns.boxplot(previous_application['AMT_CREDIT']) \n",
    "plt.show()\n"
   ]
  },
  {
   "cell_type": "markdown",
   "metadata": {
    "papermill": {
     "duration": 0.290183,
     "end_time": "2020-11-18T16:23:21.368235",
     "exception": false,
     "start_time": "2020-11-18T16:23:21.078052",
     "status": "completed"
    },
    "tags": []
   },
   "source": [
    "### Suggestion\n",
    "We can Fill NA with 80541 i.e. Median for this field "
   ]
  },
  {
   "cell_type": "code",
   "execution_count": null,
   "metadata": {
    "execution": {
     "iopub.execute_input": "2020-11-18T16:23:22.163476Z",
     "iopub.status.busy": "2020-11-18T16:23:22.162473Z",
     "iopub.status.idle": "2020-11-18T16:23:22.171348Z",
     "shell.execute_reply": "2020-11-18T16:23:22.170667Z"
    },
    "papermill": {
     "duration": 0.486414,
     "end_time": "2020-11-18T16:23:22.171480",
     "exception": false,
     "start_time": "2020-11-18T16:23:21.685066",
     "status": "completed"
    },
    "tags": []
   },
   "outputs": [],
   "source": [
    "print(\"PRODUCT_COMBINATION :\" ,previous_application['PRODUCT_COMBINATION'].isnull().sum())"
   ]
  },
  {
   "cell_type": "code",
   "execution_count": null,
   "metadata": {
    "execution": {
     "iopub.execute_input": "2020-11-18T16:23:23.242004Z",
     "iopub.status.busy": "2020-11-18T16:23:23.241238Z",
     "iopub.status.idle": "2020-11-18T16:23:23.250454Z",
     "shell.execute_reply": "2020-11-18T16:23:23.249848Z"
    },
    "papermill": {
     "duration": 0.782464,
     "end_time": "2020-11-18T16:23:23.250588",
     "exception": false,
     "start_time": "2020-11-18T16:23:22.468124",
     "status": "completed"
    },
    "tags": []
   },
   "outputs": [],
   "source": [
    "previous_application['PRODUCT_COMBINATION'].value_counts()"
   ]
  },
  {
   "cell_type": "markdown",
   "metadata": {
    "papermill": {
     "duration": 0.301128,
     "end_time": "2020-11-18T16:23:23.853493",
     "exception": false,
     "start_time": "2020-11-18T16:23:23.552365",
     "status": "completed"
    },
    "tags": []
   },
   "source": [
    "### Suggestion\n",
    "We can Fill NA with Cash i.e. Mode for this field "
   ]
  },
  {
   "cell_type": "code",
   "execution_count": null,
   "metadata": {
    "execution": {
     "iopub.execute_input": "2020-11-18T16:23:24.461120Z",
     "iopub.status.busy": "2020-11-18T16:23:24.460267Z",
     "iopub.status.idle": "2020-11-18T16:23:24.463454Z",
     "shell.execute_reply": "2020-11-18T16:23:24.464114Z"
    },
    "papermill": {
     "duration": 0.310156,
     "end_time": "2020-11-18T16:23:24.464279",
     "exception": false,
     "start_time": "2020-11-18T16:23:24.154123",
     "status": "completed"
    },
    "tags": []
   },
   "outputs": [],
   "source": [
    "class color:\n",
    "   PURPLE = '\\033[95m'\n",
    "   CYAN = '\\033[96m'\n",
    "   DARKCYAN = '\\033[36m'\n",
    "   BLUE = '\\033[94m'\n",
    "   GREEN = '\\033[92m'\n",
    "   YELLOW = '\\033[93m'\n",
    "   RED = '\\033[91m'\n",
    "   BOLD = '\\033[1m'\n",
    "   UNDERLINE = '\\033[4m'\n",
    "   END = '\\033[0m'"
   ]
  },
  {
   "cell_type": "markdown",
   "metadata": {
    "papermill": {
     "duration": 0.302141,
     "end_time": "2020-11-18T16:23:25.067741",
     "exception": false,
     "start_time": "2020-11-18T16:23:24.765600",
     "status": "completed"
    },
    "tags": []
   },
   "source": [
    "### Separating numerical and categorical columns from previous_application"
   ]
  },
  {
   "cell_type": "code",
   "execution_count": null,
   "metadata": {
    "execution": {
     "iopub.execute_input": "2020-11-18T16:23:26.342632Z",
     "iopub.status.busy": "2020-11-18T16:23:26.340860Z",
     "iopub.status.idle": "2020-11-18T16:23:26.346801Z",
     "shell.execute_reply": "2020-11-18T16:23:26.346177Z"
    },
    "papermill": {
     "duration": 0.9802,
     "end_time": "2020-11-18T16:23:26.346950",
     "exception": false,
     "start_time": "2020-11-18T16:23:25.366750",
     "status": "completed"
    },
    "tags": []
   },
   "outputs": [],
   "source": [
    "obj_dtypes = [i for i in previous_application.select_dtypes(include=np.object).columns if i not in [\"type\"] ]\n",
    "num_dtypes = [i for i in previous_application.select_dtypes(include = np.number).columns if i not in ['SK_ID_CURR'] + [ 'TARGET']]"
   ]
  },
  {
   "cell_type": "code",
   "execution_count": null,
   "metadata": {
    "execution": {
     "iopub.execute_input": "2020-11-18T16:23:26.943853Z",
     "iopub.status.busy": "2020-11-18T16:23:26.942927Z",
     "iopub.status.idle": "2020-11-18T16:23:26.948500Z",
     "shell.execute_reply": "2020-11-18T16:23:26.947395Z"
    },
    "papermill": {
     "duration": 0.302904,
     "end_time": "2020-11-18T16:23:26.948683",
     "exception": false,
     "start_time": "2020-11-18T16:23:26.645779",
     "status": "completed"
    },
    "tags": []
   },
   "outputs": [],
   "source": [
    "print(color.BOLD + color.PURPLE + 'Categorical Columns' + color.END, \"\\n\")\n",
    "for x in range(len(obj_dtypes)): \n",
    "    print(obj_dtypes[x])\n"
   ]
  },
  {
   "cell_type": "code",
   "execution_count": null,
   "metadata": {
    "execution": {
     "iopub.execute_input": "2020-11-18T16:23:27.542481Z",
     "iopub.status.busy": "2020-11-18T16:23:27.541655Z",
     "iopub.status.idle": "2020-11-18T16:23:27.547619Z",
     "shell.execute_reply": "2020-11-18T16:23:27.546700Z"
    },
    "papermill": {
     "duration": 0.305339,
     "end_time": "2020-11-18T16:23:27.547815",
     "exception": false,
     "start_time": "2020-11-18T16:23:27.242476",
     "status": "completed"
    },
    "tags": []
   },
   "outputs": [],
   "source": [
    "print(color.BOLD + color.PURPLE + 'Numerical' + color.END, \"\\n\")\n",
    "for x in range(len(obj_dtypes)): \n",
    "    print(obj_dtypes[x])"
   ]
  },
  {
   "cell_type": "markdown",
   "metadata": {
    "papermill": {
     "duration": 0.291436,
     "end_time": "2020-11-18T16:23:28.135604",
     "exception": false,
     "start_time": "2020-11-18T16:23:27.844168",
     "status": "completed"
    },
    "tags": []
   },
   "source": [
    "\n",
    "## Percentage of Missing values in application_data"
   ]
  },
  {
   "cell_type": "code",
   "execution_count": null,
   "metadata": {
    "execution": {
     "iopub.execute_input": "2020-11-18T16:23:28.731797Z",
     "iopub.status.busy": "2020-11-18T16:23:28.731047Z",
     "iopub.status.idle": "2020-11-18T16:23:34.215803Z",
     "shell.execute_reply": "2020-11-18T16:23:34.215187Z"
    },
    "papermill": {
     "duration": 5.789213,
     "end_time": "2020-11-18T16:23:34.215929",
     "exception": false,
     "start_time": "2020-11-18T16:23:28.426716",
     "status": "completed"
    },
    "tags": []
   },
   "outputs": [],
   "source": [
    "fig = plt.figure(figsize=(18,6))\n",
    "miss_application_data = pd.DataFrame((application_data.isnull().sum())*100/application_data.shape[0]).reset_index()\n",
    "miss_application_data[\"type\"] = \"application_data\"\n",
    "ax = sns.pointplot(\"index\",0,data=miss_application_data,hue=\"type\")\n",
    "plt.xticks(rotation =90,fontsize =7)\n",
    "plt.title(\"Percentage of Missing values in application_data\")\n",
    "plt.ylabel(\"PERCENTAGE\")\n",
    "plt.xlabel(\"COLUMNS\")\n",
    "ax.set_facecolor(\"k\")\n",
    "fig.set_facecolor(\"lightgrey\")"
   ]
  },
  {
   "cell_type": "code",
   "execution_count": null,
   "metadata": {
    "execution": {
     "iopub.execute_input": "2020-11-18T16:23:34.816648Z",
     "iopub.status.busy": "2020-11-18T16:23:34.815856Z",
     "iopub.status.idle": "2020-11-18T16:23:35.375010Z",
     "shell.execute_reply": "2020-11-18T16:23:35.374200Z"
    },
    "papermill": {
     "duration": 0.862148,
     "end_time": "2020-11-18T16:23:35.375144",
     "exception": false,
     "start_time": "2020-11-18T16:23:34.512996",
     "status": "completed"
    },
    "tags": []
   },
   "outputs": [],
   "source": [
    "round(100*(application_data.isnull().sum()/len(application_data.index)),2)"
   ]
  },
  {
   "cell_type": "markdown",
   "metadata": {
    "papermill": {
     "duration": 0.301534,
     "end_time": "2020-11-18T16:23:35.976131",
     "exception": false,
     "start_time": "2020-11-18T16:23:35.674597",
     "status": "completed"
    },
    "tags": []
   },
   "source": [
    "### Removing columns with missing values more than 40%\n",
    "\n",
    "As per Industrial Standard, max Threshold limit can be between 40% to 50 % depending upon the data acquired in specific sector."
   ]
  },
  {
   "cell_type": "code",
   "execution_count": null,
   "metadata": {
    "execution": {
     "iopub.execute_input": "2020-11-18T16:23:36.611357Z",
     "iopub.status.busy": "2020-11-18T16:23:36.609591Z",
     "iopub.status.idle": "2020-11-18T16:23:36.670429Z",
     "shell.execute_reply": "2020-11-18T16:23:36.669375Z"
    },
    "papermill": {
     "duration": 0.398156,
     "end_time": "2020-11-18T16:23:36.670700",
     "exception": false,
     "start_time": "2020-11-18T16:23:36.272544",
     "status": "completed"
    },
    "tags": []
   },
   "outputs": [],
   "source": [
    "application_data=application_data.drop([ 'EXT_SOURCE_1', 'EXT_SOURCE_2', 'EXT_SOURCE_3',\n",
    "       'APARTMENTS_AVG', 'BASEMENTAREA_AVG', 'YEARS_BEGINEXPLUATATION_AVG',\n",
    "       'YEARS_BUILD_AVG', 'COMMONAREA_AVG', 'ELEVATORS_AVG', 'ENTRANCES_AVG',\n",
    "       'FLOORSMAX_AVG', 'FLOORSMIN_AVG', 'LANDAREA_AVG',\n",
    "       'LIVINGAPARTMENTS_AVG', 'LIVINGAREA_AVG', 'NONLIVINGAPARTMENTS_AVG',\n",
    "       'NONLIVINGAREA_AVG', 'APARTMENTS_MODE', 'BASEMENTAREA_MODE',\n",
    "       'YEARS_BEGINEXPLUATATION_MODE', 'YEARS_BUILD_MODE', 'COMMONAREA_MODE',\n",
    "       'ELEVATORS_MODE', 'ENTRANCES_MODE', 'FLOORSMAX_MODE', 'FLOORSMIN_MODE',\n",
    "       'LANDAREA_MODE', 'LIVINGAPARTMENTS_MODE', 'LIVINGAREA_MODE',\n",
    "       'NONLIVINGAPARTMENTS_MODE', 'NONLIVINGAREA_MODE', 'APARTMENTS_MEDI',\n",
    "       'BASEMENTAREA_MEDI', 'YEARS_BEGINEXPLUATATION_MEDI', 'YEARS_BUILD_MEDI',\n",
    "       'COMMONAREA_MEDI', 'ELEVATORS_MEDI', 'ENTRANCES_MEDI', 'FLOORSMAX_MEDI',\n",
    "       'FLOORSMIN_MEDI', 'LANDAREA_MEDI', 'LIVINGAPARTMENTS_MEDI',\n",
    "       'LIVINGAREA_MEDI', 'NONLIVINGAPARTMENTS_MEDI', 'NONLIVINGAREA_MEDI',\n",
    "       'FONDKAPREMONT_MODE', 'HOUSETYPE_MODE', 'TOTALAREA_MODE',\n",
    "       'WALLSMATERIAL_MODE', 'EMERGENCYSTATE_MODE',\"OWN_CAR_AGE\",\"OCCUPATION_TYPE\"],axis=1)"
   ]
  },
  {
   "cell_type": "code",
   "execution_count": null,
   "metadata": {
    "execution": {
     "iopub.execute_input": "2020-11-18T16:23:37.281863Z",
     "iopub.status.busy": "2020-11-18T16:23:37.281080Z",
     "iopub.status.idle": "2020-11-18T16:23:40.561252Z",
     "shell.execute_reply": "2020-11-18T16:23:40.561828Z"
    },
    "papermill": {
     "duration": 3.590913,
     "end_time": "2020-11-18T16:23:40.561997",
     "exception": false,
     "start_time": "2020-11-18T16:23:36.971084",
     "status": "completed"
    },
    "tags": []
   },
   "outputs": [],
   "source": [
    "fig = plt.figure(figsize=(18,6))\n",
    "miss_application_data = pd.DataFrame((application_data.isnull().sum())*100/application_data.shape[0]).reset_index()\n",
    "miss_application_data[\"type\"] = \"application_data\"\n",
    "ax = sns.pointplot(\"index\",0,data=miss_application_data,hue=\"type\")\n",
    "plt.xticks(rotation =90,fontsize =7)\n",
    "plt.title(\"Percentage of Missing values in application_data\")\n",
    "plt.ylabel(\"PERCENTAGE\")\n",
    "plt.xlabel(\"COLUMNS\")\n",
    "ax.set_facecolor(\"k\")\n",
    "fig.set_facecolor(\"lightgrey\")\n",
    "\n"
   ]
  },
  {
   "cell_type": "code",
   "execution_count": null,
   "metadata": {
    "execution": {
     "iopub.execute_input": "2020-11-18T16:23:41.175943Z",
     "iopub.status.busy": "2020-11-18T16:23:41.175194Z",
     "iopub.status.idle": "2020-11-18T16:23:41.571479Z",
     "shell.execute_reply": "2020-11-18T16:23:41.572035Z"
    },
    "papermill": {
     "duration": 0.706982,
     "end_time": "2020-11-18T16:23:41.572232",
     "exception": false,
     "start_time": "2020-11-18T16:23:40.865250",
     "status": "completed"
    },
    "tags": []
   },
   "outputs": [],
   "source": [
    "round(100*(application_data.isnull().sum()/len(application_data.index)),2)"
   ]
  },
  {
   "cell_type": "markdown",
   "metadata": {
    "papermill": {
     "duration": 0.301099,
     "end_time": "2020-11-18T16:23:42.176041",
     "exception": false,
     "start_time": "2020-11-18T16:23:41.874942",
     "status": "completed"
    },
    "tags": []
   },
   "source": [
    "### MISSING values Suggestion"
   ]
  },
  {
   "cell_type": "code",
   "execution_count": null,
   "metadata": {
    "execution": {
     "iopub.execute_input": "2020-11-18T16:23:42.792832Z",
     "iopub.status.busy": "2020-11-18T16:23:42.792077Z",
     "iopub.status.idle": "2020-11-18T16:23:42.799176Z",
     "shell.execute_reply": "2020-11-18T16:23:42.798382Z"
    },
    "papermill": {
     "duration": 0.323089,
     "end_time": "2020-11-18T16:23:42.799308",
     "exception": false,
     "start_time": "2020-11-18T16:23:42.476219",
     "status": "completed"
    },
    "tags": []
   },
   "outputs": [],
   "source": [
    "print(\"AMT_REQ_CREDIT_BUREAU_DAY NAN COUNT :\" ,application_data['AMT_REQ_CREDIT_BUREAU_DAY'].isnull().sum())"
   ]
  },
  {
   "cell_type": "code",
   "execution_count": null,
   "metadata": {
    "execution": {
     "iopub.execute_input": "2020-11-18T16:23:43.410889Z",
     "iopub.status.busy": "2020-11-18T16:23:43.409831Z",
     "iopub.status.idle": "2020-11-18T16:23:43.428132Z",
     "shell.execute_reply": "2020-11-18T16:23:43.427472Z"
    },
    "papermill": {
     "duration": 0.328429,
     "end_time": "2020-11-18T16:23:43.428284",
     "exception": false,
     "start_time": "2020-11-18T16:23:43.099855",
     "status": "completed"
    },
    "tags": []
   },
   "outputs": [],
   "source": [
    "application_data['AMT_REQ_CREDIT_BUREAU_DAY'].describe()"
   ]
  },
  {
   "cell_type": "markdown",
   "metadata": {
    "papermill": {
     "duration": 0.302774,
     "end_time": "2020-11-18T16:23:44.062581",
     "exception": false,
     "start_time": "2020-11-18T16:23:43.759807",
     "status": "completed"
    },
    "tags": []
   },
   "source": [
    "### Suggestion\n",
    "We can Fill NA with 0 i.e. Median for this field "
   ]
  },
  {
   "cell_type": "code",
   "execution_count": null,
   "metadata": {
    "execution": {
     "iopub.execute_input": "2020-11-18T16:23:44.685727Z",
     "iopub.status.busy": "2020-11-18T16:23:44.684867Z",
     "iopub.status.idle": "2020-11-18T16:23:44.690533Z",
     "shell.execute_reply": "2020-11-18T16:23:44.689914Z"
    },
    "papermill": {
     "duration": 0.319864,
     "end_time": "2020-11-18T16:23:44.690685",
     "exception": false,
     "start_time": "2020-11-18T16:23:44.370821",
     "status": "completed"
    },
    "tags": []
   },
   "outputs": [],
   "source": [
    "print(\"AMT_REQ_CREDIT_BUREAU_HOUR NAN COUNT :\" ,application_data['AMT_REQ_CREDIT_BUREAU_HOUR'].isnull().sum())"
   ]
  },
  {
   "cell_type": "code",
   "execution_count": null,
   "metadata": {
    "execution": {
     "iopub.execute_input": "2020-11-18T16:23:45.310455Z",
     "iopub.status.busy": "2020-11-18T16:23:45.309382Z",
     "iopub.status.idle": "2020-11-18T16:23:45.326693Z",
     "shell.execute_reply": "2020-11-18T16:23:45.325890Z"
    },
    "papermill": {
     "duration": 0.331077,
     "end_time": "2020-11-18T16:23:45.326825",
     "exception": false,
     "start_time": "2020-11-18T16:23:44.995748",
     "status": "completed"
    },
    "tags": []
   },
   "outputs": [],
   "source": [
    "application_data['AMT_REQ_CREDIT_BUREAU_HOUR'].describe()"
   ]
  },
  {
   "cell_type": "markdown",
   "metadata": {
    "papermill": {
     "duration": 0.305393,
     "end_time": "2020-11-18T16:23:45.934586",
     "exception": false,
     "start_time": "2020-11-18T16:23:45.629193",
     "status": "completed"
    },
    "tags": []
   },
   "source": [
    "### Suggestion\n",
    "We can Fill NA with 0 i.e. Median for this field "
   ]
  },
  {
   "cell_type": "code",
   "execution_count": null,
   "metadata": {
    "execution": {
     "iopub.execute_input": "2020-11-18T16:23:46.562382Z",
     "iopub.status.busy": "2020-11-18T16:23:46.561455Z",
     "iopub.status.idle": "2020-11-18T16:23:46.568275Z",
     "shell.execute_reply": "2020-11-18T16:23:46.569132Z"
    },
    "papermill": {
     "duration": 0.322904,
     "end_time": "2020-11-18T16:23:46.569368",
     "exception": false,
     "start_time": "2020-11-18T16:23:46.246464",
     "status": "completed"
    },
    "tags": []
   },
   "outputs": [],
   "source": [
    "print(\"AMT_REQ_CREDIT_BUREAU_MON NAN COUNT :\" ,application_data['AMT_REQ_CREDIT_BUREAU_MON'].isnull().sum())"
   ]
  },
  {
   "cell_type": "code",
   "execution_count": null,
   "metadata": {
    "execution": {
     "iopub.execute_input": "2020-11-18T16:23:47.186930Z",
     "iopub.status.busy": "2020-11-18T16:23:47.186187Z",
     "iopub.status.idle": "2020-11-18T16:23:47.204721Z",
     "shell.execute_reply": "2020-11-18T16:23:47.205280Z"
    },
    "papermill": {
     "duration": 0.330785,
     "end_time": "2020-11-18T16:23:47.205455",
     "exception": false,
     "start_time": "2020-11-18T16:23:46.874670",
     "status": "completed"
    },
    "tags": []
   },
   "outputs": [],
   "source": [
    "application_data['AMT_REQ_CREDIT_BUREAU_MON'].describe()"
   ]
  },
  {
   "cell_type": "markdown",
   "metadata": {
    "papermill": {
     "duration": 0.303933,
     "end_time": "2020-11-18T16:23:47.813523",
     "exception": false,
     "start_time": "2020-11-18T16:23:47.509590",
     "status": "completed"
    },
    "tags": []
   },
   "source": [
    "### Suggestion\n",
    "We can Fill NA with 0 i.e. Median for this field "
   ]
  },
  {
   "cell_type": "code",
   "execution_count": null,
   "metadata": {
    "execution": {
     "iopub.execute_input": "2020-11-18T16:23:48.474010Z",
     "iopub.status.busy": "2020-11-18T16:23:48.473195Z",
     "iopub.status.idle": "2020-11-18T16:23:48.478929Z",
     "shell.execute_reply": "2020-11-18T16:23:48.479760Z"
    },
    "papermill": {
     "duration": 0.350396,
     "end_time": "2020-11-18T16:23:48.479955",
     "exception": false,
     "start_time": "2020-11-18T16:23:48.129559",
     "status": "completed"
    },
    "tags": []
   },
   "outputs": [],
   "source": [
    "print(\"AMT_REQ_CREDIT_BUREAU_QRT NAN COUNT :\" ,application_data['AMT_REQ_CREDIT_BUREAU_QRT'].isnull().sum())"
   ]
  },
  {
   "cell_type": "markdown",
   "metadata": {
    "papermill": {
     "duration": 0.372201,
     "end_time": "2020-11-18T16:23:49.167093",
     "exception": false,
     "start_time": "2020-11-18T16:23:48.794892",
     "status": "completed"
    },
    "tags": []
   },
   "source": [
    "### Suggestion\n",
    "We can Fill NA with 0 i.e. Median for this field "
   ]
  },
  {
   "cell_type": "code",
   "execution_count": null,
   "metadata": {
    "execution": {
     "iopub.execute_input": "2020-11-18T16:23:49.787177Z",
     "iopub.status.busy": "2020-11-18T16:23:49.786355Z",
     "iopub.status.idle": "2020-11-18T16:23:49.792273Z",
     "shell.execute_reply": "2020-11-18T16:23:49.791665Z"
    },
    "papermill": {
     "duration": 0.319006,
     "end_time": "2020-11-18T16:23:49.792407",
     "exception": false,
     "start_time": "2020-11-18T16:23:49.473401",
     "status": "completed"
    },
    "tags": []
   },
   "outputs": [],
   "source": [
    "print(\"AMT_REQ_CREDIT_BUREAU_WEEK NAN COUNT :\" ,application_data['AMT_REQ_CREDIT_BUREAU_WEEK'].isnull().sum())"
   ]
  },
  {
   "cell_type": "code",
   "execution_count": null,
   "metadata": {
    "execution": {
     "iopub.execute_input": "2020-11-18T16:23:50.427167Z",
     "iopub.status.busy": "2020-11-18T16:23:50.426408Z",
     "iopub.status.idle": "2020-11-18T16:23:50.445305Z",
     "shell.execute_reply": "2020-11-18T16:23:50.444513Z"
    },
    "papermill": {
     "duration": 0.332003,
     "end_time": "2020-11-18T16:23:50.445447",
     "exception": false,
     "start_time": "2020-11-18T16:23:50.113444",
     "status": "completed"
    },
    "tags": []
   },
   "outputs": [],
   "source": [
    "application_data['AMT_REQ_CREDIT_BUREAU_WEEK'].describe()"
   ]
  },
  {
   "cell_type": "markdown",
   "metadata": {
    "papermill": {
     "duration": 0.310922,
     "end_time": "2020-11-18T16:23:51.113535",
     "exception": false,
     "start_time": "2020-11-18T16:23:50.802613",
     "status": "completed"
    },
    "tags": []
   },
   "source": [
    "### Suggestion\n",
    "We can Fill NA with 0 i.e. Median for this field "
   ]
  },
  {
   "cell_type": "code",
   "execution_count": null,
   "metadata": {
    "execution": {
     "iopub.execute_input": "2020-11-18T16:23:51.733186Z",
     "iopub.status.busy": "2020-11-18T16:23:51.732091Z",
     "iopub.status.idle": "2020-11-18T16:23:51.738165Z",
     "shell.execute_reply": "2020-11-18T16:23:51.737540Z"
    },
    "papermill": {
     "duration": 0.316706,
     "end_time": "2020-11-18T16:23:51.738304",
     "exception": false,
     "start_time": "2020-11-18T16:23:51.421598",
     "status": "completed"
    },
    "tags": []
   },
   "outputs": [],
   "source": [
    "print(\"AMT_REQ_CREDIT_BUREAU_YEAR NAN COUNT :\" ,application_data['AMT_REQ_CREDIT_BUREAU_YEAR'].isnull().sum())"
   ]
  },
  {
   "cell_type": "code",
   "execution_count": null,
   "metadata": {
    "execution": {
     "iopub.execute_input": "2020-11-18T16:23:52.372845Z",
     "iopub.status.busy": "2020-11-18T16:23:52.372110Z",
     "iopub.status.idle": "2020-11-18T16:23:52.393777Z",
     "shell.execute_reply": "2020-11-18T16:23:52.393137Z"
    },
    "papermill": {
     "duration": 0.339434,
     "end_time": "2020-11-18T16:23:52.393902",
     "exception": false,
     "start_time": "2020-11-18T16:23:52.054468",
     "status": "completed"
    },
    "tags": []
   },
   "outputs": [],
   "source": [
    "application_data['AMT_REQ_CREDIT_BUREAU_YEAR'].describe()"
   ]
  },
  {
   "cell_type": "markdown",
   "metadata": {
    "papermill": {
     "duration": 0.313188,
     "end_time": "2020-11-18T16:23:53.018182",
     "exception": false,
     "start_time": "2020-11-18T16:23:52.704994",
     "status": "completed"
    },
    "tags": []
   },
   "source": [
    "### Suggestion\n",
    "We can Fill NA with 0 i.e. Median for this field "
   ]
  },
  {
   "cell_type": "code",
   "execution_count": null,
   "metadata": {
    "execution": {
     "iopub.execute_input": "2020-11-18T16:23:53.647253Z",
     "iopub.status.busy": "2020-11-18T16:23:53.646223Z",
     "iopub.status.idle": "2020-11-18T16:23:53.651985Z",
     "shell.execute_reply": "2020-11-18T16:23:53.651175Z"
    },
    "papermill": {
     "duration": 0.323367,
     "end_time": "2020-11-18T16:23:53.652123",
     "exception": false,
     "start_time": "2020-11-18T16:23:53.328756",
     "status": "completed"
    },
    "tags": []
   },
   "outputs": [],
   "source": [
    "print(\"DEF_30_CNT_SOCIAL_CIRCLE NAN COUNT :\" ,application_data['DEF_30_CNT_SOCIAL_CIRCLE'].isnull().sum())"
   ]
  },
  {
   "cell_type": "code",
   "execution_count": null,
   "metadata": {
    "execution": {
     "iopub.execute_input": "2020-11-18T16:23:54.319847Z",
     "iopub.status.busy": "2020-11-18T16:23:54.318763Z",
     "iopub.status.idle": "2020-11-18T16:23:54.336661Z",
     "shell.execute_reply": "2020-11-18T16:23:54.335880Z"
    },
    "papermill": {
     "duration": 0.362092,
     "end_time": "2020-11-18T16:23:54.336791",
     "exception": false,
     "start_time": "2020-11-18T16:23:53.974699",
     "status": "completed"
    },
    "tags": []
   },
   "outputs": [],
   "source": [
    "application_data['DEF_30_CNT_SOCIAL_CIRCLE'].describe()"
   ]
  },
  {
   "cell_type": "markdown",
   "metadata": {
    "papermill": {
     "duration": 0.336046,
     "end_time": "2020-11-18T16:23:54.986249",
     "exception": false,
     "start_time": "2020-11-18T16:23:54.650203",
     "status": "completed"
    },
    "tags": []
   },
   "source": [
    "### Suggestion\n",
    "We can Fill NA with 0 i.e. Median for this field "
   ]
  },
  {
   "cell_type": "code",
   "execution_count": null,
   "metadata": {
    "execution": {
     "iopub.execute_input": "2020-11-18T16:23:55.621446Z",
     "iopub.status.busy": "2020-11-18T16:23:55.620587Z",
     "iopub.status.idle": "2020-11-18T16:23:55.627123Z",
     "shell.execute_reply": "2020-11-18T16:23:55.626228Z"
    },
    "papermill": {
     "duration": 0.322448,
     "end_time": "2020-11-18T16:23:55.627288",
     "exception": false,
     "start_time": "2020-11-18T16:23:55.304840",
     "status": "completed"
    },
    "tags": []
   },
   "outputs": [],
   "source": [
    "print(\"DEF_30_CNT_SOCIAL_CIRCLE :\" ,application_data['DEF_30_CNT_SOCIAL_CIRCLE'].isnull().sum())"
   ]
  },
  {
   "cell_type": "code",
   "execution_count": null,
   "metadata": {
    "execution": {
     "iopub.execute_input": "2020-11-18T16:23:56.277011Z",
     "iopub.status.busy": "2020-11-18T16:23:56.276183Z",
     "iopub.status.idle": "2020-11-18T16:23:56.295871Z",
     "shell.execute_reply": "2020-11-18T16:23:56.295092Z"
    },
    "papermill": {
     "duration": 0.346174,
     "end_time": "2020-11-18T16:23:56.296022",
     "exception": false,
     "start_time": "2020-11-18T16:23:55.949848",
     "status": "completed"
    },
    "tags": []
   },
   "outputs": [],
   "source": [
    "application_data['DEF_30_CNT_SOCIAL_CIRCLE'].describe()"
   ]
  },
  {
   "cell_type": "markdown",
   "metadata": {
    "papermill": {
     "duration": 0.316802,
     "end_time": "2020-11-18T16:23:56.926550",
     "exception": false,
     "start_time": "2020-11-18T16:23:56.609748",
     "status": "completed"
    },
    "tags": []
   },
   "source": [
    "### Suggestion\n",
    "We can Fill NA with 0 i.e. Median for this field "
   ]
  },
  {
   "cell_type": "code",
   "execution_count": null,
   "metadata": {
    "execution": {
     "iopub.execute_input": "2020-11-18T16:23:57.562800Z",
     "iopub.status.busy": "2020-11-18T16:23:57.561720Z",
     "iopub.status.idle": "2020-11-18T16:23:57.567989Z",
     "shell.execute_reply": "2020-11-18T16:23:57.567381Z"
    },
    "papermill": {
     "duration": 0.32528,
     "end_time": "2020-11-18T16:23:57.568124",
     "exception": false,
     "start_time": "2020-11-18T16:23:57.242844",
     "status": "completed"
    },
    "tags": []
   },
   "outputs": [],
   "source": [
    "print(\"OBS_60_CNT_SOCIAL_CIRCLE :\" ,application_data['OBS_60_CNT_SOCIAL_CIRCLE'].isnull().sum())"
   ]
  },
  {
   "cell_type": "code",
   "execution_count": null,
   "metadata": {
    "execution": {
     "iopub.execute_input": "2020-11-18T16:23:58.222877Z",
     "iopub.status.busy": "2020-11-18T16:23:58.221820Z",
     "iopub.status.idle": "2020-11-18T16:23:58.245198Z",
     "shell.execute_reply": "2020-11-18T16:23:58.244395Z"
    },
    "papermill": {
     "duration": 0.365288,
     "end_time": "2020-11-18T16:23:58.245502",
     "exception": false,
     "start_time": "2020-11-18T16:23:57.880214",
     "status": "completed"
    },
    "tags": []
   },
   "outputs": [],
   "source": [
    "application_data['OBS_60_CNT_SOCIAL_CIRCLE'].describe()"
   ]
  },
  {
   "cell_type": "markdown",
   "metadata": {
    "papermill": {
     "duration": 0.312211,
     "end_time": "2020-11-18T16:23:58.872493",
     "exception": false,
     "start_time": "2020-11-18T16:23:58.560282",
     "status": "completed"
    },
    "tags": []
   },
   "source": [
    "### Suggestion\n",
    "We can Fill NA with 0 i.e. Median for this field "
   ]
  },
  {
   "cell_type": "code",
   "execution_count": null,
   "metadata": {
    "execution": {
     "iopub.execute_input": "2020-11-18T16:23:59.520026Z",
     "iopub.status.busy": "2020-11-18T16:23:59.519114Z",
     "iopub.status.idle": "2020-11-18T16:23:59.524426Z",
     "shell.execute_reply": "2020-11-18T16:23:59.525019Z"
    },
    "papermill": {
     "duration": 0.334598,
     "end_time": "2020-11-18T16:23:59.525181",
     "exception": false,
     "start_time": "2020-11-18T16:23:59.190583",
     "status": "completed"
    },
    "tags": []
   },
   "outputs": [],
   "source": [
    "print(\"DEF_60_CNT_SOCIAL_CIRCLE :\" ,application_data['DEF_60_CNT_SOCIAL_CIRCLE'].isnull().sum())"
   ]
  },
  {
   "cell_type": "code",
   "execution_count": null,
   "metadata": {
    "execution": {
     "iopub.execute_input": "2020-11-18T16:24:00.154360Z",
     "iopub.status.busy": "2020-11-18T16:24:00.153629Z",
     "iopub.status.idle": "2020-11-18T16:24:00.170304Z",
     "shell.execute_reply": "2020-11-18T16:24:00.169689Z"
    },
    "papermill": {
     "duration": 0.334852,
     "end_time": "2020-11-18T16:24:00.170449",
     "exception": false,
     "start_time": "2020-11-18T16:23:59.835597",
     "status": "completed"
    },
    "tags": []
   },
   "outputs": [],
   "source": [
    "application_data['DEF_60_CNT_SOCIAL_CIRCLE'].describe()"
   ]
  },
  {
   "cell_type": "markdown",
   "metadata": {
    "papermill": {
     "duration": 0.315888,
     "end_time": "2020-11-18T16:24:00.802505",
     "exception": false,
     "start_time": "2020-11-18T16:24:00.486617",
     "status": "completed"
    },
    "tags": []
   },
   "source": [
    "### Suggestion\n",
    "We can Fill NA with 0 i.e. Median for this field "
   ]
  },
  {
   "cell_type": "code",
   "execution_count": null,
   "metadata": {
    "execution": {
     "iopub.execute_input": "2020-11-18T16:24:01.435282Z",
     "iopub.status.busy": "2020-11-18T16:24:01.434504Z",
     "iopub.status.idle": "2020-11-18T16:24:01.841507Z",
     "shell.execute_reply": "2020-11-18T16:24:01.840669Z"
    },
    "papermill": {
     "duration": 0.725272,
     "end_time": "2020-11-18T16:24:01.841648",
     "exception": false,
     "start_time": "2020-11-18T16:24:01.116376",
     "status": "completed"
    },
    "tags": []
   },
   "outputs": [],
   "source": [
    "application_data.isnull().sum()"
   ]
  },
  {
   "cell_type": "code",
   "execution_count": null,
   "metadata": {
    "execution": {
     "iopub.execute_input": "2020-11-18T16:24:02.485716Z",
     "iopub.status.busy": "2020-11-18T16:24:02.484876Z",
     "iopub.status.idle": "2020-11-18T16:24:02.491597Z",
     "shell.execute_reply": "2020-11-18T16:24:02.490822Z"
    },
    "papermill": {
     "duration": 0.325001,
     "end_time": "2020-11-18T16:24:02.491729",
     "exception": false,
     "start_time": "2020-11-18T16:24:02.166728",
     "status": "completed"
    },
    "tags": []
   },
   "outputs": [],
   "source": [
    "print(\"AMT_ANNUITY  :\" ,application_data['AMT_ANNUITY'].isnull().sum())"
   ]
  },
  {
   "cell_type": "code",
   "execution_count": null,
   "metadata": {
    "execution": {
     "iopub.execute_input": "2020-11-18T16:24:03.133432Z",
     "iopub.status.busy": "2020-11-18T16:24:03.132127Z",
     "iopub.status.idle": "2020-11-18T16:24:03.154629Z",
     "shell.execute_reply": "2020-11-18T16:24:03.153876Z"
    },
    "papermill": {
     "duration": 0.346201,
     "end_time": "2020-11-18T16:24:03.154763",
     "exception": false,
     "start_time": "2020-11-18T16:24:02.808562",
     "status": "completed"
    },
    "tags": []
   },
   "outputs": [],
   "source": [
    "application_data['AMT_ANNUITY'].describe()"
   ]
  },
  {
   "cell_type": "code",
   "execution_count": null,
   "metadata": {
    "execution": {
     "iopub.execute_input": "2020-11-18T16:24:03.856517Z",
     "iopub.status.busy": "2020-11-18T16:24:03.848085Z",
     "iopub.status.idle": "2020-11-18T16:24:04.356128Z",
     "shell.execute_reply": "2020-11-18T16:24:04.355471Z"
    },
    "papermill": {
     "duration": 0.879969,
     "end_time": "2020-11-18T16:24:04.356257",
     "exception": false,
     "start_time": "2020-11-18T16:24:03.476288",
     "status": "completed"
    },
    "tags": []
   },
   "outputs": [],
   "source": [
    "sns.set_style('whitegrid') \n",
    "sns.distplot(application_data['AMT_ANNUITY']) \n",
    "plt.show()"
   ]
  },
  {
   "cell_type": "markdown",
   "metadata": {
    "papermill": {
     "duration": 0.315516,
     "end_time": "2020-11-18T16:24:04.992364",
     "exception": false,
     "start_time": "2020-11-18T16:24:04.676848",
     "status": "completed"
    },
    "tags": []
   },
   "source": [
    "### Suggestion\n",
    "We can Fill NA with 0 i.e. Mean for this field as it's right skewed graph"
   ]
  },
  {
   "cell_type": "code",
   "execution_count": null,
   "metadata": {
    "execution": {
     "iopub.execute_input": "2020-11-18T16:24:05.661777Z",
     "iopub.status.busy": "2020-11-18T16:24:05.661017Z",
     "iopub.status.idle": "2020-11-18T16:24:05.666784Z",
     "shell.execute_reply": "2020-11-18T16:24:05.666043Z"
    },
    "papermill": {
     "duration": 0.350773,
     "end_time": "2020-11-18T16:24:05.666912",
     "exception": false,
     "start_time": "2020-11-18T16:24:05.316139",
     "status": "completed"
    },
    "tags": []
   },
   "outputs": [],
   "source": [
    "print(\"AMT_GOODS_PRICE   :\" ,application_data['AMT_GOODS_PRICE'].isnull().sum())"
   ]
  },
  {
   "cell_type": "code",
   "execution_count": null,
   "metadata": {
    "execution": {
     "iopub.execute_input": "2020-11-18T16:24:06.321966Z",
     "iopub.status.busy": "2020-11-18T16:24:06.321217Z",
     "iopub.status.idle": "2020-11-18T16:24:06.342032Z",
     "shell.execute_reply": "2020-11-18T16:24:06.341438Z"
    },
    "papermill": {
     "duration": 0.34549,
     "end_time": "2020-11-18T16:24:06.342161",
     "exception": false,
     "start_time": "2020-11-18T16:24:05.996671",
     "status": "completed"
    },
    "tags": []
   },
   "outputs": [],
   "source": [
    "application_data['AMT_GOODS_PRICE'].describe()"
   ]
  },
  {
   "cell_type": "code",
   "execution_count": null,
   "metadata": {
    "execution": {
     "iopub.execute_input": "2020-11-18T16:24:06.988656Z",
     "iopub.status.busy": "2020-11-18T16:24:06.987867Z",
     "iopub.status.idle": "2020-11-18T16:24:07.450537Z",
     "shell.execute_reply": "2020-11-18T16:24:07.449894Z"
    },
    "papermill": {
     "duration": 0.792013,
     "end_time": "2020-11-18T16:24:07.450671",
     "exception": false,
     "start_time": "2020-11-18T16:24:06.658658",
     "status": "completed"
    },
    "tags": []
   },
   "outputs": [],
   "source": [
    "sns.set_style('whitegrid') \n",
    "sns.distplot(application_data['AMT_GOODS_PRICE']) \n",
    "plt.show()"
   ]
  },
  {
   "cell_type": "markdown",
   "metadata": {
    "papermill": {
     "duration": 0.319063,
     "end_time": "2020-11-18T16:24:08.089369",
     "exception": false,
     "start_time": "2020-11-18T16:24:07.770306",
     "status": "completed"
    },
    "tags": []
   },
   "source": [
    "### Suggestion\n",
    "We can Fill NA with 0 i.e. Mean for this field as it's right skewed graph"
   ]
  },
  {
   "cell_type": "code",
   "execution_count": null,
   "metadata": {
    "execution": {
     "iopub.execute_input": "2020-11-18T16:24:08.771067Z",
     "iopub.status.busy": "2020-11-18T16:24:08.770259Z",
     "iopub.status.idle": "2020-11-18T16:24:08.777411Z",
     "shell.execute_reply": "2020-11-18T16:24:08.776519Z"
    },
    "papermill": {
     "duration": 0.366433,
     "end_time": "2020-11-18T16:24:08.777566",
     "exception": false,
     "start_time": "2020-11-18T16:24:08.411133",
     "status": "completed"
    },
    "tags": []
   },
   "outputs": [],
   "source": [
    "print(\"NAME_TYPE_SUITE :\" ,application_data['NAME_TYPE_SUITE'].isnull().sum())"
   ]
  },
  {
   "cell_type": "code",
   "execution_count": null,
   "metadata": {
    "execution": {
     "iopub.execute_input": "2020-11-18T16:24:09.515056Z",
     "iopub.status.busy": "2020-11-18T16:24:09.514275Z",
     "iopub.status.idle": "2020-11-18T16:24:09.524266Z",
     "shell.execute_reply": "2020-11-18T16:24:09.523506Z"
    },
    "papermill": {
     "duration": 0.421015,
     "end_time": "2020-11-18T16:24:09.524398",
     "exception": false,
     "start_time": "2020-11-18T16:24:09.103383",
     "status": "completed"
    },
    "tags": []
   },
   "outputs": [],
   "source": [
    "application_data['NAME_TYPE_SUITE'].value_counts()"
   ]
  },
  {
   "cell_type": "markdown",
   "metadata": {
    "papermill": {
     "duration": 0.324807,
     "end_time": "2020-11-18T16:24:10.166616",
     "exception": false,
     "start_time": "2020-11-18T16:24:09.841809",
     "status": "completed"
    },
    "tags": []
   },
   "source": [
    "### Suggestion\n",
    "We can Fill NA with \"Unaccompanied\" i.e. Mode for this field "
   ]
  },
  {
   "cell_type": "code",
   "execution_count": null,
   "metadata": {
    "execution": {
     "iopub.execute_input": "2020-11-18T16:24:10.811453Z",
     "iopub.status.busy": "2020-11-18T16:24:10.810315Z",
     "iopub.status.idle": "2020-11-18T16:24:10.816384Z",
     "shell.execute_reply": "2020-11-18T16:24:10.815554Z"
    },
    "papermill": {
     "duration": 0.330635,
     "end_time": "2020-11-18T16:24:10.816582",
     "exception": false,
     "start_time": "2020-11-18T16:24:10.485947",
     "status": "completed"
    },
    "tags": []
   },
   "outputs": [],
   "source": [
    "print(\"CNT_FAM_MEMBERS :\" ,application_data['CNT_FAM_MEMBERS'].isnull().sum())"
   ]
  },
  {
   "cell_type": "code",
   "execution_count": null,
   "metadata": {
    "execution": {
     "iopub.execute_input": "2020-11-18T16:24:11.480321Z",
     "iopub.status.busy": "2020-11-18T16:24:11.479196Z",
     "iopub.status.idle": "2020-11-18T16:24:11.499869Z",
     "shell.execute_reply": "2020-11-18T16:24:11.499124Z"
    },
    "papermill": {
     "duration": 0.352223,
     "end_time": "2020-11-18T16:24:11.500026",
     "exception": false,
     "start_time": "2020-11-18T16:24:11.147803",
     "status": "completed"
    },
    "tags": []
   },
   "outputs": [],
   "source": [
    "application_data['CNT_FAM_MEMBERS'].describe()"
   ]
  },
  {
   "cell_type": "code",
   "execution_count": null,
   "metadata": {
    "execution": {
     "iopub.execute_input": "2020-11-18T16:24:12.163822Z",
     "iopub.status.busy": "2020-11-18T16:24:12.157823Z",
     "iopub.status.idle": "2020-11-18T16:24:12.653403Z",
     "shell.execute_reply": "2020-11-18T16:24:12.652605Z"
    },
    "papermill": {
     "duration": 0.832526,
     "end_time": "2020-11-18T16:24:12.653542",
     "exception": false,
     "start_time": "2020-11-18T16:24:11.821016",
     "status": "completed"
    },
    "tags": []
   },
   "outputs": [],
   "source": [
    "sns.set_style('whitegrid') \n",
    "sns.distplot(application_data['CNT_FAM_MEMBERS']) \n",
    "plt.show()"
   ]
  },
  {
   "cell_type": "markdown",
   "metadata": {
    "papermill": {
     "duration": 0.325564,
     "end_time": "2020-11-18T16:24:13.304515",
     "exception": false,
     "start_time": "2020-11-18T16:24:12.978951",
     "status": "completed"
    },
    "tags": []
   },
   "source": [
    "### Suggestion\n",
    "We can Fill NA with 2 i.e. Median for this field, Mean is not be used as this field needs to be Whole number"
   ]
  },
  {
   "cell_type": "code",
   "execution_count": null,
   "metadata": {
    "execution": {
     "iopub.execute_input": "2020-11-18T16:24:13.951352Z",
     "iopub.status.busy": "2020-11-18T16:24:13.950379Z",
     "iopub.status.idle": "2020-11-18T16:24:13.956846Z",
     "shell.execute_reply": "2020-11-18T16:24:13.956216Z"
    },
    "papermill": {
     "duration": 0.331407,
     "end_time": "2020-11-18T16:24:13.956991",
     "exception": false,
     "start_time": "2020-11-18T16:24:13.625584",
     "status": "completed"
    },
    "tags": []
   },
   "outputs": [],
   "source": [
    "print(\"DAYS_LAST_PHONE_CHANGE :\" ,application_data['DAYS_LAST_PHONE_CHANGE'].isnull().sum())"
   ]
  },
  {
   "cell_type": "code",
   "execution_count": null,
   "metadata": {
    "execution": {
     "iopub.execute_input": "2020-11-18T16:24:14.614093Z",
     "iopub.status.busy": "2020-11-18T16:24:14.613276Z",
     "iopub.status.idle": "2020-11-18T16:24:14.634498Z",
     "shell.execute_reply": "2020-11-18T16:24:14.633743Z"
    },
    "papermill": {
     "duration": 0.352042,
     "end_time": "2020-11-18T16:24:14.634625",
     "exception": false,
     "start_time": "2020-11-18T16:24:14.282583",
     "status": "completed"
    },
    "tags": []
   },
   "outputs": [],
   "source": [
    "application_data['DAYS_LAST_PHONE_CHANGE'].describe()"
   ]
  },
  {
   "cell_type": "code",
   "execution_count": null,
   "metadata": {
    "execution": {
     "iopub.execute_input": "2020-11-18T16:24:15.286699Z",
     "iopub.status.busy": "2020-11-18T16:24:15.285929Z",
     "iopub.status.idle": "2020-11-18T16:24:15.384889Z",
     "shell.execute_reply": "2020-11-18T16:24:15.384300Z"
    },
    "papermill": {
     "duration": 0.427188,
     "end_time": "2020-11-18T16:24:15.385074",
     "exception": false,
     "start_time": "2020-11-18T16:24:14.957886",
     "status": "completed"
    },
    "tags": []
   },
   "outputs": [],
   "source": [
    "import statistics \n",
    "statistics.mode(application_data['DAYS_LAST_PHONE_CHANGE'])"
   ]
  },
  {
   "cell_type": "markdown",
   "metadata": {
    "papermill": {
     "duration": 0.327173,
     "end_time": "2020-11-18T16:24:16.037281",
     "exception": false,
     "start_time": "2020-11-18T16:24:15.710108",
     "status": "completed"
    },
    "tags": []
   },
   "source": [
    "### Suggestion\n",
    "We can Fill NA with 0 i.e. Mode for this field"
   ]
  },
  {
   "cell_type": "markdown",
   "metadata": {
    "papermill": {
     "duration": 0.347373,
     "end_time": "2020-11-18T16:24:16.709504",
     "exception": false,
     "start_time": "2020-11-18T16:24:16.362131",
     "status": "completed"
    },
    "tags": []
   },
   "source": [
    "## Print the information about the attributes of application_data"
   ]
  },
  {
   "cell_type": "code",
   "execution_count": null,
   "metadata": {
    "execution": {
     "iopub.execute_input": "2020-11-18T16:24:17.410213Z",
     "iopub.status.busy": "2020-11-18T16:24:17.409490Z",
     "iopub.status.idle": "2020-11-18T16:24:17.829851Z",
     "shell.execute_reply": "2020-11-18T16:24:17.830649Z"
    },
    "papermill": {
     "duration": 0.752506,
     "end_time": "2020-11-18T16:24:17.830822",
     "exception": false,
     "start_time": "2020-11-18T16:24:17.078316",
     "status": "completed"
    },
    "tags": []
   },
   "outputs": [],
   "source": [
    "print(type(application_data.info()))"
   ]
  },
  {
   "cell_type": "markdown",
   "metadata": {
    "papermill": {
     "duration": 0.32722,
     "end_time": "2020-11-18T16:24:18.483279",
     "exception": false,
     "start_time": "2020-11-18T16:24:18.156059",
     "status": "completed"
    },
    "tags": []
   },
   "source": [
    "# Converting negative values to absolute values\n"
   ]
  },
  {
   "cell_type": "code",
   "execution_count": null,
   "metadata": {
    "execution": {
     "iopub.execute_input": "2020-11-18T16:24:19.148794Z",
     "iopub.status.busy": "2020-11-18T16:24:19.148037Z",
     "iopub.status.idle": "2020-11-18T16:24:19.161672Z",
     "shell.execute_reply": "2020-11-18T16:24:19.160871Z"
    },
    "papermill": {
     "duration": 0.350335,
     "end_time": "2020-11-18T16:24:19.161806",
     "exception": false,
     "start_time": "2020-11-18T16:24:18.811471",
     "status": "completed"
    },
    "tags": []
   },
   "outputs": [],
   "source": [
    "application_data['DAYS_BIRTH'] = abs(application_data['DAYS_BIRTH'])\n",
    "application_data['DAYS_ID_PUBLISH'] = abs(application_data['DAYS_ID_PUBLISH'])\n",
    "application_data['DAYS_ID_PUBLISH'] = abs(application_data['DAYS_ID_PUBLISH'])\n",
    "application_data['DAYS_LAST_PHONE_CHANGE'] = abs(application_data['DAYS_LAST_PHONE_CHANGE'])\n",
    "\n"
   ]
  },
  {
   "cell_type": "code",
   "execution_count": null,
   "metadata": {
    "execution": {
     "iopub.execute_input": "2020-11-18T16:24:19.816030Z",
     "iopub.status.busy": "2020-11-18T16:24:19.814955Z",
     "iopub.status.idle": "2020-11-18T16:24:19.880671Z",
     "shell.execute_reply": "2020-11-18T16:24:19.879938Z"
    },
    "papermill": {
     "duration": 0.396236,
     "end_time": "2020-11-18T16:24:19.880798",
     "exception": false,
     "start_time": "2020-11-18T16:24:19.484562",
     "status": "completed"
    },
    "tags": []
   },
   "outputs": [],
   "source": [
    "display(\"application_data\")\n",
    "display(application_data.head())"
   ]
  },
  {
   "cell_type": "markdown",
   "metadata": {
    "papermill": {
     "duration": 0.323478,
     "end_time": "2020-11-18T16:24:20.532767",
     "exception": false,
     "start_time": "2020-11-18T16:24:20.209289",
     "status": "completed"
    },
    "tags": []
   },
   "source": [
    "### Separating numerical and categorical  in application_data\n"
   ]
  },
  {
   "cell_type": "code",
   "execution_count": null,
   "metadata": {
    "execution": {
     "iopub.execute_input": "2020-11-18T16:24:21.193144Z",
     "iopub.status.busy": "2020-11-18T16:24:21.192308Z",
     "iopub.status.idle": "2020-11-18T16:24:21.291729Z",
     "shell.execute_reply": "2020-11-18T16:24:21.291078Z"
    },
    "papermill": {
     "duration": 0.432814,
     "end_time": "2020-11-18T16:24:21.291866",
     "exception": false,
     "start_time": "2020-11-18T16:24:20.859052",
     "status": "completed"
    },
    "tags": []
   },
   "outputs": [],
   "source": [
    "obj_dtypes = [i for i in application_data.select_dtypes(include=np.object).columns if i not in [\"type\"] ]\n",
    "num_dtypes = [i for i in application_data.select_dtypes(include = np.number).columns if i not in ['SK_ID_CURR'] + [ 'TARGET']]"
   ]
  },
  {
   "cell_type": "code",
   "execution_count": null,
   "metadata": {
    "execution": {
     "iopub.execute_input": "2020-11-18T16:24:21.956457Z",
     "iopub.status.busy": "2020-11-18T16:24:21.955528Z",
     "iopub.status.idle": "2020-11-18T16:24:21.959268Z",
     "shell.execute_reply": "2020-11-18T16:24:21.960423Z"
    },
    "papermill": {
     "duration": 0.34001,
     "end_time": "2020-11-18T16:24:21.960644",
     "exception": false,
     "start_time": "2020-11-18T16:24:21.620634",
     "status": "completed"
    },
    "tags": []
   },
   "outputs": [],
   "source": [
    "print(color.BOLD + color.PURPLE + 'Categorical Columns' + color.END, \"\\n\")\n",
    "for x in range(len(obj_dtypes)): \n",
    "    print(obj_dtypes[x])"
   ]
  },
  {
   "cell_type": "code",
   "execution_count": null,
   "metadata": {
    "execution": {
     "iopub.execute_input": "2020-11-18T16:24:22.631582Z",
     "iopub.status.busy": "2020-11-18T16:24:22.630538Z",
     "iopub.status.idle": "2020-11-18T16:24:22.634323Z",
     "shell.execute_reply": "2020-11-18T16:24:22.635342Z"
    },
    "papermill": {
     "duration": 0.343838,
     "end_time": "2020-11-18T16:24:22.635583",
     "exception": false,
     "start_time": "2020-11-18T16:24:22.291745",
     "status": "completed"
    },
    "tags": []
   },
   "outputs": [],
   "source": [
    "print(color.BOLD + color.PURPLE +\"Numerical Columns\" + color.END, \"\\n\")\n",
    "for x in range(len(num_dtypes)): \n",
    "    print(num_dtypes[x])"
   ]
  },
  {
   "cell_type": "markdown",
   "metadata": {
    "papermill": {
     "duration": 0.336568,
     "end_time": "2020-11-18T16:24:23.300038",
     "exception": false,
     "start_time": "2020-11-18T16:24:22.963470",
     "status": "completed"
    },
    "tags": []
   },
   "source": [
    "\n",
    "## Imbalance percentage"
   ]
  },
  {
   "cell_type": "code",
   "execution_count": null,
   "metadata": {
    "execution": {
     "iopub.execute_input": "2020-11-18T16:24:23.989148Z",
     "iopub.status.busy": "2020-11-18T16:24:23.987893Z",
     "iopub.status.idle": "2020-11-18T16:24:24.186318Z",
     "shell.execute_reply": "2020-11-18T16:24:24.186944Z"
    },
    "papermill": {
     "duration": 0.55971,
     "end_time": "2020-11-18T16:24:24.187149",
     "exception": false,
     "start_time": "2020-11-18T16:24:23.627439",
     "status": "completed"
    },
    "tags": []
   },
   "outputs": [],
   "source": [
    "fig = plt.figure(figsize=(13,6))\n",
    "plt.subplot(121)\n",
    "application_data[\"CODE_GENDER\"].value_counts().plot.pie(autopct = \"%1.0f%%\",colors = [\"red\",\"yellow\"],startangle = 60,\n",
    "                                                                        wedgeprops={\"linewidth\":2,\"edgecolor\":\"k\"},explode=[.05,0,0],shadow =True)\n",
    "plt.title(\"Distribution of gender\")\n",
    "plt.show()"
   ]
  },
  {
   "cell_type": "markdown",
   "metadata": {
    "papermill": {
     "duration": 0.336741,
     "end_time": "2020-11-18T16:24:24.870879",
     "exception": false,
     "start_time": "2020-11-18T16:24:24.534138",
     "status": "completed"
    },
    "tags": []
   },
   "source": [
    "### Point to infer from the graph\n",
    "It's non balanced data"
   ]
  },
  {
   "cell_type": "markdown",
   "metadata": {
    "papermill": {
     "duration": 0.328839,
     "end_time": "2020-11-18T16:24:25.535616",
     "exception": false,
     "start_time": "2020-11-18T16:24:25.206777",
     "status": "completed"
    },
    "tags": []
   },
   "source": [
    "\n",
    "## Distribution of Target variable"
   ]
  },
  {
   "cell_type": "markdown",
   "metadata": {
    "papermill": {
     "duration": 0.338165,
     "end_time": "2020-11-18T16:24:26.202047",
     "exception": false,
     "start_time": "2020-11-18T16:24:25.863882",
     "status": "completed"
    },
    "tags": []
   },
   "source": [
    "TARGET :Target variable (1 - client with payment difficulties: he/she had late payment more than X days on at least one of the first Y installments of the loan in sample, 0 - all other cases)\n"
   ]
  },
  {
   "cell_type": "code",
   "execution_count": null,
   "metadata": {
    "execution": {
     "iopub.execute_input": "2020-11-18T16:24:26.881598Z",
     "iopub.status.busy": "2020-11-18T16:24:26.878833Z",
     "iopub.status.idle": "2020-11-18T16:24:27.269861Z",
     "shell.execute_reply": "2020-11-18T16:24:27.269292Z"
    },
    "papermill": {
     "duration": 0.731548,
     "end_time": "2020-11-18T16:24:27.270021",
     "exception": false,
     "start_time": "2020-11-18T16:24:26.538473",
     "status": "completed"
    },
    "tags": []
   },
   "outputs": [],
   "source": [
    "plt.figure(figsize=(14,7))\n",
    "plt.subplot(121)\n",
    "application_data[\"TARGET\"].value_counts().plot.pie(autopct = \"%1.0f%%\",colors = sns.color_palette(\"prism\",7),startangle = 60,labels=[\"repayer\",\"defaulter\"],\n",
    "                                                                        wedgeprops={\"linewidth\":2,\"edgecolor\":\"k\"},explode=[.1,0],shadow =True)\n",
    "plt.title(\"Distribution of target variable\")\n",
    "\n",
    "plt.subplot(122)\n",
    "ax = application_data[\"TARGET\"].value_counts().plot(kind=\"barh\")\n",
    "\n",
    "for i,j in enumerate(application_data[\"TARGET\"].value_counts().values):\n",
    "    ax.text(.7,i,j,weight = \"bold\",fontsize=20)\n",
    "\n",
    "plt.title(\"Count of target variable\")\n",
    "plt.show()"
   ]
  },
  {
   "cell_type": "markdown",
   "metadata": {
    "papermill": {
     "duration": 0.33702,
     "end_time": "2020-11-18T16:24:27.968477",
     "exception": false,
     "start_time": "2020-11-18T16:24:27.631457",
     "status": "completed"
    },
    "tags": []
   },
   "source": [
    "### Point to infer from the graph\n",
    "8% out of total client population have difficulties in repaying loans."
   ]
  },
  {
   "cell_type": "markdown",
   "metadata": {
    "papermill": {
     "duration": 0.340312,
     "end_time": "2020-11-18T16:24:28.642935",
     "exception": false,
     "start_time": "2020-11-18T16:24:28.302623",
     "status": "completed"
    },
    "tags": []
   },
   "source": [
    "### Concatenating application_data and previous_application"
   ]
  },
  {
   "cell_type": "code",
   "execution_count": null,
   "metadata": {
    "execution": {
     "iopub.execute_input": "2020-11-18T16:24:29.350862Z",
     "iopub.status.busy": "2020-11-18T16:24:29.350080Z",
     "iopub.status.idle": "2020-11-18T16:24:34.076372Z",
     "shell.execute_reply": "2020-11-18T16:24:34.077012Z"
    },
    "papermill": {
     "duration": 5.104124,
     "end_time": "2020-11-18T16:24:34.077193",
     "exception": false,
     "start_time": "2020-11-18T16:24:28.973069",
     "status": "completed"
    },
    "tags": []
   },
   "outputs": [],
   "source": [
    "application_data_x = application_data[[x for x in application_data.columns if x not in [\"TARGET\"]]]\n",
    "previous_application_x = previous_application[[x for x in previous_application.columns if x not in [\"TARGET\"]]]\n",
    "application_data_x[\"type\"] = \"application_data\"\n",
    "previous_application_x[\"type\"] = \"previous_application\"\n",
    "data = pd.concat([application_data_x,previous_application_x],axis=0) "
   ]
  },
  {
   "cell_type": "markdown",
   "metadata": {
    "papermill": {
     "duration": 0.330465,
     "end_time": "2020-11-18T16:24:34.740536",
     "exception": false,
     "start_time": "2020-11-18T16:24:34.410071",
     "status": "completed"
    },
    "tags": []
   },
   "source": [
    "## Distribution in Contract types in application_data \n",
    "\n",
    "NAME_CONTRACT_TYPE : Identification if loan is cash , consumer or revolving\n"
   ]
  },
  {
   "cell_type": "code",
   "execution_count": null,
   "metadata": {
    "execution": {
     "iopub.execute_input": "2020-11-18T16:24:35.603906Z",
     "iopub.status.busy": "2020-11-18T16:24:35.601403Z",
     "iopub.status.idle": "2020-11-18T16:24:41.467515Z",
     "shell.execute_reply": "2020-11-18T16:24:41.468099Z"
    },
    "papermill": {
     "duration": 6.350465,
     "end_time": "2020-11-18T16:24:41.468297",
     "exception": false,
     "start_time": "2020-11-18T16:24:35.117832",
     "status": "completed"
    },
    "tags": []
   },
   "outputs": [],
   "source": [
    "plt.figure(figsize=(14,7))\n",
    "plt.subplot(121)\n",
    "data[data[\"type\"] == \"application_data\"][\"NAME_CONTRACT_TYPE\"].value_counts().plot.pie(autopct = \"%1.0f%%\",colors = [\"orange\",\"red\"],startangle = 60,\n",
    "                                                                        wedgeprops={\"linewidth\":2,\"edgecolor\":\"white\"},shadow =True)\n",
    "circ = plt.Circle((0,0),.7,color=\"white\")\n",
    "plt.gca().add_artist(circ)\n",
    "plt.title(\"distribution of contract types in application_data\")\n",
    "\n",
    "plt.subplot(122)\n",
    "data[data[\"type\"] == \"previous_application\"][\"NAME_CONTRACT_TYPE\"].value_counts().plot.pie(autopct = \"%1.2f%%\",colors = [\"red\",\"yellow\",\"green\",'BLACK'],startangle = 60,\n",
    "                                                                        wedgeprops={\"linewidth\":2,\"edgecolor\":\"white\"},shadow =True)\n",
    "circ = plt.Circle((0,0),.7,color=\"white\")\n",
    "plt.gca().add_artist(circ)\n",
    "plt.ylabel(\"\")\n",
    "plt.title(\"distribution of contract types in previous_application\")\n",
    "plt.show()\n",
    "\n",
    "plt.show()"
   ]
  },
  {
   "cell_type": "markdown",
   "metadata": {
    "papermill": {
     "duration": 0.33767,
     "end_time": "2020-11-18T16:24:42.144048",
     "exception": false,
     "start_time": "2020-11-18T16:24:41.806378",
     "status": "completed"
    },
    "tags": []
   },
   "source": [
    "### Point to infer from the graph\n",
    "\n",
    "The percentage of revolving loans and cash loans are 10% & 90%."
   ]
  },
  {
   "cell_type": "markdown",
   "metadata": {
    "papermill": {
     "duration": 0.346992,
     "end_time": "2020-11-18T16:24:42.828121",
     "exception": false,
     "start_time": "2020-11-18T16:24:42.481129",
     "status": "completed"
    },
    "tags": []
   },
   "source": [
    "## Gender Distribution in application_data "
   ]
  },
  {
   "cell_type": "code",
   "execution_count": null,
   "metadata": {
    "execution": {
     "iopub.execute_input": "2020-11-18T16:24:43.517963Z",
     "iopub.status.busy": "2020-11-18T16:24:43.516804Z",
     "iopub.status.idle": "2020-11-18T16:24:44.188631Z",
     "shell.execute_reply": "2020-11-18T16:24:44.187799Z"
    },
    "papermill": {
     "duration": 1.025289,
     "end_time": "2020-11-18T16:24:44.188836",
     "exception": false,
     "start_time": "2020-11-18T16:24:43.163547",
     "status": "completed"
    },
    "tags": []
   },
   "outputs": [],
   "source": [
    "fig = plt.figure(figsize=(13,6))\n",
    "plt.subplot(121)\n",
    "data[data[\"type\"] == \"application_data\"][\"CODE_GENDER\"].value_counts().plot.pie(autopct = \"%1.0f%%\",colors = [\"red\",\"yellow\"],startangle = 60,\n",
    "                                                                        wedgeprops={\"linewidth\":2,\"edgecolor\":\"k\"},explode=[.05,0,0],shadow =True)\n",
    "plt.title(\"distribution of gender in application_data\")\n",
    "plt.show()"
   ]
  },
  {
   "cell_type": "markdown",
   "metadata": {
    "papermill": {
     "duration": 0.332902,
     "end_time": "2020-11-18T16:24:44.861129",
     "exception": false,
     "start_time": "2020-11-18T16:24:44.528227",
     "status": "completed"
    },
    "tags": []
   },
   "source": [
    "### Point to infer from the graph\n",
    "\n",
    "Female : 66% \n",
    "\n",
    "Male : 34% "
   ]
  },
  {
   "cell_type": "markdown",
   "metadata": {
    "papermill": {
     "duration": 0.339482,
     "end_time": "2020-11-18T16:24:45.540358",
     "exception": false,
     "start_time": "2020-11-18T16:24:45.200876",
     "status": "completed"
    },
    "tags": []
   },
   "source": [
    "## Distribution of Contract type by gender"
   ]
  },
  {
   "cell_type": "code",
   "execution_count": null,
   "metadata": {
    "execution": {
     "iopub.execute_input": "2020-11-18T16:24:46.243503Z",
     "iopub.status.busy": "2020-11-18T16:24:46.240920Z",
     "iopub.status.idle": "2020-11-18T16:24:58.503740Z",
     "shell.execute_reply": "2020-11-18T16:24:58.502994Z"
    },
    "papermill": {
     "duration": 12.624739,
     "end_time": "2020-11-18T16:24:58.503907",
     "exception": false,
     "start_time": "2020-11-18T16:24:45.879168",
     "status": "completed"
    },
    "tags": []
   },
   "outputs": [],
   "source": [
    "fig  = plt.figure(figsize=(13,6))\n",
    "plt.subplot(121)\n",
    "ax = sns.countplot(\"NAME_CONTRACT_TYPE\",hue=\"CODE_GENDER\",data=data[data[\"type\"] == \"application_data\"],palette=[\"r\",\"b\",\"g\"])\n",
    "ax.set_facecolor(\"lightgrey\")\n",
    "ax.set_title(\"Distribution of Contract type by gender -application_data\")\n",
    "\n",
    "\n",
    "plt.show()\n"
   ]
  },
  {
   "cell_type": "markdown",
   "metadata": {
    "papermill": {
     "duration": 0.339393,
     "end_time": "2020-11-18T16:24:59.195221",
     "exception": false,
     "start_time": "2020-11-18T16:24:58.855828",
     "status": "completed"
    },
    "tags": []
   },
   "source": [
    "### Point to infer from the graph\n",
    "\n",
    "Cash loans is always prefered over Revolving loans by both genders"
   ]
  },
  {
   "cell_type": "markdown",
   "metadata": {
    "papermill": {
     "duration": 0.341295,
     "end_time": "2020-11-18T16:24:59.873013",
     "exception": false,
     "start_time": "2020-11-18T16:24:59.531718",
     "status": "completed"
    },
    "tags": []
   },
   "source": [
    "## Distribution of client owning a car and by gender\n",
    "\n",
    "FLAG_OWN_CAR Flag if the client owns a car ."
   ]
  },
  {
   "cell_type": "code",
   "execution_count": null,
   "metadata": {
    "execution": {
     "iopub.execute_input": "2020-11-18T16:25:00.599427Z",
     "iopub.status.busy": "2020-11-18T16:25:00.598192Z",
     "iopub.status.idle": "2020-11-18T16:25:01.208091Z",
     "shell.execute_reply": "2020-11-18T16:25:01.208802Z"
    },
    "papermill": {
     "duration": 0.983692,
     "end_time": "2020-11-18T16:25:01.208960",
     "exception": false,
     "start_time": "2020-11-18T16:25:00.225268",
     "status": "completed"
    },
    "tags": []
   },
   "outputs": [],
   "source": [
    "fig = plt.figure(figsize=(13,6))\n",
    "\n",
    "plt.subplot(121)\n",
    "data[\"FLAG_OWN_CAR\"].value_counts().plot.pie(autopct = \"%1.0f%%\",colors = [\"gold\",\"orangered\"],startangle = 60,\n",
    "                                                                        wedgeprops={\"linewidth\":2,\"edgecolor\":\"k\"},explode=[.05,0],shadow =True)\n",
    "plt.title(\"distribution of client owning a car\")\n",
    "\n",
    "plt.subplot(122)\n",
    "data[data[\"FLAG_OWN_CAR\"] == \"Y\"][\"CODE_GENDER\"].value_counts().plot.pie(autopct = \"%1.0f%%\",colors = [\"b\",\"orangered\"],startangle = 90,\n",
    "                                                                        wedgeprops={\"linewidth\":2,\"edgecolor\":\"k\"},explode=[.05,0,0],shadow =True)\n",
    "plt.title(\"distribution of client owning a car by gender\")\n",
    "\n",
    "plt.show()"
   ]
  },
  {
   "cell_type": "markdown",
   "metadata": {
    "papermill": {
     "duration": 0.341281,
     "end_time": "2020-11-18T16:25:01.897902",
     "exception": false,
     "start_time": "2020-11-18T16:25:01.556621",
     "status": "completed"
    },
    "tags": []
   },
   "source": [
    "### Point to infer from the graph\n",
    "\n",
    "SUBPLOT 1 : Distribution of client owning a car. 34% of clients own a car .\n",
    "\n",
    "SUBPLOT 2 : Distribution of client owning a car by gender. Out of total clients who own car 57% are male and 43% are female."
   ]
  },
  {
   "cell_type": "markdown",
   "metadata": {
    "papermill": {
     "duration": 0.344155,
     "end_time": "2020-11-18T16:25:02.604569",
     "exception": false,
     "start_time": "2020-11-18T16:25:02.260414",
     "status": "completed"
    },
    "tags": []
   },
   "source": [
    "## Distribution of client owning a house or flat and by gender\n",
    "\n",
    "FLAG_OWN_REALTY - Flag if client owns a house or flat"
   ]
  },
  {
   "cell_type": "code",
   "execution_count": null,
   "metadata": {
    "execution": {
     "iopub.execute_input": "2020-11-18T16:25:03.305548Z",
     "iopub.status.busy": "2020-11-18T16:25:03.304470Z",
     "iopub.status.idle": "2020-11-18T16:25:03.998159Z",
     "shell.execute_reply": "2020-11-18T16:25:03.997404Z"
    },
    "papermill": {
     "duration": 1.055637,
     "end_time": "2020-11-18T16:25:03.998286",
     "exception": false,
     "start_time": "2020-11-18T16:25:02.942649",
     "status": "completed"
    },
    "tags": []
   },
   "outputs": [],
   "source": [
    "plt.figure(figsize=(13,6))\n",
    "plt.subplot(121)\n",
    "data[\"FLAG_OWN_REALTY\"].value_counts().plot.pie(autopct = \"%1.0f%%\",colors = [\"skyblue\",\"gold\"],startangle = 90,\n",
    "                                              wedgeprops={\"linewidth\":2,\"edgecolor\":\"k\"},explode=[0.05,0],shadow =True)\n",
    "plt.title(\"Distribution of client owns a house or flat\")\n",
    "\n",
    "plt.subplot(122)\n",
    "data[data[\"FLAG_OWN_REALTY\"] == \"Y\"][\"CODE_GENDER\"].value_counts().plot.pie(autopct = \"%1.0f%%\",colors = [\"orangered\",\"b\"],startangle = 90,\n",
    "                                                                        wedgeprops={\"linewidth\":2,\"edgecolor\":\"k\"},explode=[.05,0,0],shadow =True)\n",
    "plt.title(\"Distribution of client owning a house or flat by gender\")\n",
    "plt.show()"
   ]
  },
  {
   "cell_type": "markdown",
   "metadata": {
    "papermill": {
     "duration": 0.341216,
     "end_time": "2020-11-18T16:25:04.682651",
     "exception": false,
     "start_time": "2020-11-18T16:25:04.341435",
     "status": "completed"
    },
    "tags": []
   },
   "source": [
    "### Point to infer from the graph\n",
    "\n",
    "SUBPLOT 1 : Distribution of client owning a house or flat . 69% of clients own a flat or house .\n",
    "\n",
    "SUBPLOT 2 : Distribution of client owning a house or flat by gender . Out of total clients who own house 67% are female and 33% are male."
   ]
  },
  {
   "cell_type": "markdown",
   "metadata": {
    "papermill": {
     "duration": 0.349936,
     "end_time": "2020-11-18T16:25:05.385875",
     "exception": false,
     "start_time": "2020-11-18T16:25:05.035939",
     "status": "completed"
    },
    "tags": []
   },
   "source": [
    "## Distribution of Number of children and family members of client by repayment status.\n",
    "\n",
    "CNT_CHILDREN - Number of children the client has.\n",
    "\n",
    "CNT_FAM_MEMBERS - How many family members does client have."
   ]
  },
  {
   "cell_type": "code",
   "execution_count": null,
   "metadata": {
    "execution": {
     "iopub.execute_input": "2020-11-18T16:25:06.102403Z",
     "iopub.status.busy": "2020-11-18T16:25:06.101273Z",
     "iopub.status.idle": "2020-11-18T16:25:28.922629Z",
     "shell.execute_reply": "2020-11-18T16:25:28.922014Z"
    },
    "papermill": {
     "duration": 23.187464,
     "end_time": "2020-11-18T16:25:28.922753",
     "exception": false,
     "start_time": "2020-11-18T16:25:05.735289",
     "status": "completed"
    },
    "tags": []
   },
   "outputs": [],
   "source": [
    "fig = plt.figure(figsize=(12,10))\n",
    "plt.subplot(211)\n",
    "sns.countplot(application_data[\"CNT_CHILDREN\"],palette=\"Set1\",hue=application_data[\"TARGET\"])\n",
    "plt.legend(loc=\"upper center\")\n",
    "plt.title(\" Distribution of Number of children client has  by repayment status\")\n",
    "plt.subplot(212)\n",
    "sns.countplot(application_data[\"CNT_FAM_MEMBERS\"],palette=\"Set1\",hue=application_data[\"TARGET\"])\n",
    "plt.legend(loc=\"upper center\")\n",
    "plt.title(\" Distribution of Number of family members client has  by repayment status\")\n",
    "fig.set_facecolor(\"lightblue\")"
   ]
  },
  {
   "cell_type": "markdown",
   "metadata": {
    "papermill": {
     "duration": 0.344956,
     "end_time": "2020-11-18T16:25:29.615615",
     "exception": false,
     "start_time": "2020-11-18T16:25:29.270659",
     "status": "completed"
    },
    "tags": []
   },
   "source": [
    "\n",
    "## Distribution of contract type ,gender ,own car ,own house with respect to Repayment status(Target variable)"
   ]
  },
  {
   "cell_type": "code",
   "execution_count": null,
   "metadata": {
    "execution": {
     "iopub.execute_input": "2020-11-18T16:25:30.388170Z",
     "iopub.status.busy": "2020-11-18T16:25:30.387368Z",
     "iopub.status.idle": "2020-11-18T16:25:31.351411Z",
     "shell.execute_reply": "2020-11-18T16:25:31.350687Z"
    },
    "papermill": {
     "duration": 1.329529,
     "end_time": "2020-11-18T16:25:31.351533",
     "exception": false,
     "start_time": "2020-11-18T16:25:30.022004",
     "status": "completed"
    },
    "tags": []
   },
   "outputs": [],
   "source": [
    "default = application_data[application_data[\"TARGET\"]==1][[ 'NAME_CONTRACT_TYPE', 'CODE_GENDER','FLAG_OWN_CAR', 'FLAG_OWN_REALTY']]\n",
    "non_default = application_data[application_data[\"TARGET\"]==0][[ 'NAME_CONTRACT_TYPE', 'CODE_GENDER','FLAG_OWN_CAR', 'FLAG_OWN_REALTY']]\n",
    "\n",
    "d_cols = ['NAME_CONTRACT_TYPE', 'CODE_GENDER','FLAG_OWN_CAR', 'FLAG_OWN_REALTY']\n",
    "d_length = len(d_cols)\n",
    "\n",
    "fig = plt.figure(figsize=(16,4))\n",
    "for i,j in itertools.zip_longest(d_cols,range(d_length)):\n",
    "    plt.subplot(1,4,j+1)\n",
    "    default[i].value_counts().plot.pie(autopct = \"%1.0f%%\",colors = sns.color_palette(\"prism\"),startangle = 90,\n",
    "                                        wedgeprops={\"linewidth\":1,\"edgecolor\":\"white\"},shadow =True)\n",
    "    circ = plt.Circle((0,0),.7,color=\"white\")\n",
    "    plt.gca().add_artist(circ)\n",
    "    plt.ylabel(\"\")\n",
    "    plt.title(i+\"-Defaulter\")\n",
    "\n",
    "\n",
    "fig = plt.figure(figsize=(16,4))\n",
    "for i,j in itertools.zip_longest(d_cols,range(d_length)):\n",
    "    plt.subplot(1,4,j+1)\n",
    "    non_default[i].value_counts().plot.pie(autopct = \"%1.0f%%\",colors = sns.color_palette(\"prism\",3),startangle = 90,\n",
    "                                           wedgeprops={\"linewidth\":1,\"edgecolor\":\"white\"},shadow =True)\n",
    "    circ = plt.Circle((0,0),.7,color=\"white\")\n",
    "    plt.gca().add_artist(circ)\n",
    "    plt.ylabel(\"\")\n",
    "    plt.title(i+\"-Repayer\")"
   ]
  },
  {
   "cell_type": "markdown",
   "metadata": {
    "papermill": {
     "duration": 0.349168,
     "end_time": "2020-11-18T16:25:32.045209",
     "exception": false,
     "start_time": "2020-11-18T16:25:31.696041",
     "status": "completed"
    },
    "tags": []
   },
   "source": [
    "### Point to infer from the graph\n",
    "\n",
    "Percentage of males is 10% more in defaults than non defaulters.\n",
    "\n",
    "Percentage of Cash Loans is 4% more in defaults than Revolving Loans."
   ]
  },
  {
   "cell_type": "markdown",
   "metadata": {
    "papermill": {
     "duration": 0.347275,
     "end_time": "2020-11-18T16:25:32.743721",
     "exception": false,
     "start_time": "2020-11-18T16:25:32.396446",
     "status": "completed"
    },
    "tags": []
   },
   "source": [
    "### Distribution of amount data\n",
    "\n",
    "AMT_INCOME_TOTAL - Income of the client\n",
    "\n",
    "AMT_CREDIT - Credit amount of the loan\n",
    "\n",
    "AMT_ANNUITY - Loan annuity\n",
    "\n",
    "AMT_GOODS_PRICE - For consumer loans it is the price of the goods for which the loan is given"
   ]
  },
  {
   "cell_type": "code",
   "execution_count": null,
   "metadata": {
    "execution": {
     "iopub.execute_input": "2020-11-18T16:25:33.455309Z",
     "iopub.status.busy": "2020-11-18T16:25:33.452555Z",
     "iopub.status.idle": "2020-11-18T16:25:41.854007Z",
     "shell.execute_reply": "2020-11-18T16:25:41.854601Z"
    },
    "papermill": {
     "duration": 8.761881,
     "end_time": "2020-11-18T16:25:41.854758",
     "exception": false,
     "start_time": "2020-11-18T16:25:33.092877",
     "status": "completed"
    },
    "tags": []
   },
   "outputs": [],
   "source": [
    "cols = [ 'AMT_INCOME_TOTAL', 'AMT_CREDIT','AMT_ANNUITY', 'AMT_GOODS_PRICE']\n",
    "length = len(cols)\n",
    "cs = [\"r\",\"b\",\"g\",\"k\"]\n",
    "\n",
    "ax = plt.figure(figsize=(18,18))\n",
    "ax.set_facecolor(\"lightgrey\")\n",
    "for i,j,k in itertools.zip_longest(cols,range(length),cs):\n",
    "    plt.subplot(2,2,j+1)\n",
    "    sns.distplot(data[data[i].notnull()][i],color=k)\n",
    "    plt.axvline(data[i].mean(),label = \"mean\",linestyle=\"dashed\",color=\"k\")\n",
    "    plt.legend(loc=\"best\")\n",
    "    plt.title(i)\n",
    "    plt.subplots_adjust(hspace = .2)"
   ]
  },
  {
   "cell_type": "markdown",
   "metadata": {
    "papermill": {
     "duration": 0.35547,
     "end_time": "2020-11-18T16:25:42.562797",
     "exception": false,
     "start_time": "2020-11-18T16:25:42.207327",
     "status": "completed"
    },
    "tags": []
   },
   "source": [
    "\n",
    "## Comparing summary statistics between defaulters and non - defaulters for loan amounts.\n",
    "\n"
   ]
  },
  {
   "cell_type": "code",
   "execution_count": null,
   "metadata": {
    "execution": {
     "iopub.execute_input": "2020-11-18T16:25:43.291648Z",
     "iopub.status.busy": "2020-11-18T16:25:43.286487Z",
     "iopub.status.idle": "2020-11-18T16:25:44.362001Z",
     "shell.execute_reply": "2020-11-18T16:25:44.361383Z"
    },
    "papermill": {
     "duration": 1.447618,
     "end_time": "2020-11-18T16:25:44.362130",
     "exception": false,
     "start_time": "2020-11-18T16:25:42.914512",
     "status": "completed"
    },
    "tags": []
   },
   "outputs": [],
   "source": [
    "df = application_data.groupby(\"TARGET\")[cols].describe().transpose().reset_index()\n",
    "df = df[df[\"level_1\"].isin([ 'mean', 'std', 'min', 'max'])] \n",
    "df_x = df[[\"level_0\",\"level_1\",0]]\n",
    "df_y = df[[\"level_0\",\"level_1\",1]]\n",
    "df_x = df_x.rename(columns={'level_0':\"amount_type\", 'level_1':\"statistic\", 0:\"amount\"})\n",
    "df_x[\"type\"] = \"REPAYER\"\n",
    "df_y = df_y.rename(columns={'level_0':\"amount_type\", 'level_1':\"statistic\", 1:\"amount\"})\n",
    "df_y[\"type\"] = \"DEFAULTER\"\n",
    "df_new = pd.concat([df_x,df_y],axis = 0)\n",
    "\n",
    "stat = df_new[\"statistic\"].unique().tolist()\n",
    "length = len(stat)\n",
    "\n",
    "plt.figure(figsize=(13,15))\n",
    "\n",
    "for i,j in itertools.zip_longest(stat,range(length)):\n",
    "    plt.subplot(2,2,j+1)\n",
    "    fig = sns.barplot(df_new[df_new[\"statistic\"] == i][\"amount_type\"],df_new[df_new[\"statistic\"] == i][\"amount\"],\n",
    "                hue=df_new[df_new[\"statistic\"] == i][\"type\"],palette=[\"g\",\"r\"])\n",
    "    plt.title(i + \"--Defaulters vs Non defaulters\")\n",
    "    plt.subplots_adjust(hspace = .4)\n",
    "    fig.set_facecolor(\"lightgrey\")"
   ]
  },
  {
   "cell_type": "markdown",
   "metadata": {
    "papermill": {
     "duration": 0.351843,
     "end_time": "2020-11-18T16:25:45.097534",
     "exception": false,
     "start_time": "2020-11-18T16:25:44.745691",
     "status": "completed"
    },
    "tags": []
   },
   "source": [
    "### Point to infer from the graph\n",
    "\n",
    "#### Income of client -\n",
    "\n",
    "1 . Average income of clients who default and who do not are almost same.\n",
    "\n",
    "2 . Standard deviation in income of client who default is very high compared to who do not default.\n",
    "\n",
    "3 . Clients who default also has maximum income earnings\n",
    "\n",
    "#### Credit amount of the loan ,Loan annuity,Amount goods price -\n",
    "\n",
    "1 . Statistics between credit amounts,Loan annuity and Amount goods price given to cilents who default and who dont are almost similar."
   ]
  },
  {
   "cell_type": "markdown",
   "metadata": {
    "papermill": {
     "duration": 0.355418,
     "end_time": "2020-11-18T16:25:45.806518",
     "exception": false,
     "start_time": "2020-11-18T16:25:45.451100",
     "status": "completed"
    },
    "tags": []
   },
   "source": [
    "## Average Income,credit,annuity & goods_price by gender\n"
   ]
  },
  {
   "cell_type": "code",
   "execution_count": null,
   "metadata": {
    "execution": {
     "iopub.execute_input": "2020-11-18T16:25:46.794408Z",
     "iopub.status.busy": "2020-11-18T16:25:46.793617Z",
     "iopub.status.idle": "2020-11-18T16:25:47.091303Z",
     "shell.execute_reply": "2020-11-18T16:25:47.090554Z"
    },
    "papermill": {
     "duration": 0.932886,
     "end_time": "2020-11-18T16:25:47.091443",
     "exception": false,
     "start_time": "2020-11-18T16:25:46.158557",
     "status": "completed"
    },
    "tags": []
   },
   "outputs": [],
   "source": [
    "cols = [ 'AMT_INCOME_TOTAL', 'AMT_CREDIT','AMT_ANNUITY', 'AMT_GOODS_PRICE']\n",
    "\n",
    "df1 = data.groupby(\"CODE_GENDER\")[cols].mean().transpose().reset_index()\n",
    "\n",
    "df_f   = df1[[\"index\",\"F\"]]\n",
    "df_f   = df_f.rename(columns={'index':\"amt_type\", 'F':\"amount\"})\n",
    "df_f[\"gender\"] = \"FEMALE\"\n",
    "df_m   = df1[[\"index\",\"M\"]]\n",
    "df_m   = df_m.rename(columns={'index':\"amt_type\", 'M':\"amount\"})\n",
    "df_m[\"gender\"] = \"MALE\"\n",
    "df_xna = df1[[\"index\",\"XNA\"]]\n",
    "df_xna = df_xna.rename(columns={'index':\"amt_type\", 'XNA':\"amount\"})\n",
    "df_xna[\"gender\"] = \"XNA\"\n",
    "\n",
    "df_gen = pd.concat([df_m,df_f,df_xna],axis=0)\n",
    "\n",
    "plt.figure(figsize=(12,5))\n",
    "ax = sns.barplot(\"amt_type\",\"amount\",data=df_gen,hue=\"gender\",palette=\"Set1\")\n",
    "plt.title(\"Average Income,credit,annuity & goods_price by gender\")\n",
    "plt.show()"
   ]
  },
  {
   "cell_type": "markdown",
   "metadata": {
    "papermill": {
     "duration": 0.354461,
     "end_time": "2020-11-18T16:25:47.801250",
     "exception": false,
     "start_time": "2020-11-18T16:25:47.446789",
     "status": "completed"
    },
    "tags": []
   },
   "source": [
    "## Scatter plot between credit amount and annuity amount"
   ]
  },
  {
   "cell_type": "code",
   "execution_count": null,
   "metadata": {
    "execution": {
     "iopub.execute_input": "2020-11-18T16:25:48.526176Z",
     "iopub.status.busy": "2020-11-18T16:25:48.524845Z",
     "iopub.status.idle": "2020-11-18T16:25:53.390129Z",
     "shell.execute_reply": "2020-11-18T16:25:53.390742Z"
    },
    "papermill": {
     "duration": 5.234098,
     "end_time": "2020-11-18T16:25:53.390901",
     "exception": false,
     "start_time": "2020-11-18T16:25:48.156803",
     "status": "completed"
    },
    "tags": []
   },
   "outputs": [],
   "source": [
    "fig = plt.figure(figsize=(10,8))\n",
    "plt.scatter(application_data[application_data[\"TARGET\"]==0]['AMT_ANNUITY'],application_data[application_data[\"TARGET\"]==0]['AMT_CREDIT'],s=35,\n",
    "            color=\"b\",alpha=.5,label=\"REPAYER\",linewidth=.5,edgecolor=\"k\")\n",
    "plt.scatter(application_data[application_data[\"TARGET\"]==1]['AMT_ANNUITY'],application_data[application_data[\"TARGET\"]==1]['AMT_CREDIT'],s=35,\n",
    "            color=\"r\",alpha=.2,label=\"DEFAULTER\",linewidth=.5,edgecolor=\"k\")\n",
    "plt.legend(loc=\"best\",prop={\"size\":15})\n",
    "plt.xlabel(\"AMT_ANNUITY\")\n",
    "plt.ylabel(\"AMT_CREDIT\")\n",
    "plt.title(\"Scatter plot between credit amount and annuity amount\")\n",
    "plt.show()"
   ]
  },
  {
   "cell_type": "markdown",
   "metadata": {
    "papermill": {
     "duration": 0.377509,
     "end_time": "2020-11-18T16:25:54.128345",
     "exception": false,
     "start_time": "2020-11-18T16:25:53.750836",
     "status": "completed"
    },
    "tags": []
   },
   "source": [
    "## Pair Plot between amount variables\n",
    "\n",
    "AMT_INCOME_TOTAL - Income of the client\n",
    "\n",
    "AMT_CREDIT - Credit amount of the loan\n",
    "\n",
    "AMT_ANNUITY - Loan annuity\n",
    "\n",
    "AMT_GOODS_PRICE - For consumer loans it is the price of the goods for which the loan is given"
   ]
  },
  {
   "cell_type": "code",
   "execution_count": null,
   "metadata": {
    "execution": {
     "iopub.execute_input": "2020-11-18T16:25:54.859896Z",
     "iopub.status.busy": "2020-11-18T16:25:54.859101Z",
     "iopub.status.idle": "2020-11-18T16:26:32.481337Z",
     "shell.execute_reply": "2020-11-18T16:26:32.482091Z"
    },
    "papermill": {
     "duration": 37.991832,
     "end_time": "2020-11-18T16:26:32.482272",
     "exception": false,
     "start_time": "2020-11-18T16:25:54.490440",
     "status": "completed"
    },
    "tags": []
   },
   "outputs": [],
   "source": [
    "amt = application_data[[ 'AMT_INCOME_TOTAL','AMT_CREDIT',\n",
    "                         'AMT_ANNUITY', 'AMT_GOODS_PRICE',\"TARGET\"]]\n",
    "amt = amt[(amt[\"AMT_GOODS_PRICE\"].notnull()) & (amt[\"AMT_ANNUITY\"].notnull())]\n",
    "sns.pairplot(amt,hue=\"TARGET\",palette=[\"b\",\"r\"])\n",
    "plt.show()"
   ]
  },
  {
   "cell_type": "markdown",
   "metadata": {
    "papermill": {
     "duration": 0.362799,
     "end_time": "2020-11-18T16:26:33.234648",
     "exception": false,
     "start_time": "2020-11-18T16:26:32.871849",
     "status": "completed"
    },
    "tags": []
   },
   "source": [
    "# Distribution of Suite type\n",
    "\n",
    "NAME_TYPE_SUITE - Who was accompanying client when he was applying for the loan."
   ]
  },
  {
   "cell_type": "code",
   "execution_count": null,
   "metadata": {
    "execution": {
     "iopub.execute_input": "2020-11-18T16:26:33.973109Z",
     "iopub.status.busy": "2020-11-18T16:26:33.972220Z",
     "iopub.status.idle": "2020-11-18T16:28:09.966786Z",
     "shell.execute_reply": "2020-11-18T16:28:09.967418Z"
    },
    "papermill": {
     "duration": 96.371711,
     "end_time": "2020-11-18T16:28:09.967596",
     "exception": false,
     "start_time": "2020-11-18T16:26:33.595885",
     "status": "completed"
    },
    "tags": []
   },
   "outputs": [],
   "source": [
    "plt.figure(figsize=(18,12))\n",
    "plt.subplot(121)\n",
    "sns.countplot(y=data[\"NAME_TYPE_SUITE\"],\n",
    "              palette=\"Set2\",\n",
    "              order=data[\"NAME_TYPE_SUITE\"].value_counts().index[:5])\n",
    "plt.title(\"Distribution of Suite type\")\n",
    "\n",
    "plt.subplot(122)\n",
    "sns.countplot(y=data[\"NAME_TYPE_SUITE\"],\n",
    "              hue=data[\"CODE_GENDER\"],palette=\"Set2\",\n",
    "              order=data[\"NAME_TYPE_SUITE\"].value_counts().index[:5])\n",
    "plt.ylabel(\"\")\n",
    "plt.title(\"Distribution of Suite type by gender\")\n",
    "plt.subplots_adjust(wspace = .4)"
   ]
  },
  {
   "cell_type": "markdown",
   "metadata": {
    "papermill": {
     "duration": 0.441998,
     "end_time": "2020-11-18T16:28:10.775019",
     "exception": false,
     "start_time": "2020-11-18T16:28:10.333021",
     "status": "completed"
    },
    "tags": []
   },
   "source": [
    "### Distribution of client income type\n",
    "\n",
    "NAME_INCOME_TYPE Clients income type (businessman, working, maternity leave,…)"
   ]
  },
  {
   "cell_type": "code",
   "execution_count": null,
   "metadata": {
    "execution": {
     "iopub.execute_input": "2020-11-18T16:28:11.548828Z",
     "iopub.status.busy": "2020-11-18T16:28:11.536668Z",
     "iopub.status.idle": "2020-11-18T16:29:29.014038Z",
     "shell.execute_reply": "2020-11-18T16:29:29.014662Z"
    },
    "papermill": {
     "duration": 77.861088,
     "end_time": "2020-11-18T16:29:29.014835",
     "exception": false,
     "start_time": "2020-11-18T16:28:11.153747",
     "status": "completed"
    },
    "tags": []
   },
   "outputs": [],
   "source": [
    "plt.figure(figsize=(18,12))\n",
    "plt.subplot(121)\n",
    "sns.countplot(y=data[\"NAME_INCOME_TYPE\"],\n",
    "              palette=\"Set2\",\n",
    "              order=data[\"NAME_INCOME_TYPE\"].value_counts().index[:4])\n",
    "plt.title(\"Distribution of client income type\")\n",
    "\n",
    "plt.subplot(122)\n",
    "sns.countplot(y=data[\"NAME_INCOME_TYPE\"],\n",
    "              hue=data[\"CODE_GENDER\"],\n",
    "              palette=\"Set2\",\n",
    "              order=data[\"NAME_INCOME_TYPE\"].value_counts().index[:4])\n",
    "plt.ylabel(\"\")\n",
    "plt.title(\"Distribution of client income  type by gender\")\n",
    "plt.subplots_adjust(wspace = .4)"
   ]
  },
  {
   "cell_type": "markdown",
   "metadata": {
    "papermill": {
     "duration": 0.383471,
     "end_time": "2020-11-18T16:29:29.785286",
     "exception": false,
     "start_time": "2020-11-18T16:29:29.401815",
     "status": "completed"
    },
    "tags": []
   },
   "source": [
    "\n",
    "### Distribution of Education type by loan repayment status\n",
    "\n",
    "NAME_EDUCATION_TYPE Level of highest education the client achieved..\n",
    "\n"
   ]
  },
  {
   "cell_type": "code",
   "execution_count": null,
   "metadata": {
    "execution": {
     "iopub.execute_input": "2020-11-18T16:29:30.581445Z",
     "iopub.status.busy": "2020-11-18T16:29:30.574082Z",
     "iopub.status.idle": "2020-11-18T16:29:31.090286Z",
     "shell.execute_reply": "2020-11-18T16:29:31.093078Z"
    },
    "papermill": {
     "duration": 0.919823,
     "end_time": "2020-11-18T16:29:31.093819",
     "exception": false,
     "start_time": "2020-11-18T16:29:30.173996",
     "status": "completed"
    },
    "tags": []
   },
   "outputs": [],
   "source": [
    "plt.figure(figsize=(25,25))\n",
    "plt.subplot(121)\n",
    "application_data[application_data[\"TARGET\"]==0][\"NAME_EDUCATION_TYPE\"].value_counts().plot.pie(fontsize=12,autopct = \"%1.0f%%\",\n",
    "                                                                                                 colors = sns.color_palette(\"Set1\"),\n",
    "                                              wedgeprops={\"linewidth\":2,\"edgecolor\":\"white\"},shadow =True)\n",
    "circ = plt.Circle((0,0),.7,color=\"white\")\n",
    "plt.gca().add_artist(circ)\n",
    "plt.title(\"Distribution of Education type for Repayers\",color=\"b\")\n",
    "\n",
    "plt.subplot(122)\n",
    "application_data[application_data[\"TARGET\"]==1][\"NAME_EDUCATION_TYPE\"].value_counts().plot.pie(fontsize=12,autopct = \"%1.0f%%\",\n",
    "                                                                                                 colors = sns.color_palette(\"Set1\"),\n",
    "                                              wedgeprops={\"linewidth\":2,\"edgecolor\":\"white\"},shadow =True)\n",
    "circ = plt.Circle((0,0),.7,color=\"white\")\n",
    "plt.gca().add_artist(circ)\n",
    "plt.title(\"Distribution of Education type for Defaulters\",color=\"b\")\n",
    "plt.ylabel(\"\")\n",
    "plt.show()"
   ]
  },
  {
   "cell_type": "markdown",
   "metadata": {
    "papermill": {
     "duration": 0.415458,
     "end_time": "2020-11-18T16:29:31.929398",
     "exception": false,
     "start_time": "2020-11-18T16:29:31.513940",
     "status": "completed"
    },
    "tags": []
   },
   "source": [
    "### Point to infer from the graph\n",
    "\n",
    "Clients who default have proportionally 9% less higher education compared to clients who do not default."
   ]
  },
  {
   "cell_type": "markdown",
   "metadata": {
    "papermill": {
     "duration": 0.464092,
     "end_time": "2020-11-18T16:29:32.831938",
     "exception": false,
     "start_time": "2020-11-18T16:29:32.367846",
     "status": "completed"
    },
    "tags": []
   },
   "source": [
    "### Average Earnings by different professions and education types"
   ]
  },
  {
   "cell_type": "code",
   "execution_count": null,
   "metadata": {
    "execution": {
     "iopub.execute_input": "2020-11-18T16:29:34.096742Z",
     "iopub.status.busy": "2020-11-18T16:29:33.911347Z",
     "iopub.status.idle": "2020-11-18T16:29:35.253488Z",
     "shell.execute_reply": "2020-11-18T16:29:35.252770Z"
    },
    "papermill": {
     "duration": 1.898275,
     "end_time": "2020-11-18T16:29:35.253893",
     "exception": false,
     "start_time": "2020-11-18T16:29:33.355618",
     "status": "completed"
    },
    "tags": []
   },
   "outputs": [],
   "source": [
    "edu = data.groupby(['NAME_EDUCATION_TYPE','NAME_INCOME_TYPE'])['AMT_INCOME_TOTAL'].mean().reset_index().sort_values(by='AMT_INCOME_TOTAL',ascending=False)\n",
    "fig = plt.figure(figsize=(13,7))\n",
    "ax = sns.barplot('NAME_INCOME_TYPE','AMT_INCOME_TOTAL',data=edu,hue='NAME_EDUCATION_TYPE',palette=\"seismic\")\n",
    "ax.set_facecolor(\"k\")\n",
    "plt.title(\" Average Earnings by different professions and education types\")\n",
    "plt.show()"
   ]
  },
  {
   "cell_type": "markdown",
   "metadata": {
    "papermill": {
     "duration": 0.42501,
     "end_time": "2020-11-18T16:29:36.142073",
     "exception": false,
     "start_time": "2020-11-18T16:29:35.717063",
     "status": "completed"
    },
    "tags": []
   },
   "source": [
    "\n",
    "### Distribution of Education type by loan repayment status\n",
    "\n",
    "NAME_FAMILY_STATUS - Family status of the client"
   ]
  },
  {
   "cell_type": "code",
   "execution_count": null,
   "metadata": {
    "execution": {
     "iopub.execute_input": "2020-11-18T16:29:37.009027Z",
     "iopub.status.busy": "2020-11-18T16:29:36.996490Z",
     "iopub.status.idle": "2020-11-18T16:29:37.475507Z",
     "shell.execute_reply": "2020-11-18T16:29:37.476098Z"
    },
    "papermill": {
     "duration": 0.910946,
     "end_time": "2020-11-18T16:29:37.476249",
     "exception": false,
     "start_time": "2020-11-18T16:29:36.565303",
     "status": "completed"
    },
    "tags": []
   },
   "outputs": [],
   "source": [
    "plt.figure(figsize=(16,8))\n",
    "plt.subplot(121)\n",
    "application_data[application_data[\"TARGET\"]==0][\"NAME_FAMILY_STATUS\"].value_counts().plot.pie(autopct = \"%1.0f%%\",\n",
    "                                                             startangle=120,colors = sns.color_palette(\"Set2\",7),\n",
    "                                              wedgeprops={\"linewidth\":2,\"edgecolor\":\"white\"},shadow =True,explode=[0,.07,0,0,0,0])\n",
    "\n",
    "plt.title(\"Distribution of Family status for Repayers\",color=\"b\")\n",
    "\n",
    "plt.subplot(122)\n",
    "application_data[application_data[\"TARGET\"]==1][\"NAME_FAMILY_STATUS\"].value_counts().plot.pie(autopct = \"%1.0f%%\",\n",
    "                                                    startangle=120,colors = sns.color_palette(\"Set2\",7),\n",
    "                                              wedgeprops={\"linewidth\":2,\"edgecolor\":\"white\"},shadow =True,explode=[0,.07,0,0,0])\n",
    "\n",
    "\n",
    "plt.title(\"Distribution of Family status for Defaulters\",color=\"b\")\n",
    "plt.ylabel(\"\")\n",
    "plt.show()"
   ]
  },
  {
   "cell_type": "markdown",
   "metadata": {
    "papermill": {
     "duration": 0.380794,
     "end_time": "2020-11-18T16:29:38.250576",
     "exception": false,
     "start_time": "2020-11-18T16:29:37.869782",
     "status": "completed"
    },
    "tags": []
   },
   "source": [
    "### Point to infer from the graph\n",
    "\n",
    "Percentage of single people are more in defaulters than non defaulters."
   ]
  },
  {
   "cell_type": "markdown",
   "metadata": {
    "papermill": {
     "duration": 0.370402,
     "end_time": "2020-11-18T16:29:38.991855",
     "exception": false,
     "start_time": "2020-11-18T16:29:38.621453",
     "status": "completed"
    },
    "tags": []
   },
   "source": [
    "\n",
    "### Distribution of Housing type by loan repayment status\n",
    "\n",
    "NAME_HOUSING_TYPE - What is the housing situation of the client (renting, living with parents, ...)"
   ]
  },
  {
   "cell_type": "code",
   "execution_count": null,
   "metadata": {
    "execution": {
     "iopub.execute_input": "2020-11-18T16:29:39.757615Z",
     "iopub.status.busy": "2020-11-18T16:29:39.754744Z",
     "iopub.status.idle": "2020-11-18T16:29:40.212782Z",
     "shell.execute_reply": "2020-11-18T16:29:40.213385Z"
    },
    "papermill": {
     "duration": 0.84977,
     "end_time": "2020-11-18T16:29:40.213541",
     "exception": false,
     "start_time": "2020-11-18T16:29:39.363771",
     "status": "completed"
    },
    "tags": []
   },
   "outputs": [],
   "source": [
    "plt.figure(figsize=(20,20))\n",
    "plt.subplot(121)\n",
    "application_data[application_data[\"TARGET\"]==0][\"NAME_HOUSING_TYPE\"].value_counts().plot.pie(autopct = \"%1.0f%%\",fontsize=10,\n",
    "                                                             colors = sns.color_palette(\"Spectral\"),\n",
    "                                              wedgeprops={\"linewidth\":2,\"edgecolor\":\"white\"},shadow =True)\n",
    "\n",
    "plt.title(\"Distribution of housing type  for Repayer\",color=\"b\")\n",
    "\n",
    "plt.subplot(122)\n",
    "application_data[application_data[\"TARGET\"]==1][\"NAME_HOUSING_TYPE\"].value_counts().plot.pie(autopct = \"%1.0f%%\",fontsize=10,\n",
    "                                                    colors = sns.color_palette(\"Spectral\"),\n",
    "                                              wedgeprops={\"linewidth\":2,\"edgecolor\":\"white\"},shadow =True)\n",
    "\n",
    "\n",
    "plt.title(\"Distribution of housing type for Defaulters\",color=\"b\")\n",
    "plt.ylabel(\"\")\n",
    "plt.show()"
   ]
  },
  {
   "cell_type": "markdown",
   "metadata": {
    "papermill": {
     "duration": 0.379022,
     "end_time": "2020-11-18T16:29:40.975649",
     "exception": false,
     "start_time": "2020-11-18T16:29:40.596627",
     "status": "completed"
    },
    "tags": []
   },
   "source": [
    "\n",
    "### Distribution normalized population of region where client lives by loan repayment status\n",
    "\n",
    "REGION_POPULATION_RELATIVE - Normalized population of region where client lives (higher number means the client lives in more populated region).\n",
    "\n"
   ]
  },
  {
   "cell_type": "code",
   "execution_count": null,
   "metadata": {
    "execution": {
     "iopub.execute_input": "2020-11-18T16:29:41.757604Z",
     "iopub.status.busy": "2020-11-18T16:29:41.754818Z",
     "iopub.status.idle": "2020-11-18T16:29:49.087728Z",
     "shell.execute_reply": "2020-11-18T16:29:49.087006Z"
    },
    "papermill": {
     "duration": 7.727933,
     "end_time": "2020-11-18T16:29:49.087850",
     "exception": false,
     "start_time": "2020-11-18T16:29:41.359917",
     "status": "completed"
    },
    "tags": []
   },
   "outputs": [],
   "source": [
    "fig = plt.figure(figsize=(13,8))\n",
    "\n",
    "plt.subplot(121)\n",
    "sns.violinplot(y=application_data[application_data[\"TARGET\"]==0][\"REGION_POPULATION_RELATIVE\"]\n",
    "               ,x=application_data[application_data[\"TARGET\"]==0][\"NAME_CONTRACT_TYPE\"],\n",
    "               palette=\"Set1\")\n",
    "plt.title(\"Distribution of region population for Non Default loans\",color=\"b\")\n",
    "plt.subplot(122)\n",
    "sns.violinplot(y = application_data[application_data[\"TARGET\"]==1][\"REGION_POPULATION_RELATIVE\"]\n",
    "               ,x=application_data[application_data[\"TARGET\"]==1][\"NAME_CONTRACT_TYPE\"]\n",
    "               ,palette=\"Set1\")\n",
    "plt.title(\"Distribution of region population  for  Default loans\",color=\"b\")\n",
    "\n",
    "plt.subplots_adjust(wspace = .2)\n",
    "fig.set_facecolor(\"lightgrey\")"
   ]
  },
  {
   "cell_type": "markdown",
   "metadata": {
    "papermill": {
     "duration": 0.389399,
     "end_time": "2020-11-18T16:29:49.862931",
     "exception": false,
     "start_time": "2020-11-18T16:29:49.473532",
     "status": "completed"
    },
    "tags": []
   },
   "source": [
    "### Point to infer from the graph\n",
    "\n",
    "In High population density regions people are less likely to default on loans."
   ]
  },
  {
   "cell_type": "markdown",
   "metadata": {
    "papermill": {
     "duration": 0.387764,
     "end_time": "2020-11-18T16:29:50.650063",
     "exception": false,
     "start_time": "2020-11-18T16:29:50.262299",
     "status": "completed"
    },
    "tags": []
   },
   "source": [
    "\n",
    "### Client's age\n",
    "\n",
    "DAYS_BIRTH - Client's age in days at the time of application.\n",
    "\n"
   ]
  },
  {
   "cell_type": "code",
   "execution_count": null,
   "metadata": {
    "execution": {
     "iopub.execute_input": "2020-11-18T16:29:51.454288Z",
     "iopub.status.busy": "2020-11-18T16:29:51.448185Z",
     "iopub.status.idle": "2020-11-18T16:30:07.591639Z",
     "shell.execute_reply": "2020-11-18T16:30:07.590852Z"
    },
    "papermill": {
     "duration": 16.551179,
     "end_time": "2020-11-18T16:30:07.591769",
     "exception": false,
     "start_time": "2020-11-18T16:29:51.040590",
     "status": "completed"
    },
    "tags": []
   },
   "outputs": [],
   "source": [
    "fig = plt.figure(figsize=(13,15))\n",
    "\n",
    "plt.subplot(221)\n",
    "sns.distplot(application_data[application_data[\"TARGET\"]==0][\"DAYS_BIRTH\"],color=\"b\")\n",
    "plt.title(\"Age Distribution of repayers\")\n",
    "\n",
    "plt.subplot(222)\n",
    "sns.distplot(application_data[application_data[\"TARGET\"]==1][\"DAYS_BIRTH\"],color=\"r\")\n",
    "plt.title(\"Age Distribution of defaulters\")\n",
    "\n",
    "plt.subplot(223)\n",
    "sns.lvplot(application_data[\"TARGET\"],application_data[\"DAYS_BIRTH\"],hue=application_data[\"CODE_GENDER\"],palette=[\"b\",\"grey\",\"m\"])\n",
    "plt.axhline(application_data[\"DAYS_BIRTH\"].mean(),linestyle=\"dashed\",color=\"k\",label =\"average age of client\")\n",
    "plt.legend(loc=\"lower right\")\n",
    "plt.title(\"Client age vs Loan repayment status(hue=gender)\")\n",
    "\n",
    "plt.subplot(224)\n",
    "sns.lvplot(application_data[\"TARGET\"],application_data[\"DAYS_BIRTH\"],hue=application_data[\"NAME_CONTRACT_TYPE\"],palette=[\"r\",\"g\"])\n",
    "plt.axhline(application_data[\"DAYS_BIRTH\"].mean(),linestyle=\"dashed\",color=\"k\",label =\"average age of client\")\n",
    "plt.legend(loc=\"lower right\")\n",
    "plt.title(\"Client age vs Loan repayment status(hue=contract type)\")\n",
    "\n",
    "plt.subplots_adjust(wspace = .2,hspace = .3)\n",
    "\n",
    "fig.set_facecolor(\"lightgrey\")"
   ]
  },
  {
   "cell_type": "markdown",
   "metadata": {
    "papermill": {
     "duration": 0.43417,
     "end_time": "2020-11-18T16:30:08.412108",
     "exception": false,
     "start_time": "2020-11-18T16:30:07.977938",
     "status": "completed"
    },
    "tags": []
   },
   "source": [
    "### Point to infer from the graph\n",
    "\n",
    "Average clients age is comparatively less in non repayers than repayers in every aspect.\n",
    "\n",
    "Younger people tend to default more than elder people."
   ]
  },
  {
   "cell_type": "markdown",
   "metadata": {
    "papermill": {
     "duration": 0.380485,
     "end_time": "2020-11-18T16:30:09.206964",
     "exception": false,
     "start_time": "2020-11-18T16:30:08.826479",
     "status": "completed"
    },
    "tags": []
   },
   "source": [
    "### Distribution of days employed for target variable.\n",
    "\n",
    "DAYS_EMPLOYED - How many days before the application for target variable the person started current employment"
   ]
  },
  {
   "cell_type": "code",
   "execution_count": null,
   "metadata": {
    "execution": {
     "iopub.execute_input": "2020-11-18T16:30:09.993127Z",
     "iopub.status.busy": "2020-11-18T16:30:09.986603Z",
     "iopub.status.idle": "2020-11-18T16:30:11.050900Z",
     "shell.execute_reply": "2020-11-18T16:30:11.051480Z"
    },
    "papermill": {
     "duration": 1.463272,
     "end_time": "2020-11-18T16:30:11.051643",
     "exception": false,
     "start_time": "2020-11-18T16:30:09.588371",
     "status": "completed"
    },
    "tags": []
   },
   "outputs": [],
   "source": [
    "fig = plt.figure(figsize=(13,5))\n",
    "\n",
    "plt.subplot(121)\n",
    "sns.distplot(application_data[application_data[\"TARGET\"]==0][\"DAYS_EMPLOYED\"],color=\"b\")\n",
    "plt.title(\"days employed distribution of repayers\")\n",
    "\n",
    "plt.subplot(122)\n",
    "sns.distplot(application_data[application_data[\"TARGET\"]==1][\"DAYS_EMPLOYED\"],color=\"r\")\n",
    "plt.title(\"days employed distribution of defaulters\")\n",
    "\n",
    "fig.set_facecolor(\"ghostwhite\")"
   ]
  },
  {
   "cell_type": "markdown",
   "metadata": {
    "papermill": {
     "duration": 0.38492,
     "end_time": "2020-11-18T16:30:11.822955",
     "exception": false,
     "start_time": "2020-11-18T16:30:11.438035",
     "status": "completed"
    },
    "tags": []
   },
   "source": [
    "### Distribution of registration days for target variable.\n",
    "\n",
    "DAYS_REGISTRATION How many days before the application did client change his registration"
   ]
  },
  {
   "cell_type": "code",
   "execution_count": null,
   "metadata": {
    "execution": {
     "iopub.execute_input": "2020-11-18T16:30:12.756103Z",
     "iopub.status.busy": "2020-11-18T16:30:12.748576Z",
     "iopub.status.idle": "2020-11-18T16:30:13.802890Z",
     "shell.execute_reply": "2020-11-18T16:30:13.802275Z"
    },
    "papermill": {
     "duration": 1.593869,
     "end_time": "2020-11-18T16:30:13.803035",
     "exception": false,
     "start_time": "2020-11-18T16:30:12.209166",
     "status": "completed"
    },
    "tags": []
   },
   "outputs": [],
   "source": [
    "fig = plt.figure(figsize=(13,5))\n",
    "\n",
    "plt.subplot(121)\n",
    "sns.distplot(application_data[application_data[\"TARGET\"]==0][\"DAYS_REGISTRATION\"],color=\"b\")\n",
    "plt.title(\"registration days distribution of repayers\")\n",
    "\n",
    "plt.subplot(122)\n",
    "sns.distplot(application_data[application_data[\"TARGET\"]==1][\"DAYS_REGISTRATION\"],color=\"r\")\n",
    "plt.title(\"registration days distribution of defaulter\")\n",
    "\n",
    "fig.set_facecolor(\"ghostwhite\")"
   ]
  },
  {
   "cell_type": "markdown",
   "metadata": {
    "papermill": {
     "duration": 0.387809,
     "end_time": "2020-11-18T16:30:14.585289",
     "exception": false,
     "start_time": "2020-11-18T16:30:14.197480",
     "status": "completed"
    },
    "tags": []
   },
   "source": [
    "### Distribution in contact information provided by client\n",
    "\n",
    "FLAG_MOBIL - Did client provide mobile phone (1=YES, 0=NO)\n",
    "\n",
    "FLAG_EMP_PHONE - Did client provide work phone (1=YES, 0=NO)\n",
    "\n",
    "FLAG_WORK_PHONE - Did client provide home phone (1=YES, 0=NO)\n",
    "\n",
    "FLAG_CONT_MOBILE - Was mobile phone reachable (1=YES, 0=NO)\n",
    "\n",
    "FLAG_PHONE - Did client provide home phone (1=YES, 0=NO)\n",
    "\n",
    "FLAG_EMAIL - Did client provide email (1=YES, 0=NO)"
   ]
  },
  {
   "cell_type": "code",
   "execution_count": null,
   "metadata": {
    "execution": {
     "iopub.execute_input": "2020-11-18T16:30:15.380073Z",
     "iopub.status.busy": "2020-11-18T16:30:15.379269Z",
     "iopub.status.idle": "2020-11-18T16:31:39.868403Z",
     "shell.execute_reply": "2020-11-18T16:31:39.869011Z"
    },
    "papermill": {
     "duration": 84.8947,
     "end_time": "2020-11-18T16:31:39.869174",
     "exception": false,
     "start_time": "2020-11-18T16:30:14.974474",
     "status": "completed"
    },
    "tags": []
   },
   "outputs": [],
   "source": [
    "x   = application_data[['FLAG_MOBIL', 'FLAG_EMP_PHONE', 'FLAG_WORK_PHONE', 'FLAG_CONT_MOBILE',\n",
    "       'FLAG_PHONE', 'FLAG_EMAIL',\"TARGET\"]]\n",
    "x[\"TARGET\"] = x[\"TARGET\"].replace({0:\"repayers\",1:\"defaulters\"})\n",
    "x  = x.replace({1:\"YES\",0:\"NO\"})\n",
    "\n",
    "cols = ['FLAG_MOBIL', 'FLAG_EMP_PHONE', 'FLAG_WORK_PHONE', 'FLAG_CONT_MOBILE',\n",
    "       'FLAG_PHONE', 'FLAG_EMAIL']\n",
    "length = len(cols)\n",
    "\n",
    "fig = plt.figure(figsize=(15,12))\n",
    "fig.set_facecolor(\"lightgrey\")\n",
    "\n",
    "for i,j in itertools.zip_longest(cols,range(length)):\n",
    "    plt.subplot(2,3,j+1)\n",
    "    sns.countplot(x[i],hue=x[\"TARGET\"],palette=[\"r\",\"g\"])\n",
    "    plt.title(i,color=\"b\")"
   ]
  },
  {
   "cell_type": "markdown",
   "metadata": {
    "papermill": {
     "duration": 0.383493,
     "end_time": "2020-11-18T16:31:40.640011",
     "exception": false,
     "start_time": "2020-11-18T16:31:40.256518",
     "status": "completed"
    },
    "tags": []
   },
   "source": [
    "\n",
    "### Distribution of registration days for target variable.\n",
    "\n",
    "REGION_RATING_CLIENT - Home credit rating of the region where client lives (1,2,3).\n",
    "\n",
    "REGION_RATING_CLIENT_W_CITY - Home credit rating of the region where client lives with taking city into account (1,2,3). Percentage of defaulters are less in 1-rated regions compared to repayers."
   ]
  },
  {
   "cell_type": "code",
   "execution_count": null,
   "metadata": {
    "execution": {
     "iopub.execute_input": "2020-11-18T16:31:41.451559Z",
     "iopub.status.busy": "2020-11-18T16:31:41.437483Z",
     "iopub.status.idle": "2020-11-18T16:31:42.031510Z",
     "shell.execute_reply": "2020-11-18T16:31:42.032089Z"
    },
    "papermill": {
     "duration": 1.002738,
     "end_time": "2020-11-18T16:31:42.032267",
     "exception": false,
     "start_time": "2020-11-18T16:31:41.029529",
     "status": "completed"
    },
    "tags": []
   },
   "outputs": [],
   "source": [
    "fig = plt.figure(figsize=(13,13))\n",
    "plt.subplot(221)\n",
    "application_data[application_data[\"TARGET\"]==0][\"REGION_RATING_CLIENT\"].value_counts().plot.pie(autopct = \"%1.0f%%\",fontsize=12,\n",
    "                                                             colors = sns.color_palette(\"Pastel1\"),\n",
    "                                              wedgeprops={\"linewidth\":2,\"edgecolor\":\"white\"},shadow =True)\n",
    "\n",
    "plt.title(\"Distribution of region rating  for Repayers\",color=\"b\")\n",
    "\n",
    "plt.subplot(222)\n",
    "application_data[application_data[\"TARGET\"]==1][\"REGION_RATING_CLIENT\"].value_counts().plot.pie(autopct = \"%1.0f%%\",fontsize=12,\n",
    "                                                    colors = sns.color_palette(\"Pastel1\"),\n",
    "                                              wedgeprops={\"linewidth\":2,\"edgecolor\":\"white\"},shadow =True)\n",
    "\n",
    "\n",
    "plt.title(\"Distribution of region rating  for Defaulters\",color=\"b\")\n",
    "plt.ylabel(\"\")\n",
    "\n",
    "plt.subplot(223)\n",
    "application_data[application_data[\"TARGET\"]==0][\"REGION_RATING_CLIENT_W_CITY\"].value_counts().plot.pie(autopct = \"%1.0f%%\",fontsize=12,\n",
    "                                                             colors = sns.color_palette(\"Paired\"),\n",
    "                                              wedgeprops={\"linewidth\":2,\"edgecolor\":\"white\"},shadow =True)\n",
    "\n",
    "plt.title(\"Distribution of city region rating   for Repayers\",color=\"b\")\n",
    "\n",
    "plt.subplot(224)\n",
    "application_data[application_data[\"TARGET\"]==1][\"REGION_RATING_CLIENT_W_CITY\"].value_counts().plot.pie(autopct = \"%1.0f%%\",fontsize=12,\n",
    "                                                    colors = sns.color_palette(\"Paired\"),\n",
    "                                              wedgeprops={\"linewidth\":2,\"edgecolor\":\"white\"},shadow =True)\n",
    "\n",
    "\n",
    "plt.title(\"Distribution of city region rating  for Defaulters\",color=\"b\")\n",
    "plt.ylabel(\"\")\n",
    "fig.set_facecolor(\"ivory\")"
   ]
  },
  {
   "cell_type": "markdown",
   "metadata": {
    "papermill": {
     "duration": 0.395917,
     "end_time": "2020-11-18T16:31:42.827711",
     "exception": false,
     "start_time": "2020-11-18T16:31:42.431794",
     "status": "completed"
    },
    "tags": []
   },
   "source": [
    "### Point to infer from the graph\n",
    "\n",
    "Percentage of defaulters are less in 1-rated regions compared to repayers.\n",
    "\n",
    "Percentage of defaulters are more in 3-rated regions compared to repayers."
   ]
  },
  {
   "cell_type": "markdown",
   "metadata": {
    "papermill": {
     "duration": 0.389366,
     "end_time": "2020-11-18T16:31:43.610022",
     "exception": false,
     "start_time": "2020-11-18T16:31:43.220656",
     "status": "completed"
    },
    "tags": []
   },
   "source": [
    "### Peak days and hours for applying loans (defaulters vs repayers)\n",
    "\n",
    "WEEKDAY_APPR_PROCESS_START - On which day of the week did the client apply for the loan.\n",
    "\n",
    "HOUR_APPR_PROCESS_START - Approximately at what hour did the client apply for the loan.\n",
    "\n"
   ]
  },
  {
   "cell_type": "code",
   "execution_count": null,
   "metadata": {
    "execution": {
     "iopub.execute_input": "2020-11-18T16:31:44.414304Z",
     "iopub.status.busy": "2020-11-18T16:31:44.413478Z",
     "iopub.status.idle": "2020-11-18T16:31:45.466395Z",
     "shell.execute_reply": "2020-11-18T16:31:45.465591Z"
    },
    "papermill": {
     "duration": 1.467271,
     "end_time": "2020-11-18T16:31:45.466532",
     "exception": false,
     "start_time": "2020-11-18T16:31:43.999261",
     "status": "completed"
    },
    "tags": []
   },
   "outputs": [],
   "source": [
    "day = application_data.groupby(\"TARGET\").agg({\"WEEKDAY_APPR_PROCESS_START\":\"value_counts\"})\n",
    "day = day.rename(columns={\"WEEKDAY_APPR_PROCESS_START\":\"value_counts\"})\n",
    "day = day.reset_index()\n",
    "day_0 = day[:7]\n",
    "day_1 = day[7:]\n",
    "day_0[\"percentage\"] = day_0[\"value_counts\"]*100/day_0[\"value_counts\"].sum()\n",
    "day_1[\"percentage\"] = day_1[\"value_counts\"]*100/day_1[\"value_counts\"].sum()\n",
    "days = pd.concat([day_0,day_1],axis=0)\n",
    "days[\"TARGET\"] = days.replace({1:\"defaulters\",0:\"repayers\"})\n",
    "\n",
    "fig = plt.figure(figsize=(13,15))\n",
    "plt.subplot(211)\n",
    "order = ['SUNDAY', 'MONDAY','TUESDAY', 'WEDNESDAY','THURSDAY', 'FRIDAY', 'SATURDAY']\n",
    "ax= sns.barplot(\"WEEKDAY_APPR_PROCESS_START\",\"percentage\",data=days,\n",
    "                hue=\"TARGET\",order=order,palette=\"prism\")\n",
    "ax.set_facecolor(\"k\")\n",
    "ax.set_title(\"Peak days for applying loans (defaulters vs repayers)\")\n",
    "\n",
    "hr = application_data.groupby(\"TARGET\").agg({\"HOUR_APPR_PROCESS_START\":\"value_counts\"})\n",
    "hr = hr.rename(columns={\"HOUR_APPR_PROCESS_START\":\"value_counts\"}).reset_index()\n",
    "hr_0 = hr[hr[\"TARGET\"]==0]\n",
    "hr_1 = hr[hr[\"TARGET\"]==1]\n",
    "hr_0[\"percentage\"] = hr_0[\"value_counts\"]*100/hr_0[\"value_counts\"].sum()\n",
    "hr_1[\"percentage\"] = hr_1[\"value_counts\"]*100/hr_1[\"value_counts\"].sum()\n",
    "hrs = pd.concat([hr_0,hr_1],axis=0)\n",
    "hrs[\"TARGET\"] = hrs[\"TARGET\"].replace({1:\"defaulters\",0:\"repayers\"})\n",
    "hrs = hrs.sort_values(by=\"HOUR_APPR_PROCESS_START\",ascending=True)\n",
    "\n",
    "plt.subplot(212)\n",
    "ax1 = sns.pointplot(\"HOUR_APPR_PROCESS_START\",\"percentage\",\n",
    "                    data=hrs,hue=\"TARGET\",palette=\"prism\")\n",
    "ax1.set_facecolor(\"k\")\n",
    "ax1.set_title(\"Peak hours for applying loans (defaulters vs repayers)\")\n",
    "fig.set_facecolor(\"snow\")"
   ]
  },
  {
   "cell_type": "markdown",
   "metadata": {
    "papermill": {
     "duration": 0.404138,
     "end_time": "2020-11-18T16:31:46.272808",
     "exception": false,
     "start_time": "2020-11-18T16:31:45.868670",
     "status": "completed"
    },
    "tags": []
   },
   "source": [
    "### Point to infer from the graph\n",
    "\n",
    "On tuesdays , percentage of defaulters applying for loans is greater than that of repayers.\n",
    "\n",
    "From morning 4'O clock to 9'O clock percentage of defaulters applying for loans is greater than that of repayers."
   ]
  },
  {
   "cell_type": "markdown",
   "metadata": {
    "papermill": {
     "duration": 0.399035,
     "end_time": "2020-11-18T16:31:47.068104",
     "exception": false,
     "start_time": "2020-11-18T16:31:46.669069",
     "status": "completed"
    },
    "tags": []
   },
   "source": [
    "\n",
    "### Distribution in organization types for repayers and defaulters\n",
    "\n",
    "ORGANIZATION_TYPE - Type of organization where client works.\n",
    "\n"
   ]
  },
  {
   "cell_type": "code",
   "execution_count": null,
   "metadata": {
    "execution": {
     "iopub.execute_input": "2020-11-18T16:31:47.907207Z",
     "iopub.status.busy": "2020-11-18T16:31:47.906125Z",
     "iopub.status.idle": "2020-11-18T16:31:50.617650Z",
     "shell.execute_reply": "2020-11-18T16:31:50.618383Z"
    },
    "papermill": {
     "duration": 3.153187,
     "end_time": "2020-11-18T16:31:50.618551",
     "exception": false,
     "start_time": "2020-11-18T16:31:47.465364",
     "status": "completed"
    },
    "tags": []
   },
   "outputs": [],
   "source": [
    "org = application_data.groupby(\"TARGET\").agg({\"ORGANIZATION_TYPE\":\"value_counts\"})\n",
    "org = org.rename(columns = {\"ORGANIZATION_TYPE\":\"value_counts\"}).reset_index()\n",
    "org_0 = org[org[\"TARGET\"] == 0]\n",
    "org_1 = org[org[\"TARGET\"] == 1]\n",
    "org_0[\"percentage\"] = org_0[\"value_counts\"]*100/org_0[\"value_counts\"].sum()\n",
    "org_1[\"percentage\"] = org_1[\"value_counts\"]*100/org_1[\"value_counts\"].sum()\n",
    "\n",
    "organization = pd.concat([org_0,org_1],axis=0)\n",
    "organization = organization.sort_values(by=\"ORGANIZATION_TYPE\",ascending=True)\n",
    "\n",
    "organization[\"TARGET\"] = organization[\"TARGET\"].replace({0:\"repayers\",1:\"defaulters\"})\n",
    "\n",
    "organization\n",
    "plt.figure(figsize=(13,7))\n",
    "ax = sns.pointplot(\"ORGANIZATION_TYPE\",\"percentage\",\n",
    "                   data=organization,hue=\"TARGET\",palette=[\"b\",\"r\"])\n",
    "plt.xticks(rotation=90)\n",
    "plt.grid(True,alpha=.3)\n",
    "ax.set_facecolor(\"k\")\n",
    "ax.set_title(\"Distribution in organization types for repayers and defaulters\")\n",
    "plt.show()"
   ]
  },
  {
   "cell_type": "markdown",
   "metadata": {
    "papermill": {
     "duration": 0.398005,
     "end_time": "2020-11-18T16:31:51.419225",
     "exception": false,
     "start_time": "2020-11-18T16:31:51.021220",
     "status": "completed"
    },
    "tags": []
   },
   "source": [
    "### Point to infer from the graph\n",
    "\n",
    "Organizations like Business Entity Type 3,Construction,Self-employed percentage of defaulters are higher than repayers."
   ]
  },
  {
   "cell_type": "markdown",
   "metadata": {
    "papermill": {
     "duration": 0.412557,
     "end_time": "2020-11-18T16:31:52.227715",
     "exception": false,
     "start_time": "2020-11-18T16:31:51.815158",
     "status": "completed"
    },
    "tags": []
   },
   "source": [
    "### Distribution client's social surroundings with observed and defaulted 30 DPD (days past due)\n",
    "\n",
    "OBS_30_CNT_SOCIAL_CIRCLE- How many observation of client's social surroundings with observable 30 DPD (days past due) default.\n",
    "\n",
    "DEF_30_CNT_SOCIAL_CIRCLE-How many observation of client's social surroundings defaulted on 30 DPD (days past due) .\n",
    "\n",
    "OBS_60_CNT_SOCIAL_CIRCLE - How many observation of client's social surroundings with observable 60 DPD (days past due) default.\n",
    "\n",
    "DEF_60_CNT_SOCIAL_CIRCLE - How many observation of client's social surroundings defaulted on 60 (days past due) DPD."
   ]
  },
  {
   "cell_type": "code",
   "execution_count": null,
   "metadata": {
    "execution": {
     "iopub.execute_input": "2020-11-18T16:31:53.084209Z",
     "iopub.status.busy": "2020-11-18T16:31:53.083045Z",
     "iopub.status.idle": "2020-11-18T16:32:22.689474Z",
     "shell.execute_reply": "2020-11-18T16:32:22.688827Z"
    },
    "papermill": {
     "duration": 30.020323,
     "end_time": "2020-11-18T16:32:22.689600",
     "exception": false,
     "start_time": "2020-11-18T16:31:52.669277",
     "status": "completed"
    },
    "tags": []
   },
   "outputs": [],
   "source": [
    "fig = plt.figure(figsize=(20,20))\n",
    "plt.subplot(421)\n",
    "sns.boxplot(data=application_data,x='TARGET',y='OBS_30_CNT_SOCIAL_CIRCLE',\n",
    "            hue=\"TARGET\", palette=\"Set3\")\n",
    "plt.title(\"Client's social surroundings with observable 30 DPD (days past due) def\",color=\"b\")\n",
    "plt.subplot(422)\n",
    "sns.boxplot(data=application_data,x='TARGET',y='DEF_30_CNT_SOCIAL_CIRCLE',\n",
    "            hue=\"TARGET\", palette=\"Set3\")\n",
    "plt.title(\"Client's social surroundings defaulted on 30 DPD (days past due)\",color=\"b\")\n",
    "plt.subplot(423)\n",
    "sns.boxplot(data=application_data,x='TARGET',y='OBS_60_CNT_SOCIAL_CIRCLE',\n",
    "            hue=\"TARGET\", palette=\"Set3\")\n",
    "plt.title(\"Client's social surroundings with observable 60 DPD (days past due) default\",color=\"b\")\n",
    "plt.subplot(424)\n",
    "sns.boxplot(data=application_data,x='TARGET',y='DEF_60_CNT_SOCIAL_CIRCLE',\n",
    "            hue=\"TARGET\", palette=\"Set3\")\n",
    "plt.title(\"Client's social surroundings defaulted on 60 DPD (days past due)\",color=\"b\")\n",
    "fig.set_facecolor(\"ghostwhite\")"
   ]
  },
  {
   "cell_type": "markdown",
   "metadata": {
    "papermill": {
     "duration": 0.396588,
     "end_time": "2020-11-18T16:32:23.487331",
     "exception": false,
     "start_time": "2020-11-18T16:32:23.090743",
     "status": "completed"
    },
    "tags": []
   },
   "source": [
    "### Number of days before application client changed phone .\n",
    "\n",
    "DAYS_LAST_PHONE_CHANGE - How many days before application did client change phone.\n",
    "\n"
   ]
  },
  {
   "cell_type": "code",
   "execution_count": null,
   "metadata": {
    "execution": {
     "iopub.execute_input": "2020-11-18T16:32:24.304181Z",
     "iopub.status.busy": "2020-11-18T16:32:24.292207Z",
     "iopub.status.idle": "2020-11-18T16:32:32.669637Z",
     "shell.execute_reply": "2020-11-18T16:32:32.670225Z"
    },
    "papermill": {
     "duration": 8.786861,
     "end_time": "2020-11-18T16:32:32.670393",
     "exception": false,
     "start_time": "2020-11-18T16:32:23.883532",
     "status": "completed"
    },
    "tags": []
   },
   "outputs": [],
   "source": [
    "plt.figure(figsize=(13,7))\n",
    "plt.subplot(121)\n",
    "ax = sns.violinplot(application_data[\"TARGET\"],\n",
    "                    application_data[\"DAYS_LAST_PHONE_CHANGE\"],palette=[\"g\",\"r\"])\n",
    "ax.set_facecolor(\"oldlace\")\n",
    "ax.set_title(\"days before application client changed phone -violin plot\")\n",
    "plt.subplot(122)\n",
    "ax1 = sns.lvplot(application_data[\"TARGET\"],\n",
    "                 application_data[\"DAYS_LAST_PHONE_CHANGE\"],palette=[\"g\",\"r\"])\n",
    "ax1.set_facecolor(\"oldlace\")\n",
    "ax1.set_ylabel(\"\")\n",
    "ax1.set_title(\"days before application client changed phone -box plot\")\n",
    "plt.subplots_adjust(wspace = .2)"
   ]
  },
  {
   "cell_type": "markdown",
   "metadata": {
    "papermill": {
     "duration": 0.401105,
     "end_time": "2020-11-18T16:32:33.473572",
     "exception": false,
     "start_time": "2020-11-18T16:32:33.072467",
     "status": "completed"
    },
    "tags": []
   },
   "source": [
    "### Point to infer from the graph\n",
    "\n",
    "Average days of defaulters phone change is less than average days of repayers phone change."
   ]
  },
  {
   "cell_type": "markdown",
   "metadata": {
    "papermill": {
     "duration": 0.398647,
     "end_time": "2020-11-18T16:32:34.270488",
     "exception": false,
     "start_time": "2020-11-18T16:32:33.871841",
     "status": "completed"
    },
    "tags": []
   },
   "source": [
    "### Documents provided by the clients.\n",
    "\n",
    "FLAG_DOCUMENT - Did client provide documents.(1,0)"
   ]
  },
  {
   "cell_type": "code",
   "execution_count": null,
   "metadata": {
    "execution": {
     "iopub.execute_input": "2020-11-18T16:32:35.089812Z",
     "iopub.status.busy": "2020-11-18T16:32:35.089015Z",
     "iopub.status.idle": "2020-11-18T16:35:03.356066Z",
     "shell.execute_reply": "2020-11-18T16:35:03.356682Z"
    },
    "papermill": {
     "duration": 148.691999,
     "end_time": "2020-11-18T16:35:03.356878",
     "exception": false,
     "start_time": "2020-11-18T16:32:34.664879",
     "status": "completed"
    },
    "tags": []
   },
   "outputs": [],
   "source": [
    "cols = [ 'FLAG_DOCUMENT_2', 'FLAG_DOCUMENT_3',\n",
    "       'FLAG_DOCUMENT_4', 'FLAG_DOCUMENT_5', 'FLAG_DOCUMENT_6',\n",
    "       'FLAG_DOCUMENT_7', 'FLAG_DOCUMENT_8', 'FLAG_DOCUMENT_9',\n",
    "       'FLAG_DOCUMENT_10', 'FLAG_DOCUMENT_11', 'FLAG_DOCUMENT_12',\n",
    "       'FLAG_DOCUMENT_13', 'FLAG_DOCUMENT_14', 'FLAG_DOCUMENT_15',\n",
    "       'FLAG_DOCUMENT_16', 'FLAG_DOCUMENT_17', 'FLAG_DOCUMENT_18',\n",
    "       'FLAG_DOCUMENT_19', 'FLAG_DOCUMENT_20', 'FLAG_DOCUMENT_21']\n",
    "\n",
    "df_flag = application_data[cols+[\"TARGET\"]]\n",
    "\n",
    "length = len(cols)\n",
    "\n",
    "df_flag[\"TARGET\"] = df_flag[\"TARGET\"].replace({1:\"defaulter\",0:\"repayer\"})\n",
    "\n",
    "fig = plt.figure(figsize=(13,24))\n",
    "fig.set_facecolor(\"lightgrey\")\n",
    "for i,j in itertools.zip_longest(cols,range(length)):\n",
    "    plt.subplot(5,4,j+1)\n",
    "    ax = sns.countplot(df_flag[i],hue=df_flag[\"TARGET\"],palette=[\"r\",\"b\"])\n",
    "    plt.yticks(fontsize=5)\n",
    "    plt.xlabel(\"\")\n",
    "    plt.title(i)\n",
    "    ax.set_facecolor(\"k\")"
   ]
  },
  {
   "cell_type": "markdown",
   "metadata": {
    "papermill": {
     "duration": 0.405347,
     "end_time": "2020-11-18T16:35:04.169190",
     "exception": false,
     "start_time": "2020-11-18T16:35:03.763843",
     "status": "completed"
    },
    "tags": []
   },
   "source": [
    "### Equiries to Credit Bureau about the client before application.\n",
    "\n",
    "AMT_REQ_CREDIT_BUREAU_HOUR - Number of enquiries to Credit Bureau about the client one hour before application.\n",
    "\n",
    "AMT_REQ_CREDIT_BUREAU_DAY - Number of enquiries to Credit Bureau about the client one day before application (excluding one hour before application).\n",
    "\n",
    "AMT_REQ_CREDIT_BUREAU_WEEK - Number of enquiries to Credit Bureau about the client one week before application (excluding one day before application).\n",
    "\n",
    "AMT_REQ_CREDIT_BUREAU_MON - Number of enquiries to Credit Bureau about the client one month before application (excluding one week before application).\n",
    "\n",
    "AMT_REQ_CREDIT_BUREAU_QRT - Number of enquiries to Credit Bureau about the client 3 month before application (excluding one month before application).\n",
    "\n",
    "AMT_REQ_CREDIT_BUREAU_YEAR - Number of enquiries to Credit Bureau about the client one day year (excluding last 3 months before application)."
   ]
  },
  {
   "cell_type": "code",
   "execution_count": null,
   "metadata": {
    "execution": {
     "iopub.execute_input": "2020-11-18T16:35:04.986952Z",
     "iopub.status.busy": "2020-11-18T16:35:04.985892Z",
     "iopub.status.idle": "2020-11-18T16:35:06.139180Z",
     "shell.execute_reply": "2020-11-18T16:35:06.138532Z"
    },
    "papermill": {
     "duration": 1.570713,
     "end_time": "2020-11-18T16:35:06.139309",
     "exception": false,
     "start_time": "2020-11-18T16:35:04.568596",
     "status": "completed"
    },
    "tags": []
   },
   "outputs": [],
   "source": [
    "cols = ['AMT_REQ_CREDIT_BUREAU_HOUR', 'AMT_REQ_CREDIT_BUREAU_DAY',\n",
    "       'AMT_REQ_CREDIT_BUREAU_WEEK', 'AMT_REQ_CREDIT_BUREAU_MON',\n",
    "       'AMT_REQ_CREDIT_BUREAU_QRT', 'AMT_REQ_CREDIT_BUREAU_YEAR']\n",
    "application_data.groupby(\"TARGET\")[cols].max().transpose().plot(kind=\"barh\",\n",
    "                                                                 figsize=(10,5),width=.8)\n",
    "plt.title(\"Maximum enquries made by defaulters and repayers\")\n",
    "application_data.groupby(\"TARGET\")[cols].mean().transpose().plot(kind=\"barh\",\n",
    "                                                                  figsize=(10,5),width=.8)\n",
    "plt.title(\"average enquries made by defaulters and repayers\")\n",
    "application_data.groupby(\"TARGET\")[cols].std().transpose().plot(kind=\"barh\",\n",
    "                                                                 figsize=(10,5),width=.8)\n",
    "plt.title(\"standard deviation in enquries made by defaulters and repayers\")\n",
    "plt.show()"
   ]
  },
  {
   "cell_type": "markdown",
   "metadata": {
    "papermill": {
     "duration": 0.409463,
     "end_time": "2020-11-18T16:35:06.969211",
     "exception": false,
     "start_time": "2020-11-18T16:35:06.559748",
     "status": "completed"
    },
    "tags": []
   },
   "source": [
    "\n",
    "### Current loan id having previous loan applications.\n",
    "\n",
    "SK_ID_PREV - ID of previous credit in Home credit related to loan in our sample. (One loan in our sample can have 0,1,2 or more previous loan applications in Home Credit, previous application could, but not necessarily have to lead to credit).\n",
    "\n",
    "SK_ID_CURR ID of loan in our sample.\n"
   ]
  },
  {
   "cell_type": "code",
   "execution_count": null,
   "metadata": {
    "execution": {
     "iopub.execute_input": "2020-11-18T16:35:07.803634Z",
     "iopub.status.busy": "2020-11-18T16:35:07.802882Z",
     "iopub.status.idle": "2020-11-18T16:35:08.577009Z",
     "shell.execute_reply": "2020-11-18T16:35:08.576227Z"
    },
    "papermill": {
     "duration": 1.191424,
     "end_time": "2020-11-18T16:35:08.577156",
     "exception": false,
     "start_time": "2020-11-18T16:35:07.385732",
     "status": "completed"
    },
    "tags": []
   },
   "outputs": [],
   "source": [
    "x = previous_application.groupby(\"SK_ID_CURR\")[\"SK_ID_PREV\"].count().reset_index()\n",
    "plt.figure(figsize=(13,7))\n",
    "ax = sns.distplot(x[\"SK_ID_PREV\"],color=\"orange\")\n",
    "plt.axvline(x[\"SK_ID_PREV\"].mean(),linestyle=\"dashed\",color=\"r\",label=\"average\")\n",
    "plt.axvline(x[\"SK_ID_PREV\"].std(),linestyle=\"dashed\",color=\"b\",label=\"standard deviation\")\n",
    "plt.axvline(x[\"SK_ID_PREV\"].max(),linestyle=\"dashed\",color=\"g\",label=\"maximum\")\n",
    "plt.legend(loc=\"best\")\n",
    "plt.title(\"Current loan id having previous loan applications\")\n",
    "ax.set_facecolor(\"k\")"
   ]
  },
  {
   "cell_type": "markdown",
   "metadata": {
    "papermill": {
     "duration": 0.410911,
     "end_time": "2020-11-18T16:35:09.407754",
     "exception": false,
     "start_time": "2020-11-18T16:35:08.996843",
     "status": "completed"
    },
    "tags": []
   },
   "source": [
    "### Point to infer from the graph\n",
    "On average current loan ids have 4 to 5 loan applications previously"
   ]
  },
  {
   "cell_type": "markdown",
   "metadata": {
    "papermill": {
     "duration": 0.41234,
     "end_time": "2020-11-18T16:35:10.229721",
     "exception": false,
     "start_time": "2020-11-18T16:35:09.817381",
     "status": "completed"
    },
    "tags": []
   },
   "source": [
    "\n",
    "### Contract types in previous applications\n",
    "\n",
    "NAME_CONTRACT_TYPE Contract product type (Cash loan, consumer loan [POS] ,...) of the previous application.\n"
   ]
  },
  {
   "cell_type": "code",
   "execution_count": null,
   "metadata": {
    "execution": {
     "iopub.execute_input": "2020-11-18T16:35:11.507003Z",
     "iopub.status.busy": "2020-11-18T16:35:11.506078Z",
     "iopub.status.idle": "2020-11-18T16:35:11.771287Z",
     "shell.execute_reply": "2020-11-18T16:35:11.772092Z"
    },
    "papermill": {
     "duration": 1.137835,
     "end_time": "2020-11-18T16:35:11.772344",
     "exception": false,
     "start_time": "2020-11-18T16:35:10.634509",
     "status": "completed"
    },
    "tags": []
   },
   "outputs": [],
   "source": [
    "cnts = previous_application[\"NAME_CONTRACT_TYPE\"].value_counts()\n",
    "import squarify\n",
    "plt.figure(figsize=(8,6))\n",
    "squarify.plot(cnts.values,label=cnts.keys(),value=cnts.values,linewidth=2,edgecolor=\"k\",alpha=.8,color=sns.color_palette(\"Set1\"))\n",
    "plt.axis(\"off\")\n",
    "plt.title(\"Contaract types in previous applications\")\n",
    "plt.show()"
   ]
  },
  {
   "cell_type": "markdown",
   "metadata": {
    "papermill": {
     "duration": 0.41919,
     "end_time": "2020-11-18T16:35:12.625351",
     "exception": false,
     "start_time": "2020-11-18T16:35:12.206161",
     "status": "completed"
    },
    "tags": []
   },
   "source": [
    "### Point to infer from the graph\n",
    "\n",
    "\n",
    "Cash loan applications are maximum followed by consumer loan applications."
   ]
  },
  {
   "cell_type": "markdown",
   "metadata": {
    "papermill": {
     "duration": 0.408414,
     "end_time": "2020-11-18T16:35:13.441601",
     "exception": false,
     "start_time": "2020-11-18T16:35:13.033187",
     "status": "completed"
    },
    "tags": []
   },
   "source": [
    "### Previous loan amounts applied and loan amounts credited.\n",
    "\n",
    "AMT_APPLICATION-For how much credit did client ask on the previous application.\n",
    "\n",
    "AMT_CREDIT-Final credit amount on the previous application. This differs from AMT_APPLICATION in a way that the AMT_APPLICATION is the amount for which the client initially applied for, but during our approval process he could have received different amount - AMT_CREDIT."
   ]
  },
  {
   "cell_type": "code",
   "execution_count": null,
   "metadata": {
    "execution": {
     "iopub.execute_input": "2020-11-18T16:35:14.276957Z",
     "iopub.status.busy": "2020-11-18T16:35:14.270447Z",
     "iopub.status.idle": "2020-11-18T16:35:17.444357Z",
     "shell.execute_reply": "2020-11-18T16:35:17.444956Z"
    },
    "papermill": {
     "duration": 3.597498,
     "end_time": "2020-11-18T16:35:17.445128",
     "exception": false,
     "start_time": "2020-11-18T16:35:13.847630",
     "status": "completed"
    },
    "tags": []
   },
   "outputs": [],
   "source": [
    "plt.figure(figsize=(20,20))\n",
    "plt.subplot(211)\n",
    "ax = sns.kdeplot(previous_application[\"AMT_APPLICATION\"],color=\"b\",linewidth=3)\n",
    "ax = sns.kdeplot(previous_application[previous_application[\"AMT_CREDIT\"].notnull()][\"AMT_CREDIT\"],color=\"r\",linewidth=3)\n",
    "plt.axvline(previous_application[previous_application[\"AMT_CREDIT\"].notnull()][\"AMT_CREDIT\"].mean(),color=\"r\",linestyle=\"dashed\",label=\"AMT_APPLICATION_MEAN\")\n",
    "plt.axvline(previous_application[\"AMT_APPLICATION\"].mean(),color=\"b\",linestyle=\"dashed\",label=\"AMT_APPLICATION_MEAN\")\n",
    "plt.legend(loc=\"best\")\n",
    "plt.title(\"Previous loan amounts applied and loan amounts credited.\")\n",
    "ax.set_facecolor(\"k\")\n",
    "\n",
    "plt.subplot(212)\n",
    "diff = (previous_application[\"AMT_CREDIT\"] - previous_application[\"AMT_APPLICATION\"]).reset_index()\n",
    "diff = diff[diff[0].notnull()]\n",
    "ax1 = sns.kdeplot(diff[0],color=\"g\",linewidth=3,label = \"difference in amount requested by client and amount credited\")\n",
    "plt.axvline(diff[0].mean(),color=\"white\",linestyle=\"dashed\",label = \"mean\")\n",
    "plt.title(\"difference in amount requested by client and amount credited\")\n",
    "ax1.legend(loc=\"best\")\n",
    "ax1.set_facecolor(\"k\")"
   ]
  },
  {
   "cell_type": "markdown",
   "metadata": {
    "papermill": {
     "duration": 0.488163,
     "end_time": "2020-11-18T16:35:18.351114",
     "exception": false,
     "start_time": "2020-11-18T16:35:17.862951",
     "status": "completed"
    },
    "tags": []
   },
   "source": [
    "### Total and average amounts applied and credited in previous applications\n",
    "\n",
    "AMT_APPLICATION-For how much credit did client ask on the previous application. >AMT_CREDIT-Final credit amount on the previous application. This differs from AMT_APPLICATION in a way that the AMT_APPLICATION is the amount for which the client."
   ]
  },
  {
   "cell_type": "code",
   "execution_count": null,
   "metadata": {
    "execution": {
     "iopub.execute_input": "2020-11-18T16:35:19.231958Z",
     "iopub.status.busy": "2020-11-18T16:35:19.230796Z",
     "iopub.status.idle": "2020-11-18T16:35:20.214999Z",
     "shell.execute_reply": "2020-11-18T16:35:20.214328Z"
    },
    "papermill": {
     "duration": 1.450069,
     "end_time": "2020-11-18T16:35:20.215127",
     "exception": false,
     "start_time": "2020-11-18T16:35:18.765058",
     "status": "completed"
    },
    "tags": []
   },
   "outputs": [],
   "source": [
    "mn = previous_application.groupby(\"NAME_CONTRACT_TYPE\")[[\"AMT_APPLICATION\",\"AMT_CREDIT\"]].mean().stack().reset_index()\n",
    "tt = previous_application.groupby(\"NAME_CONTRACT_TYPE\")[[\"AMT_APPLICATION\",\"AMT_CREDIT\"]].sum().stack().reset_index()\n",
    "fig = plt.figure(figsize=(10,13))\n",
    "fig.set_facecolor(\"ghostwhite\")\n",
    "plt.subplot(211)\n",
    "ax = sns.barplot(0,\"NAME_CONTRACT_TYPE\",data=mn[:6],hue=\"level_1\",palette=\"inferno\")\n",
    "ax.set_facecolor(\"k\")\n",
    "ax.set_xlabel(\"average amounts\")\n",
    "ax.set_title(\"Average amounts by contract types\")\n",
    "\n",
    "plt.subplot(212)\n",
    "ax1 = sns.barplot(0,\"NAME_CONTRACT_TYPE\",data=tt[:6],hue=\"level_1\",palette=\"magma\")\n",
    "ax1.set_facecolor(\"k\")\n",
    "ax1.set_xlabel(\"total amounts\")\n",
    "ax1.set_title(\"total amounts by contract types\")\n",
    "plt.subplots_adjust(hspace = .2)\n",
    "plt.show()"
   ]
  },
  {
   "cell_type": "markdown",
   "metadata": {
    "papermill": {
     "duration": 0.414608,
     "end_time": "2020-11-18T16:35:21.045459",
     "exception": false,
     "start_time": "2020-11-18T16:35:20.630851",
     "status": "completed"
    },
    "tags": []
   },
   "source": [
    "### Annuity of previous application\n",
    "\n",
    "AMT_ANNUITY - Annuity of previous application"
   ]
  },
  {
   "cell_type": "code",
   "execution_count": null,
   "metadata": {
    "execution": {
     "iopub.execute_input": "2020-11-18T16:35:21.893778Z",
     "iopub.status.busy": "2020-11-18T16:35:21.892158Z",
     "iopub.status.idle": "2020-11-18T16:35:22.552688Z",
     "shell.execute_reply": "2020-11-18T16:35:22.551869Z"
    },
    "papermill": {
     "duration": 1.096257,
     "end_time": "2020-11-18T16:35:22.552821",
     "exception": false,
     "start_time": "2020-11-18T16:35:21.456564",
     "status": "completed"
    },
    "tags": []
   },
   "outputs": [],
   "source": [
    "plt.figure(figsize=(14,5))\n",
    "plt.subplot(121)\n",
    "previous_application.groupby(\"NAME_CONTRACT_TYPE\")[\"AMT_ANNUITY\"].sum().plot(kind=\"bar\")\n",
    "plt.xticks(rotation=0)\n",
    "plt.title(\"Total annuity amount by contract types in previous applications\")\n",
    "plt.subplot(122)\n",
    "previous_application.groupby(\"NAME_CONTRACT_TYPE\")[\"AMT_ANNUITY\"].mean().plot(kind=\"bar\")\n",
    "plt.title(\"average annuity amount by contract types in previous applications\")\n",
    "plt.xticks(rotation=0)\n",
    "plt.show()"
   ]
  },
  {
   "cell_type": "markdown",
   "metadata": {
    "papermill": {
     "duration": 0.422886,
     "end_time": "2020-11-18T16:35:23.394061",
     "exception": false,
     "start_time": "2020-11-18T16:35:22.971175",
     "status": "completed"
    },
    "tags": []
   },
   "source": [
    "\n",
    "### Count of application status by application type.\n",
    "\n",
    "NAME_CONTRACT_TYPE -Contract product type (Cash loan, consumer loan [POS] ,...) of the previous application.\n",
    "\n",
    "NAME_CONTRACT_STATUS -Contract status (approved, cancelled, ...) of previous application.\n",
    "\n"
   ]
  },
  {
   "cell_type": "code",
   "execution_count": null,
   "metadata": {
    "execution": {
     "iopub.execute_input": "2020-11-18T16:35:24.247765Z",
     "iopub.status.busy": "2020-11-18T16:35:24.246868Z",
     "iopub.status.idle": "2020-11-18T16:35:25.211040Z",
     "shell.execute_reply": "2020-11-18T16:35:25.210424Z"
    },
    "papermill": {
     "duration": 1.396315,
     "end_time": "2020-11-18T16:35:25.211187",
     "exception": false,
     "start_time": "2020-11-18T16:35:23.814872",
     "status": "completed"
    },
    "tags": []
   },
   "outputs": [],
   "source": [
    "ax = pd.crosstab(previous_application[\"NAME_CONTRACT_TYPE\"],previous_application[\"NAME_CONTRACT_STATUS\"]).plot(kind=\"barh\",figsize=(10,7),stacked=True)\n",
    "plt.xticks(rotation =0)\n",
    "plt.ylabel(\"count\")\n",
    "plt.title(\"Count of application status by application type\")\n",
    "ax.set_facecolor(\"k\")"
   ]
  },
  {
   "cell_type": "markdown",
   "metadata": {
    "papermill": {
     "duration": 0.415908,
     "end_time": "2020-11-18T16:35:26.046934",
     "exception": false,
     "start_time": "2020-11-18T16:35:25.631026",
     "status": "completed"
    },
    "tags": []
   },
   "source": [
    "### Point to infer from the graph\n",
    "\n",
    "Consumer loan applications are most approved loans and cash loans are most cancelled and refused loans."
   ]
  },
  {
   "cell_type": "markdown",
   "metadata": {
    "papermill": {
     "duration": 0.415525,
     "end_time": "2020-11-18T16:35:26.878224",
     "exception": false,
     "start_time": "2020-11-18T16:35:26.462699",
     "status": "completed"
    },
    "tags": []
   },
   "source": [
    "### Contract status by weekdays\n",
    "\n",
    "WEEKDAY_APPR_PROCESS_START - On which day of the week did the client apply for previous application"
   ]
  },
  {
   "cell_type": "code",
   "execution_count": null,
   "metadata": {
    "execution": {
     "iopub.execute_input": "2020-11-18T16:35:27.745659Z",
     "iopub.status.busy": "2020-11-18T16:35:27.743822Z",
     "iopub.status.idle": "2020-11-18T16:35:28.572950Z",
     "shell.execute_reply": "2020-11-18T16:35:28.572163Z"
    },
    "papermill": {
     "duration": 1.280042,
     "end_time": "2020-11-18T16:35:28.573107",
     "exception": false,
     "start_time": "2020-11-18T16:35:27.293065",
     "status": "completed"
    },
    "tags": []
   },
   "outputs": [],
   "source": [
    "hr = pd.crosstab(previous_application[\"WEEKDAY_APPR_PROCESS_START\"],previous_application[\"NAME_CONTRACT_STATUS\"]).stack().reset_index()\n",
    "plt.figure(figsize=(12,8))\n",
    "ax = sns.pointplot(hr[\"WEEKDAY_APPR_PROCESS_START\"],hr[0],hue=hr[\"NAME_CONTRACT_STATUS\"],palette=[\"g\",\"r\",\"b\",\"orange\"],scale=1)\n",
    "ax.set_facecolor(\"k\")\n",
    "ax.set_ylabel(\"count\")\n",
    "ax.set_title(\"Contract status by weekdays\")\n",
    "plt.grid(True,alpha=.2)\n",
    "\n"
   ]
  },
  {
   "cell_type": "markdown",
   "metadata": {
    "papermill": {
     "duration": 0.419806,
     "end_time": "2020-11-18T16:35:29.414524",
     "exception": false,
     "start_time": "2020-11-18T16:35:28.994718",
     "status": "completed"
    },
    "tags": []
   },
   "source": [
    "### Contract status by hour of the day\n",
    "\n",
    "HOUR_APPR_PROCESS_START - Approximately at what day hour did the client apply for the previous application.\n",
    "\n"
   ]
  },
  {
   "cell_type": "code",
   "execution_count": null,
   "metadata": {
    "execution": {
     "iopub.execute_input": "2020-11-18T16:35:30.282762Z",
     "iopub.status.busy": "2020-11-18T16:35:30.281947Z",
     "iopub.status.idle": "2020-11-18T16:35:31.380089Z",
     "shell.execute_reply": "2020-11-18T16:35:31.379464Z"
    },
    "papermill": {
     "duration": 1.545138,
     "end_time": "2020-11-18T16:35:31.380242",
     "exception": false,
     "start_time": "2020-11-18T16:35:29.835104",
     "status": "completed"
    },
    "tags": []
   },
   "outputs": [],
   "source": [
    "hr = pd.crosstab(previous_application[\"HOUR_APPR_PROCESS_START\"],previous_application[\"NAME_CONTRACT_STATUS\"]).stack().reset_index()\n",
    "plt.figure(figsize=(12,8))\n",
    "ax = sns.pointplot(hr[\"HOUR_APPR_PROCESS_START\"],hr[0],hue=hr[\"NAME_CONTRACT_STATUS\"],palette=[\"g\",\"r\",\"b\",\"orange\"],scale=1)\n",
    "ax.set_facecolor(\"k\")\n",
    "ax.set_ylabel(\"count\")\n",
    "ax.set_title(\"Contract status by day hours.\")\n",
    "plt.grid(True,alpha=.2)"
   ]
  },
  {
   "cell_type": "markdown",
   "metadata": {
    "papermill": {
     "duration": 0.443065,
     "end_time": "2020-11-18T16:35:32.261177",
     "exception": false,
     "start_time": "2020-11-18T16:35:31.818112",
     "status": "completed"
    },
    "tags": []
   },
   "source": [
    "### Point to infer from the graph\n",
    "\n",
    "Morning 11'o clock have maximum number of approvals.\n",
    "\n",
    "Morning 10'o clock have maximum number of refused and cancelled contracts."
   ]
  },
  {
   "cell_type": "markdown",
   "metadata": {
    "papermill": {
     "duration": 0.426391,
     "end_time": "2020-11-18T16:35:33.119286",
     "exception": false,
     "start_time": "2020-11-18T16:35:32.692895",
     "status": "completed"
    },
    "tags": []
   },
   "source": [
    "### Peak hours for week days for applying loans."
   ]
  },
  {
   "cell_type": "code",
   "execution_count": null,
   "metadata": {
    "execution": {
     "iopub.execute_input": "2020-11-18T16:35:33.996386Z",
     "iopub.status.busy": "2020-11-18T16:35:33.994373Z",
     "iopub.status.idle": "2020-11-18T16:35:35.371704Z",
     "shell.execute_reply": "2020-11-18T16:35:35.370924Z"
    },
    "papermill": {
     "duration": 1.82618,
     "end_time": "2020-11-18T16:35:35.371881",
     "exception": false,
     "start_time": "2020-11-18T16:35:33.545701",
     "status": "completed"
    },
    "tags": []
   },
   "outputs": [],
   "source": [
    "hr = pd.crosstab(previous_application[\"HOUR_APPR_PROCESS_START\"],previous_application[\"WEEKDAY_APPR_PROCESS_START\"]).stack().reset_index()\n",
    "plt.figure(figsize=(12,8))\n",
    "ax = sns.pointplot(hr[\"HOUR_APPR_PROCESS_START\"],hr[0],hue=hr[\"WEEKDAY_APPR_PROCESS_START\"],palette=[\"g\",\"r\",\"b\",\"orange\"],scale=1)\n",
    "ax.set_facecolor(\"k\")\n",
    "ax.set_ylabel(\"count\")\n",
    "ax.set_title(\"Peak hours for week days\")\n",
    "plt.grid(True,alpha=.2)"
   ]
  },
  {
   "cell_type": "markdown",
   "metadata": {
    "papermill": {
     "duration": 0.424044,
     "end_time": "2020-11-18T16:35:36.242404",
     "exception": false,
     "start_time": "2020-11-18T16:35:35.818360",
     "status": "completed"
    },
    "tags": []
   },
   "source": [
    "\n",
    "### Percentage of applications accepted,cancelled,refused and unused for different loan purposes.\n",
    "\n",
    "NAME_CASH_LOAN_PURPOSE - Purpose of the cash loan.\n",
    "\n",
    "NAME_CONTRACT_STATUS - Contract status (approved, cancelled, ...) of previous application.\n",
    "\n"
   ]
  },
  {
   "cell_type": "code",
   "execution_count": null,
   "metadata": {
    "execution": {
     "iopub.execute_input": "2020-11-18T16:35:37.109089Z",
     "iopub.status.busy": "2020-11-18T16:35:37.108203Z",
     "iopub.status.idle": "2020-11-18T16:35:39.863711Z",
     "shell.execute_reply": "2020-11-18T16:35:39.864342Z"
    },
    "papermill": {
     "duration": 3.204177,
     "end_time": "2020-11-18T16:35:39.864522",
     "exception": false,
     "start_time": "2020-11-18T16:35:36.660345",
     "status": "completed"
    },
    "tags": []
   },
   "outputs": [],
   "source": [
    "previous_application[[\"NAME_CASH_LOAN_PURPOSE\",\"NAME_CONTRACT_STATUS\"]]\n",
    "purpose = pd.crosstab(previous_application[\"NAME_CASH_LOAN_PURPOSE\"],previous_application[\"NAME_CONTRACT_STATUS\"])\n",
    "purpose[\"a\"] = (purpose[\"Approved\"]*100)/(purpose[\"Approved\"]+purpose[\"Canceled\"]+purpose[\"Refused\"]+purpose[\"Unused offer\"])\n",
    "purpose[\"c\"] = (purpose[\"Canceled\"]*100)/(purpose[\"Approved\"]+purpose[\"Canceled\"]+purpose[\"Refused\"]+purpose[\"Unused offer\"])\n",
    "purpose[\"r\"] = (purpose[\"Refused\"]*100)/(purpose[\"Approved\"]+purpose[\"Canceled\"]+purpose[\"Refused\"]+purpose[\"Unused offer\"])\n",
    "purpose[\"u\"] = (purpose[\"Unused offer\"]*100)/(purpose[\"Approved\"]+purpose[\"Canceled\"]+purpose[\"Refused\"]+purpose[\"Unused offer\"])\n",
    "purpose_new = purpose[[\"a\",\"c\",\"r\",\"u\"]]\n",
    "purpose_new = purpose_new.stack().reset_index()\n",
    "purpose_new[\"NAME_CONTRACT_STATUS\"] = purpose_new[\"NAME_CONTRACT_STATUS\"].replace({\"a\":\"accepted_percentage\",\"c\":\"cancelled_percentage\",\n",
    "                                                               \"r\":\"refused_percentage\",\"u\":\"unused_percentage\"})\n",
    "\n",
    "lst = purpose_new[\"NAME_CONTRACT_STATUS\"].unique().tolist()\n",
    "length = len(lst)\n",
    "cs = [\"lime\",\"orange\",\"r\",\"b\"]\n",
    "\n",
    "fig = plt.figure(figsize=(14,18))\n",
    "fig.set_facecolor(\"lightgrey\")\n",
    "for i,j,k in itertools.zip_longest(lst,range(length),cs):\n",
    "    plt.subplot(2,2,j+1)\n",
    "    dat = purpose_new[purpose_new[\"NAME_CONTRACT_STATUS\"] == i]\n",
    "    ax = sns.barplot(0,\"NAME_CASH_LOAN_PURPOSE\",data=dat.sort_values(by=0,ascending=False),color=k)\n",
    "    plt.ylabel(\"\")\n",
    "    plt.xlabel(\"percentage\")\n",
    "    plt.title(i+\" by purpose\")\n",
    "    plt.subplots_adjust(wspace = .7)\n",
    "    ax.set_facecolor(\"k\")\n"
   ]
  },
  {
   "cell_type": "markdown",
   "metadata": {
    "papermill": {
     "duration": 0.426425,
     "end_time": "2020-11-18T16:35:40.724459",
     "exception": false,
     "start_time": "2020-11-18T16:35:40.298034",
     "status": "completed"
    },
    "tags": []
   },
   "source": [
    "### Point to infer from the graph\n",
    "Purposes like XAP ,electronic eqipment ,everey day expences and education have maximum loan acceptance.\n",
    "\n",
    "Loan puposes like payment of other loans ,refusal to name goal ,buying new home or car have most refusals.\n",
    "\n",
    "40% of XNA purpose loans are cancalled."
   ]
  },
  {
   "cell_type": "markdown",
   "metadata": {
    "papermill": {
     "duration": 0.423597,
     "end_time": "2020-11-18T16:35:41.575942",
     "exception": false,
     "start_time": "2020-11-18T16:35:41.152345",
     "status": "completed"
    },
    "tags": []
   },
   "source": [
    "### Contract status relative to decision made about previous application.\n",
    "\n",
    "DAYS_DECISION - Relative to current application when was the decision about previous application made.\n",
    "\n"
   ]
  },
  {
   "cell_type": "code",
   "execution_count": null,
   "metadata": {
    "execution": {
     "iopub.execute_input": "2020-11-18T16:35:42.500490Z",
     "iopub.status.busy": "2020-11-18T16:35:42.499108Z",
     "iopub.status.idle": "2020-11-18T16:36:28.752176Z",
     "shell.execute_reply": "2020-11-18T16:36:28.752776Z"
    },
    "papermill": {
     "duration": 46.694086,
     "end_time": "2020-11-18T16:36:28.752941",
     "exception": false,
     "start_time": "2020-11-18T16:35:42.058855",
     "status": "completed"
    },
    "tags": []
   },
   "outputs": [],
   "source": [
    "plt.figure(figsize=(13,6))\n",
    "sns.violinplot(y= previous_application[\"DAYS_DECISION\"],\n",
    "               x = previous_application[\"NAME_CONTRACT_STATUS\"],palette=[\"r\",\"g\",\"b\",\"y\"])\n",
    "plt.axhline(previous_application[previous_application[\"NAME_CONTRACT_STATUS\"] == \"Approved\"][\"DAYS_DECISION\"].mean(),\n",
    "            color=\"r\",linestyle=\"dashed\",label=\"accepted_average\")\n",
    "plt.axhline(previous_application[previous_application[\"NAME_CONTRACT_STATUS\"] == \"Refused\"][\"DAYS_DECISION\"].mean(),\n",
    "            color=\"g\",linestyle=\"dashed\",label=\"refused_average\")\n",
    "plt.axhline(previous_application[previous_application[\"NAME_CONTRACT_STATUS\"] == \"Cancelled\"][\"DAYS_DECISION\"].mean(),color=\"b\",\n",
    "            linestyle=\"dashed\",label=\"cancelled_average\")\n",
    "plt.axhline(previous_application[previous_application[\"NAME_CONTRACT_STATUS\"] == \"Unused offer\"][\"DAYS_DECISION\"].mean(),color=\"y\",\n",
    "            linestyle=\"dashed\",label=\"un used_average\")\n",
    "plt.legend(loc=\"best\")\n",
    "\n",
    "plt.title(\"Contract status relative to decision made about previous application.\")\n",
    "plt.show()"
   ]
  },
  {
   "cell_type": "markdown",
   "metadata": {
    "papermill": {
     "duration": 0.426636,
     "end_time": "2020-11-18T16:36:29.611523",
     "exception": false,
     "start_time": "2020-11-18T16:36:29.184887",
     "status": "completed"
    },
    "tags": []
   },
   "source": [
    "### Point to infer from the graph\n",
    "\n",
    "On average approved contract types have higher number of decision days compared to cancelled and refused contracts."
   ]
  },
  {
   "cell_type": "markdown",
   "metadata": {
    "papermill": {
     "duration": 0.428384,
     "end_time": "2020-11-18T16:36:30.466533",
     "exception": false,
     "start_time": "2020-11-18T16:36:30.038149",
     "status": "completed"
    },
    "tags": []
   },
   "source": [
    "\n",
    "### Client payment methods & reasons for application rejections\n",
    "\n",
    "NAME_PAYMENT_TYPE - Payment method that client chose to pay for the previous application.\n",
    "\n",
    "CODE_REJECT_REASON - Why was the previous application rejected.\n",
    "\n"
   ]
  },
  {
   "cell_type": "code",
   "execution_count": null,
   "metadata": {
    "execution": {
     "iopub.execute_input": "2020-11-18T16:36:31.347411Z",
     "iopub.status.busy": "2020-11-18T16:36:31.335529Z",
     "iopub.status.idle": "2020-11-18T16:36:32.897056Z",
     "shell.execute_reply": "2020-11-18T16:36:32.896309Z"
    },
    "papermill": {
     "duration": 2.004204,
     "end_time": "2020-11-18T16:36:32.897195",
     "exception": false,
     "start_time": "2020-11-18T16:36:30.892991",
     "status": "completed"
    },
    "tags": []
   },
   "outputs": [],
   "source": [
    "plt.figure(figsize=(8,12))\n",
    "plt.subplot(211)\n",
    "rej = previous_application[\"CODE_REJECT_REASON\"].value_counts().reset_index()\n",
    "ax = sns.barplot(\"CODE_REJECT_REASON\",\"index\",data=rej[:6],palette=\"husl\")\n",
    "for i,j in enumerate(np.around((rej[\"CODE_REJECT_REASON\"][:6].values*100/(rej[\"CODE_REJECT_REASON\"][:6].sum())))):\n",
    "    ax.text(.7,i,j,weight=\"bold\")\n",
    "plt.xlabel(\"Top as percentage & Bottom as Count\")\n",
    "plt.ylabel(\"CODE_REJECT_REASON\")\n",
    "plt.title(\"Reasons for application rejections\")\n",
    "\n",
    "plt.subplot(212)\n",
    "pay = previous_application[\"NAME_PAYMENT_TYPE\"].value_counts().reset_index()\n",
    "ax1 = sns.barplot(\"NAME_PAYMENT_TYPE\",\"index\",data=pay,palette=\"husl\")\n",
    "for i,j in enumerate(np.around((pay[\"NAME_PAYMENT_TYPE\"].values*100/(pay[\"NAME_PAYMENT_TYPE\"].sum())))):\n",
    "    ax1.text(.7,i,j,weight=\"bold\")\n",
    "plt.xlabel(\"pTop as percentage & Bottom as Count\")\n",
    "plt.ylabel(\"NAME_PAYMENT_TYPE\")\n",
    "plt.title(\"Clients payment methods\")\n",
    "plt.subplots_adjust(hspace = .3)"
   ]
  },
  {
   "cell_type": "markdown",
   "metadata": {
    "papermill": {
     "duration": 0.4576,
     "end_time": "2020-11-18T16:36:33.793927",
     "exception": false,
     "start_time": "2020-11-18T16:36:33.336327",
     "status": "completed"
    },
    "tags": []
   },
   "source": [
    "### Point to infer from the graph\n",
    "\n",
    "Around 81% of rejected applications the reason is XAP.\n",
    "\n",
    "62% of chose to pay through cash by bank for previous applications."
   ]
  },
  {
   "cell_type": "markdown",
   "metadata": {
    "papermill": {
     "duration": 0.444284,
     "end_time": "2020-11-18T16:36:34.675598",
     "exception": false,
     "start_time": "2020-11-18T16:36:34.231314",
     "status": "completed"
    },
    "tags": []
   },
   "source": [
    "\n",
    "#### Distribution in Client suite type & client type.\n",
    "\n",
    "NAME_TYPE_SUITE - Who accompanied client when applying for the previous application.\n",
    "\n",
    "NAME_CLIENT_TYPE - Was the client old or new client when applying for the previous application.\n",
    "\n"
   ]
  },
  {
   "cell_type": "code",
   "execution_count": null,
   "metadata": {
    "execution": {
     "iopub.execute_input": "2020-11-18T16:36:35.582782Z",
     "iopub.status.busy": "2020-11-18T16:36:35.565302Z",
     "iopub.status.idle": "2020-11-18T16:36:36.614744Z",
     "shell.execute_reply": "2020-11-18T16:36:36.615359Z"
    },
    "papermill": {
     "duration": 1.499184,
     "end_time": "2020-11-18T16:36:36.615527",
     "exception": false,
     "start_time": "2020-11-18T16:36:35.116343",
     "status": "completed"
    },
    "tags": []
   },
   "outputs": [],
   "source": [
    "plt.figure(figsize=(20,20))\n",
    "plt.subplot(121)\n",
    "previous_application[\"NAME_TYPE_SUITE\"].value_counts().plot.pie(autopct = \"%1.1f%%\",fontsize=12,\n",
    "                                                             colors = sns.color_palette(\"inferno\"),\n",
    "                                              wedgeprops={\"linewidth\":2,\"edgecolor\":\"white\"},shadow =True)\n",
    "circ = plt.Circle((0,0),.7,color=\"white\")\n",
    "plt.gca().add_artist(circ)\n",
    "plt.title(\"NAME_TYPE_SUITE\")\n",
    "\n",
    "plt.subplot(122)\n",
    "previous_application[\"NAME_CLIENT_TYPE\"].value_counts().plot.pie(autopct = \"%1.1f%%\",fontsize=12,\n",
    "                                                             colors = sns.color_palette(\"inferno\"),\n",
    "                                              wedgeprops={\"linewidth\":2,\"edgecolor\":\"white\"},shadow =True)\n",
    "circ = plt.Circle((0,0),.7,color=\"white\")\n",
    "plt.gca().add_artist(circ)\n",
    "plt.title(\"NAME_CLIENT_TYPE\")\n",
    "plt.show()"
   ]
  },
  {
   "cell_type": "markdown",
   "metadata": {
    "papermill": {
     "duration": 0.436631,
     "end_time": "2020-11-18T16:36:37.500280",
     "exception": false,
     "start_time": "2020-11-18T16:36:37.063649",
     "status": "completed"
    },
    "tags": []
   },
   "source": [
    "### Point to infer from the graph\n",
    "About 60% clients are un-accompained when applying for loans.\n",
    "\n",
    "73% clients are old clients"
   ]
  },
  {
   "cell_type": "markdown",
   "metadata": {
    "papermill": {
     "duration": 0.444388,
     "end_time": "2020-11-18T16:36:38.375604",
     "exception": false,
     "start_time": "2020-11-18T16:36:37.931216",
     "status": "completed"
    },
    "tags": []
   },
   "source": [
    "\n",
    "## Popular goods for applying loans\n",
    "\n",
    "NAME_GOODS_CATEGORY - What kind of goods did the client apply for in the previous application.\n",
    "\n"
   ]
  },
  {
   "cell_type": "code",
   "execution_count": null,
   "metadata": {
    "execution": {
     "iopub.execute_input": "2020-11-18T16:36:39.266281Z",
     "iopub.status.busy": "2020-11-18T16:36:39.265312Z",
     "iopub.status.idle": "2020-11-18T16:36:40.202358Z",
     "shell.execute_reply": "2020-11-18T16:36:40.201609Z"
    },
    "papermill": {
     "duration": 1.38756,
     "end_time": "2020-11-18T16:36:40.202490",
     "exception": false,
     "start_time": "2020-11-18T16:36:38.814930",
     "status": "completed"
    },
    "tags": []
   },
   "outputs": [],
   "source": [
    "goods = previous_application[\"NAME_GOODS_CATEGORY\"].value_counts().reset_index()\n",
    "goods[\"percentage\"] = round(goods[\"NAME_GOODS_CATEGORY\"]*100/goods[\"NAME_GOODS_CATEGORY\"].sum(),2)\n",
    "fig = plt.figure(figsize=(12,5))\n",
    "ax = sns.pointplot(\"index\",\"percentage\",data=goods,color=\"yellow\")\n",
    "plt.xticks(rotation = 80)\n",
    "plt.xlabel(\"NAME_GOODS_CATEGORY\")\n",
    "plt.ylabel(\"percentage\")\n",
    "plt.title(\"popular goods for applying loans\")\n",
    "ax.set_facecolor(\"k\")\n",
    "fig.set_facecolor('lightgrey')"
   ]
  },
  {
   "cell_type": "markdown",
   "metadata": {
    "papermill": {
     "duration": 0.438454,
     "end_time": "2020-11-18T16:36:41.083201",
     "exception": false,
     "start_time": "2020-11-18T16:36:40.644747",
     "status": "completed"
    },
    "tags": []
   },
   "source": [
    "### Point to infer from the graph\n",
    "XNA ,Mobiles ,Computers and consumer electronics are popular goods for applying loans"
   ]
  },
  {
   "cell_type": "markdown",
   "metadata": {
    "papermill": {
     "duration": 0.439738,
     "end_time": "2020-11-18T16:36:41.966057",
     "exception": false,
     "start_time": "2020-11-18T16:36:41.526319",
     "status": "completed"
    },
    "tags": []
   },
   "source": [
    "\n",
    "### Previous applications portfolio and product types\n",
    "\n",
    "NAME_PORTFOLIO - Was the previous application for CASH, POS, CAR, …\n",
    "\n",
    "NAME_PRODUCT_TYPE - Was the previous application x-sell o walk-in."
   ]
  },
  {
   "cell_type": "code",
   "execution_count": null,
   "metadata": {
    "execution": {
     "iopub.execute_input": "2020-11-18T16:36:42.870254Z",
     "iopub.status.busy": "2020-11-18T16:36:42.861861Z",
     "iopub.status.idle": "2020-11-18T16:36:43.985227Z",
     "shell.execute_reply": "2020-11-18T16:36:43.985810Z"
    },
    "papermill": {
     "duration": 1.575348,
     "end_time": "2020-11-18T16:36:43.986003",
     "exception": false,
     "start_time": "2020-11-18T16:36:42.410655",
     "status": "completed"
    },
    "tags": []
   },
   "outputs": [],
   "source": [
    "plt.figure(figsize=(20,20))\n",
    "plt.subplot(121)\n",
    "previous_application[\"NAME_PORTFOLIO\"].value_counts().plot.pie(autopct = \"%1.1f%%\",fontsize=12,\n",
    "                                                             colors = sns.color_palette(\"prism\",5),\n",
    "                                              wedgeprops={\"linewidth\":2,\"edgecolor\":\"white\"},\n",
    "                                                               shadow =True)\n",
    "plt.title(\"previous applications portfolio\")\n",
    "plt.subplot(122)\n",
    "previous_application[\"NAME_PRODUCT_TYPE\"].value_counts().plot.pie(autopct = \"%1.1f%%\",fontsize=12,\n",
    "                                                             colors = sns.color_palette(\"prism\",3),\n",
    "                                              wedgeprops={\"linewidth\":2,\"edgecolor\":\"white\"},\n",
    "                                                                  shadow =True)\n",
    "plt.title(\"previous applications product types\")\n",
    "plt.show()"
   ]
  },
  {
   "cell_type": "markdown",
   "metadata": {
    "papermill": {
     "duration": 0.4755,
     "end_time": "2020-11-18T16:36:44.955798",
     "exception": false,
     "start_time": "2020-11-18T16:36:44.480298",
     "status": "completed"
    },
    "tags": []
   },
   "source": [
    "\n",
    "### Approval,canceled and refusal rates by channel types.\n",
    "\n",
    "CHANNEL_TYPE - Through which channel we acquired the client on the previous application.\n",
    "\n",
    "NAME_CONTRACT_STATUS- Contract status (approved, cancelled, ...) of previous application.\n",
    "\n"
   ]
  },
  {
   "cell_type": "code",
   "execution_count": null,
   "metadata": {
    "execution": {
     "iopub.execute_input": "2020-11-18T16:36:45.876124Z",
     "iopub.status.busy": "2020-11-18T16:36:45.875022Z",
     "iopub.status.idle": "2020-11-18T16:36:46.709333Z",
     "shell.execute_reply": "2020-11-18T16:36:46.709922Z"
    },
    "papermill": {
     "duration": 1.303069,
     "end_time": "2020-11-18T16:36:46.710110",
     "exception": false,
     "start_time": "2020-11-18T16:36:45.407041",
     "status": "completed"
    },
    "tags": []
   },
   "outputs": [],
   "source": [
    "app = pd.crosstab(previous_application[\"CHANNEL_TYPE\"],previous_application[\"NAME_CONTRACT_STATUS\"])\n",
    "app1 = app\n",
    "app1[\"approval_rate\"] = app1[\"Approved\"]*100/(app1[\"Approved\"]+app1[\"Refused\"]+app1[\"Canceled\"])\n",
    "app1[\"refused_rate\"]  = app1[\"Refused\"]*100/(app1[\"Approved\"]+app1[\"Refused\"]+app1[\"Canceled\"])\n",
    "app1[\"cacelled_rate\"] = app1[\"Canceled\"]*100/(app1[\"Approved\"]+app1[\"Refused\"]+app1[\"Canceled\"])\n",
    "app2 = app[[\"approval_rate\",\"refused_rate\",\"cacelled_rate\"]]\n",
    "ax = app2.plot(kind=\"barh\",stacked=True,figsize=(10,7))\n",
    "ax.set_facecolor(\"k\")\n",
    "ax.set_xlabel(\"percentage\")\n",
    "ax.set_title(\"approval,cancel and refusal rates by channel types\")\n",
    "plt.show()"
   ]
  },
  {
   "cell_type": "markdown",
   "metadata": {
    "papermill": {
     "duration": 0.440745,
     "end_time": "2020-11-18T16:36:47.602212",
     "exception": false,
     "start_time": "2020-11-18T16:36:47.161467",
     "status": "completed"
    },
    "tags": []
   },
   "source": [
    "### Point to infer from the graph\n",
    "\n",
    "Channel types like Stone ,regional and country-wide have maximum approval rates.\n",
    "\n",
    "Channel of coorporate sales have maximum refusal rate.\n",
    "\n",
    "Credit-cash centres and Contact centres have maximum cancellation rates."
   ]
  },
  {
   "cell_type": "markdown",
   "metadata": {
    "papermill": {
     "duration": 0.454075,
     "end_time": "2020-11-18T16:36:48.543229",
     "exception": false,
     "start_time": "2020-11-18T16:36:48.089154",
     "status": "completed"
    },
    "tags": []
   },
   "source": [
    "### Highest amount credited seller areas and industries.\n",
    "\n",
    "SELLERPLACE_AREA - Selling area of seller place of the previous application.\n",
    "\n",
    "NAME_SELLER_INDUSTRY - The industry of the seller."
   ]
  },
  {
   "cell_type": "code",
   "execution_count": null,
   "metadata": {
    "execution": {
     "iopub.execute_input": "2020-11-18T16:36:49.493638Z",
     "iopub.status.busy": "2020-11-18T16:36:49.492361Z",
     "iopub.status.idle": "2020-11-18T16:36:50.342047Z",
     "shell.execute_reply": "2020-11-18T16:36:50.341441Z"
    },
    "papermill": {
     "duration": 1.309256,
     "end_time": "2020-11-18T16:36:50.342178",
     "exception": false,
     "start_time": "2020-11-18T16:36:49.032922",
     "status": "completed"
    },
    "tags": []
   },
   "outputs": [],
   "source": [
    "fig = plt.figure(figsize=(13,5))\n",
    "plt.subplot(121)\n",
    "are = previous_application.groupby(\"SELLERPLACE_AREA\")[\"AMT_CREDIT\"].sum().reset_index()\n",
    "are = are.sort_values(by =\"AMT_CREDIT\",ascending = False)\n",
    "ax = sns.barplot(y= \"AMT_CREDIT\",x =\"SELLERPLACE_AREA\",data=are[:15],color=\"r\")\n",
    "ax.set_facecolor(\"k\")\n",
    "ax.set_title(\"Highest amount credited seller place areas\")\n",
    "\n",
    "plt.subplot(122)\n",
    "sell = previous_application.groupby(\"NAME_SELLER_INDUSTRY\")[\"AMT_CREDIT\"].sum().reset_index().sort_values(by = \"AMT_CREDIT\",ascending = False)\n",
    "ax1=sns.barplot(y = \"AMT_CREDIT\",x = \"NAME_SELLER_INDUSTRY\",data=sell,color=\"b\")\n",
    "ax1.set_facecolor(\"k\")\n",
    "ax1.set_title(\"Highest amount credited seller industrys\")\n",
    "plt.xticks(rotation=90)\n",
    "plt.subplots_adjust(wspace = .5)\n",
    "fig.set_facecolor(\"lightgrey\")"
   ]
  },
  {
   "cell_type": "markdown",
   "metadata": {
    "papermill": {
     "duration": 0.448523,
     "end_time": "2020-11-18T16:36:51.246862",
     "exception": false,
     "start_time": "2020-11-18T16:36:50.798339",
     "status": "completed"
    },
    "tags": []
   },
   "source": [
    "\n",
    "### Popular terms of previous credit at application.\n",
    "\n",
    "CNT_PAYMENT - Term of previous credit at application of the previous application.\n",
    "\n"
   ]
  },
  {
   "cell_type": "code",
   "execution_count": null,
   "metadata": {
    "execution": {
     "iopub.execute_input": "2020-11-18T16:36:52.152820Z",
     "iopub.status.busy": "2020-11-18T16:36:52.152050Z",
     "iopub.status.idle": "2020-11-18T16:37:30.213554Z",
     "shell.execute_reply": "2020-11-18T16:37:30.214201Z"
    },
    "papermill": {
     "duration": 38.521056,
     "end_time": "2020-11-18T16:37:30.214378",
     "exception": false,
     "start_time": "2020-11-18T16:36:51.693322",
     "status": "completed"
    },
    "tags": []
   },
   "outputs": [],
   "source": [
    "plt.figure(figsize=(13,5))\n",
    "ax = sns.countplot(previous_application[\"CNT_PAYMENT\"],palette=\"Set1\",order=previous_application[\"CNT_PAYMENT\"].value_counts().index)\n",
    "ax.set_facecolor(\"k\")\n",
    "plt.xticks(rotation = 90)\n",
    "plt.title(\"popular terms of previous credit at application\")\n",
    "plt.show()"
   ]
  },
  {
   "cell_type": "markdown",
   "metadata": {
    "papermill": {
     "duration": 0.448432,
     "end_time": "2020-11-18T16:37:31.108065",
     "exception": false,
     "start_time": "2020-11-18T16:37:30.659633",
     "status": "completed"
    },
    "tags": []
   },
   "source": [
    "### Point to infer from the graph\n",
    "\n",
    "Popular term of previous credit are 6months ,10months ,1year ,2years & 3 years."
   ]
  },
  {
   "cell_type": "markdown",
   "metadata": {
    "papermill": {
     "duration": 0.451609,
     "end_time": "2020-11-18T16:37:32.009339",
     "exception": false,
     "start_time": "2020-11-18T16:37:31.557730",
     "status": "completed"
    },
    "tags": []
   },
   "source": [
    "### Detailed product combination of the previous application"
   ]
  },
  {
   "cell_type": "code",
   "execution_count": null,
   "metadata": {
    "execution": {
     "iopub.execute_input": "2020-11-18T16:37:33.363174Z",
     "iopub.status.busy": "2020-11-18T16:37:33.362412Z",
     "iopub.status.idle": "2020-11-18T16:38:14.713588Z",
     "shell.execute_reply": "2020-11-18T16:38:14.714310Z"
    },
    "papermill": {
     "duration": 42.260403,
     "end_time": "2020-11-18T16:38:14.714492",
     "exception": false,
     "start_time": "2020-11-18T16:37:32.454089",
     "status": "completed"
    },
    "tags": []
   },
   "outputs": [],
   "source": [
    "plt.figure(figsize=(10,8))\n",
    "sns.countplot(y = previous_application[\"PRODUCT_COMBINATION\"],order=previous_application[\"PRODUCT_COMBINATION\"].value_counts().index)\n",
    "plt.title(\"Detailed product combination of the previous application -count\")\n",
    "plt.show()"
   ]
  },
  {
   "cell_type": "markdown",
   "metadata": {
    "papermill": {
     "duration": 0.447111,
     "end_time": "2020-11-18T16:38:15.610446",
     "exception": false,
     "start_time": "2020-11-18T16:38:15.163335",
     "status": "completed"
    },
    "tags": []
   },
   "source": [
    "\n",
    "### Frequency distribution of intrest rates and client insurance requests\n",
    "\n",
    "NAME_YIELD_GROUP - Grouped interest rate into small medium and high of the previous application.\n",
    "\n",
    "NFLAG_INSURED_ON_APPROVAL - Did the client requested insurance during the previous application."
   ]
  },
  {
   "cell_type": "code",
   "execution_count": null,
   "metadata": {
    "execution": {
     "iopub.execute_input": "2020-11-18T16:38:16.583013Z",
     "iopub.status.busy": "2020-11-18T16:38:16.582214Z",
     "iopub.status.idle": "2020-11-18T16:38:17.237627Z",
     "shell.execute_reply": "2020-11-18T16:38:17.236915Z"
    },
    "papermill": {
     "duration": 1.180956,
     "end_time": "2020-11-18T16:38:17.237765",
     "exception": false,
     "start_time": "2020-11-18T16:38:16.056809",
     "status": "completed"
    },
    "tags": []
   },
   "outputs": [],
   "source": [
    "plt.figure(figsize=(12,6))\n",
    "plt.subplot(121)\n",
    "previous_application[\"NFLAG_INSURED_ON_APPROVAL\"].value_counts().plot.pie(autopct = \"%1.1f%%\",fontsize=8,\n",
    "                                                             colors = sns.color_palette(\"prism\",4),\n",
    "                                              wedgeprops={\"linewidth\":2,\"edgecolor\":\"white\"},shadow =True)\n",
    "circ = plt.Circle((0,0),.7,color=\"white\")\n",
    "plt.gca().add_artist(circ)\n",
    "plt.title(\"client requesting insurance\")\n",
    "\n",
    "plt.subplot(122)\n",
    "previous_application[\"NAME_YIELD_GROUP\"].value_counts().plot.pie(autopct = \"%1.1f%%\",fontsize=8,\n",
    "                                                             colors = sns.color_palette(\"prism\",4),\n",
    "                                              wedgeprops={\"linewidth\":2,\"edgecolor\":\"white\"},shadow =True)\n",
    "circ = plt.Circle((0,0),.7,color=\"white\")\n",
    "plt.gca().add_artist(circ)\n",
    "plt.title(\"interest rates\")\n",
    "plt.show()"
   ]
  },
  {
   "cell_type": "markdown",
   "metadata": {
    "papermill": {
     "duration": 0.451453,
     "end_time": "2020-11-18T16:38:18.148858",
     "exception": false,
     "start_time": "2020-11-18T16:38:17.697405",
     "status": "completed"
    },
    "tags": []
   },
   "source": [
    "### Days variables - Relative to application date of current application\n",
    "\n",
    "DAYS_FIRST_DRAWING - Relative to application date of current application when was the first disbursement of the previous application.\n",
    "\n",
    "DAYS_FIRST_DUE - Relative to application date of current application when was the first due supposed to be of the previous application.\n",
    "\n",
    "DAYS_LAST_DUE_1ST_VERSION - Relative to application date of current application when was the first due of the previous application.\n",
    "\n",
    "DAYS_LAST_DUE -Relative to application date of current application when was the last due date of the previous application.\n",
    "\n",
    "DAYS_TERMINATION - Relative to application date of current application when was the expected termination of the previous application."
   ]
  },
  {
   "cell_type": "code",
   "execution_count": null,
   "metadata": {
    "execution": {
     "iopub.execute_input": "2020-11-18T16:38:19.130273Z",
     "iopub.status.busy": "2020-11-18T16:38:19.128891Z",
     "iopub.status.idle": "2020-11-18T16:38:19.913183Z",
     "shell.execute_reply": "2020-11-18T16:38:19.912361Z"
    },
    "papermill": {
     "duration": 1.311471,
     "end_time": "2020-11-18T16:38:19.913341",
     "exception": false,
     "start_time": "2020-11-18T16:38:18.601870",
     "status": "completed"
    },
    "tags": []
   },
   "outputs": [],
   "source": [
    "cols = ['DAYS_FIRST_DRAWING', 'DAYS_FIRST_DUE', 'DAYS_LAST_DUE_1ST_VERSION','DAYS_LAST_DUE', 'DAYS_TERMINATION']\n",
    "plt.figure(figsize=(12,6))\n",
    "sns.heatmap(previous_application[cols].describe()[1:].transpose(),\n",
    "            annot=True,linewidth=2,linecolor=\"k\",cmap=sns.color_palette(\"inferno\"))\n",
    "plt.show()"
   ]
  },
  {
   "cell_type": "markdown",
   "metadata": {
    "papermill": {
     "duration": 0.455465,
     "end_time": "2020-11-18T16:38:20.827625",
     "exception": false,
     "start_time": "2020-11-18T16:38:20.372160",
     "status": "completed"
    },
    "tags": []
   },
   "source": [
    "# Corelation between variables"
   ]
  },
  {
   "cell_type": "markdown",
   "metadata": {
    "papermill": {
     "duration": 0.453325,
     "end_time": "2020-11-18T16:38:21.731329",
     "exception": false,
     "start_time": "2020-11-18T16:38:21.278004",
     "status": "completed"
    },
    "tags": []
   },
   "source": [
    "\n",
    "### Application Data"
   ]
  },
  {
   "cell_type": "code",
   "execution_count": null,
   "metadata": {
    "execution": {
     "iopub.execute_input": "2020-11-18T16:38:22.646570Z",
     "iopub.status.busy": "2020-11-18T16:38:22.645732Z",
     "iopub.status.idle": "2020-11-18T16:38:26.247043Z",
     "shell.execute_reply": "2020-11-18T16:38:26.247647Z"
    },
    "papermill": {
     "duration": 4.062807,
     "end_time": "2020-11-18T16:38:26.247807",
     "exception": false,
     "start_time": "2020-11-18T16:38:22.185000",
     "status": "completed"
    },
    "tags": []
   },
   "outputs": [],
   "source": [
    "corrmat = application_data.corr() \n",
    "  \n",
    "f, ax = plt.subplots(figsize =(8, 8)) \n",
    "sns.heatmap(corrmat, ax = ax, cmap =\"rainbow\") \n",
    "plt.show()"
   ]
  },
  {
   "cell_type": "markdown",
   "metadata": {
    "papermill": {
     "duration": 0.462731,
     "end_time": "2020-11-18T16:38:27.174469",
     "exception": false,
     "start_time": "2020-11-18T16:38:26.711738",
     "status": "completed"
    },
    "tags": []
   },
   "source": [
    "\n",
    "# Previous Application "
   ]
  },
  {
   "cell_type": "code",
   "execution_count": null,
   "metadata": {
    "execution": {
     "iopub.execute_input": "2020-11-18T16:38:28.102813Z",
     "iopub.status.busy": "2020-11-18T16:38:28.102016Z",
     "iopub.status.idle": "2020-11-18T16:38:31.071893Z",
     "shell.execute_reply": "2020-11-18T16:38:31.071287Z"
    },
    "papermill": {
     "duration": 3.437576,
     "end_time": "2020-11-18T16:38:31.072059",
     "exception": false,
     "start_time": "2020-11-18T16:38:27.634483",
     "status": "completed"
    },
    "tags": []
   },
   "outputs": [],
   "source": [
    "corrmat = previous_application.corr() \n",
    "  \n",
    "f, ax = plt.subplots(figsize =(8, 8)) \n",
    "sns.heatmap(corrmat, ax = ax, cmap =\"rainbow\") \n",
    "plt.show()"
   ]
  },
  {
   "cell_type": "code",
   "execution_count": null,
   "metadata": {
    "execution": {
     "iopub.execute_input": "2020-11-18T16:38:32.007065Z",
     "iopub.status.busy": "2020-11-18T16:38:32.006157Z",
     "iopub.status.idle": "2020-11-18T16:38:34.318187Z",
     "shell.execute_reply": "2020-11-18T16:38:34.317511Z"
    },
    "papermill": {
     "duration": 2.780318,
     "end_time": "2020-11-18T16:38:34.318330",
     "exception": false,
     "start_time": "2020-11-18T16:38:31.538012",
     "status": "completed"
    },
    "tags": []
   },
   "outputs": [],
   "source": [
    "corrmat = previous_application.corr() \n",
    "corrdf = corrmat.where(np.triu(np.ones(corrmat.shape), k=1).astype(np.bool))\n",
    "corrdf = corrdf.unstack().reset_index()\n",
    "corrdf.columns = ['Var1', 'Var2', 'Correlation']\n",
    "corrdf.dropna(subset = ['Correlation'], inplace = True)\n",
    "corrdf['Correlation'] = round(corrdf['Correlation'], 2)\n",
    "corrdf['Correlation'] = abs(corrdf['Correlation'])\n",
    "corrdf.sort_values(by = 'Correlation', ascending = False).head(10)"
   ]
  },
  {
   "cell_type": "markdown",
   "metadata": {
    "papermill": {
     "duration": 0.461358,
     "end_time": "2020-11-18T16:38:35.262300",
     "exception": false,
     "start_time": "2020-11-18T16:38:34.800942",
     "status": "completed"
    },
    "tags": []
   },
   "source": [
    "# Application Data"
   ]
  },
  {
   "cell_type": "markdown",
   "metadata": {
    "papermill": {
     "duration": 0.457784,
     "end_time": "2020-11-18T16:38:36.192441",
     "exception": false,
     "start_time": "2020-11-18T16:38:35.734657",
     "status": "completed"
    },
    "tags": []
   },
   "source": [
    "\n",
    "## Top 10 Correlation Fields for Repayer"
   ]
  },
  {
   "cell_type": "code",
   "execution_count": null,
   "metadata": {
    "execution": {
     "iopub.execute_input": "2020-11-18T16:38:37.113884Z",
     "iopub.status.busy": "2020-11-18T16:38:37.113110Z",
     "iopub.status.idle": "2020-11-18T16:38:37.229327Z",
     "shell.execute_reply": "2020-11-18T16:38:37.228650Z"
    },
    "papermill": {
     "duration": 0.578693,
     "end_time": "2020-11-18T16:38:37.229475",
     "exception": false,
     "start_time": "2020-11-18T16:38:36.650782",
     "status": "completed"
    },
    "tags": []
   },
   "outputs": [],
   "source": [
    "df_repayer = application_data[application_data['TARGET'] == 0]\n",
    "df_defaulter = application_data[application_data['TARGET'] == 1]"
   ]
  },
  {
   "cell_type": "code",
   "execution_count": null,
   "metadata": {
    "execution": {
     "iopub.execute_input": "2020-11-18T16:38:38.172060Z",
     "iopub.status.busy": "2020-11-18T16:38:38.171171Z",
     "iopub.status.idle": "2020-11-18T16:38:40.511587Z",
     "shell.execute_reply": "2020-11-18T16:38:40.510798Z"
    },
    "papermill": {
     "duration": 2.819222,
     "end_time": "2020-11-18T16:38:40.511717",
     "exception": false,
     "start_time": "2020-11-18T16:38:37.692495",
     "status": "completed"
    },
    "tags": []
   },
   "outputs": [],
   "source": [
    "corrmat = df_repayer.corr() \n",
    "corrdf = corrmat.where(np.triu(np.ones(corrmat.shape), k=1).astype(np.bool))\n",
    "corrdf = corrdf.unstack().reset_index()\n",
    "corrdf.columns = ['Var1', 'Var2', 'Correlation']\n",
    "corrdf.dropna(subset = ['Correlation'], inplace = True)\n",
    "corrdf['Correlation'] = round(corrdf['Correlation'], 2)\n",
    "corrdf['Correlation'] = abs(corrdf['Correlation'])\n",
    "corrdf.sort_values(by = 'Correlation', ascending = False).head(10)"
   ]
  },
  {
   "cell_type": "markdown",
   "metadata": {
    "papermill": {
     "duration": 0.466474,
     "end_time": "2020-11-18T16:38:41.439319",
     "exception": false,
     "start_time": "2020-11-18T16:38:40.972845",
     "status": "completed"
    },
    "tags": []
   },
   "source": [
    "## Top 10 Correlation Fields for Defaulter"
   ]
  },
  {
   "cell_type": "code",
   "execution_count": null,
   "metadata": {
    "execution": {
     "iopub.execute_input": "2020-11-18T16:38:42.377797Z",
     "iopub.status.busy": "2020-11-18T16:38:42.376659Z",
     "iopub.status.idle": "2020-11-18T16:38:42.611563Z",
     "shell.execute_reply": "2020-11-18T16:38:42.610937Z"
    },
    "papermill": {
     "duration": 0.707782,
     "end_time": "2020-11-18T16:38:42.611701",
     "exception": false,
     "start_time": "2020-11-18T16:38:41.903919",
     "status": "completed"
    },
    "tags": []
   },
   "outputs": [],
   "source": [
    "corrmat = df_defaulter.corr() \n",
    "corrdf = corrmat.where(np.triu(np.ones(corrmat.shape), k=1).astype(np.bool))\n",
    "corrdf = corrdf.unstack().reset_index()\n",
    "corrdf.columns = ['Var1', 'Var2', 'Correlation']\n",
    "corrdf.dropna(subset = ['Correlation'], inplace = True)\n",
    "corrdf['Correlation'] = round(corrdf['Correlation'], 2)\n",
    "corrdf['Correlation'] = abs(corrdf['Correlation'])\n",
    "corrdf.sort_values(by = 'Correlation', ascending = False).head(10)"
   ]
  },
  {
   "cell_type": "code",
   "execution_count": null,
   "metadata": {
    "execution": {
     "iopub.execute_input": "2020-11-18T16:38:43.552459Z",
     "iopub.status.busy": "2020-11-18T16:38:43.550872Z",
     "iopub.status.idle": "2020-11-18T16:39:12.367222Z",
     "shell.execute_reply": "2020-11-18T16:39:12.366486Z"
    },
    "papermill": {
     "duration": 29.286697,
     "end_time": "2020-11-18T16:39:12.367354",
     "exception": false,
     "start_time": "2020-11-18T16:38:43.080657",
     "status": "completed"
    },
    "tags": []
   },
   "outputs": [],
   "source": [
    "mergeddf =  pd.merge(application_data,previous_application,on='SK_ID_CURR')\n",
    "mergeddf.head()"
   ]
  },
  {
   "cell_type": "code",
   "execution_count": null,
   "metadata": {
    "execution": {
     "iopub.execute_input": "2020-11-18T16:39:13.321051Z",
     "iopub.status.busy": "2020-11-18T16:39:13.319494Z",
     "iopub.status.idle": "2020-11-18T16:39:15.525393Z",
     "shell.execute_reply": "2020-11-18T16:39:15.524661Z"
    },
    "papermill": {
     "duration": 2.682029,
     "end_time": "2020-11-18T16:39:15.525529",
     "exception": false,
     "start_time": "2020-11-18T16:39:12.843500",
     "status": "completed"
    },
    "tags": []
   },
   "outputs": [],
   "source": [
    "y = mergeddf.groupby('SK_ID_CURR').size()\n",
    "dfA = mergeddf.groupby('SK_ID_CURR').agg({'TARGET': np.sum})\n",
    "dfA['count'] = y\n",
    "display(dfA.head(10))"
   ]
  },
  {
   "cell_type": "code",
   "execution_count": null,
   "metadata": {
    "execution": {
     "iopub.execute_input": "2020-11-18T16:39:16.509456Z",
     "iopub.status.busy": "2020-11-18T16:39:16.508196Z",
     "iopub.status.idle": "2020-11-18T16:39:16.543704Z",
     "shell.execute_reply": "2020-11-18T16:39:16.542914Z"
    },
    "papermill": {
     "duration": 0.504919,
     "end_time": "2020-11-18T16:39:16.543841",
     "exception": false,
     "start_time": "2020-11-18T16:39:16.038922",
     "status": "completed"
    },
    "tags": []
   },
   "outputs": [],
   "source": [
    "dfA.sort_values(by = 'count',ascending=False).head(10)"
   ]
  },
  {
   "cell_type": "code",
   "execution_count": null,
   "metadata": {
    "execution": {
     "iopub.execute_input": "2020-11-18T16:39:17.476704Z",
     "iopub.status.busy": "2020-11-18T16:39:17.475497Z",
     "iopub.status.idle": "2020-11-18T16:39:17.498059Z",
     "shell.execute_reply": "2020-11-18T16:39:17.497271Z"
    },
    "papermill": {
     "duration": 0.490271,
     "end_time": "2020-11-18T16:39:17.498187",
     "exception": false,
     "start_time": "2020-11-18T16:39:17.007916",
     "status": "completed"
    },
    "tags": []
   },
   "outputs": [],
   "source": [
    "df_repayer = dfA[dfA['TARGET'] == 0]\n",
    "df_defaulter = dfA[dfA['TARGET'] == 1]"
   ]
  },
  {
   "cell_type": "markdown",
   "metadata": {
    "papermill": {
     "duration": 0.468455,
     "end_time": "2020-11-18T16:39:18.434329",
     "exception": false,
     "start_time": "2020-11-18T16:39:17.965874",
     "status": "completed"
    },
    "tags": []
   },
   "source": [
    "### Repayers' Borrowing History "
   ]
  },
  {
   "cell_type": "code",
   "execution_count": null,
   "metadata": {
    "execution": {
     "iopub.execute_input": "2020-11-18T16:39:19.399952Z",
     "iopub.status.busy": "2020-11-18T16:39:19.398722Z",
     "iopub.status.idle": "2020-11-18T16:39:19.429703Z",
     "shell.execute_reply": "2020-11-18T16:39:19.429063Z"
    },
    "papermill": {
     "duration": 0.504072,
     "end_time": "2020-11-18T16:39:19.429842",
     "exception": false,
     "start_time": "2020-11-18T16:39:18.925770",
     "status": "completed"
    },
    "tags": []
   },
   "outputs": [],
   "source": [
    "df_repayer.sort_values(by = 'count',ascending=False).head(10)"
   ]
  },
  {
   "cell_type": "markdown",
   "metadata": {
    "papermill": {
     "duration": 0.466397,
     "end_time": "2020-11-18T16:39:20.362892",
     "exception": false,
     "start_time": "2020-11-18T16:39:19.896495",
     "status": "completed"
    },
    "tags": []
   },
   "source": [
    "### Defaulters' Borrowing History "
   ]
  },
  {
   "cell_type": "code",
   "execution_count": null,
   "metadata": {
    "execution": {
     "iopub.execute_input": "2020-11-18T16:39:21.307957Z",
     "iopub.status.busy": "2020-11-18T16:39:21.301351Z",
     "iopub.status.idle": "2020-11-18T16:39:21.312939Z",
     "shell.execute_reply": "2020-11-18T16:39:21.312167Z"
    },
    "papermill": {
     "duration": 0.484454,
     "end_time": "2020-11-18T16:39:21.313092",
     "exception": false,
     "start_time": "2020-11-18T16:39:20.828638",
     "status": "completed"
    },
    "tags": []
   },
   "outputs": [],
   "source": [
    "df_defaulter.sort_values(by = 'count',ascending=False).head(10)"
   ]
  },
  {
   "cell_type": "code",
   "execution_count": null,
   "metadata": {
    "execution": {
     "iopub.execute_input": "2020-11-18T16:39:22.261764Z",
     "iopub.status.busy": "2020-11-18T16:39:22.260991Z",
     "iopub.status.idle": "2020-11-18T16:39:26.552191Z",
     "shell.execute_reply": "2020-11-18T16:39:26.551563Z"
    },
    "papermill": {
     "duration": 4.765511,
     "end_time": "2020-11-18T16:39:26.552327",
     "exception": false,
     "start_time": "2020-11-18T16:39:21.786816",
     "status": "completed"
    },
    "tags": []
   },
   "outputs": [],
   "source": [
    "mergeddf.isnull().sum()"
   ]
  },
  {
   "cell_type": "code",
   "execution_count": null,
   "metadata": {
    "_kg_hide-output": false,
    "execution": {
     "iopub.execute_input": "2020-11-18T16:39:27.551738Z",
     "iopub.status.busy": "2020-11-18T16:39:27.550918Z",
     "iopub.status.idle": "2020-11-18T16:39:31.813833Z",
     "shell.execute_reply": "2020-11-18T16:39:31.814495Z"
    },
    "papermill": {
     "duration": 4.796757,
     "end_time": "2020-11-18T16:39:31.814671",
     "exception": false,
     "start_time": "2020-11-18T16:39:27.017914",
     "status": "completed"
    },
    "tags": []
   },
   "outputs": [],
   "source": [
    "round(100*(mergeddf.isnull().sum()/len(mergeddf.index)), 2)"
   ]
  },
  {
   "cell_type": "code",
   "execution_count": null,
   "metadata": {
    "execution": {
     "iopub.execute_input": "2020-11-18T16:39:32.850823Z",
     "iopub.status.busy": "2020-11-18T16:39:32.845941Z",
     "iopub.status.idle": "2020-11-18T16:39:32.856234Z",
     "shell.execute_reply": "2020-11-18T16:39:32.856817Z"
    },
    "papermill": {
     "duration": 0.574008,
     "end_time": "2020-11-18T16:39:32.856993",
     "exception": false,
     "start_time": "2020-11-18T16:39:32.282985",
     "status": "completed"
    },
    "tags": []
   },
   "outputs": [],
   "source": [
    "mergeddf.head()"
   ]
  },
  {
   "cell_type": "code",
   "execution_count": null,
   "metadata": {
    "execution": {
     "iopub.execute_input": "2020-11-18T16:39:34.368877Z",
     "iopub.status.busy": "2020-11-18T16:39:33.967033Z",
     "iopub.status.idle": "2020-11-18T16:39:34.481240Z",
     "shell.execute_reply": "2020-11-18T16:39:34.480569Z"
    },
    "papermill": {
     "duration": 1.144266,
     "end_time": "2020-11-18T16:39:34.481403",
     "exception": false,
     "start_time": "2020-11-18T16:39:33.337137",
     "status": "completed"
    },
    "tags": []
   },
   "outputs": [],
   "source": [
    "#dropping SK_ID_CURR since it all unique values\n",
    "\n",
    "mergeddf.drop(['SK_ID_CURR'], 1, inplace = True)\n"
   ]
  },
  {
   "cell_type": "code",
   "execution_count": null,
   "metadata": {
    "execution": {
     "iopub.execute_input": "2020-11-18T16:39:35.473151Z",
     "iopub.status.busy": "2020-11-18T16:39:35.465764Z",
     "iopub.status.idle": "2020-11-18T16:39:35.525478Z",
     "shell.execute_reply": "2020-11-18T16:39:35.526114Z"
    },
    "papermill": {
     "duration": 0.575111,
     "end_time": "2020-11-18T16:39:35.526282",
     "exception": false,
     "start_time": "2020-11-18T16:39:34.951171",
     "status": "completed"
    },
    "tags": []
   },
   "outputs": [],
   "source": [
    "mergeddf.head()"
   ]
  },
  {
   "cell_type": "markdown",
   "metadata": {
    "papermill": {
     "duration": 0.477163,
     "end_time": "2020-11-18T16:39:36.474787",
     "exception": false,
     "start_time": "2020-11-18T16:39:35.997624",
     "status": "completed"
    },
    "tags": []
   },
   "source": [
    "Now we will take care of null values in each column one by one."
   ]
  },
  {
   "cell_type": "code",
   "execution_count": null,
   "metadata": {
    "execution": {
     "iopub.execute_input": "2020-11-18T16:39:37.438331Z",
     "iopub.status.busy": "2020-11-18T16:39:37.437481Z",
     "iopub.status.idle": "2020-11-18T16:39:41.704236Z",
     "shell.execute_reply": "2020-11-18T16:39:41.703573Z"
    },
    "papermill": {
     "duration": 4.751384,
     "end_time": "2020-11-18T16:39:41.704409",
     "exception": false,
     "start_time": "2020-11-18T16:39:36.953025",
     "status": "completed"
    },
    "tags": []
   },
   "outputs": [],
   "source": [
    "round(100*(mergeddf.isnull().sum()/len(mergeddf.index)), 2)"
   ]
  },
  {
   "cell_type": "code",
   "execution_count": null,
   "metadata": {
    "execution": {
     "iopub.execute_input": "2020-11-18T16:39:42.670249Z",
     "iopub.status.busy": "2020-11-18T16:39:42.669371Z",
     "iopub.status.idle": "2020-11-18T16:39:42.744890Z",
     "shell.execute_reply": "2020-11-18T16:39:42.744174Z"
    },
    "papermill": {
     "duration": 0.56197,
     "end_time": "2020-11-18T16:39:42.745048",
     "exception": false,
     "start_time": "2020-11-18T16:39:42.183078",
     "status": "completed"
    },
    "tags": []
   },
   "outputs": [],
   "source": [
    "enq_cs =['AMT_REQ_CREDIT_BUREAU_DAY', 'AMT_REQ_CREDIT_BUREAU_HOUR',\n",
    "       'AMT_REQ_CREDIT_BUREAU_MON', 'AMT_REQ_CREDIT_BUREAU_QRT',\n",
    "       'AMT_REQ_CREDIT_BUREAU_WEEK', 'AMT_REQ_CREDIT_BUREAU_YEAR']\n",
    "for i in enq_cs:\n",
    "    mergeddf[i] = mergeddf[i].fillna(0)"
   ]
  },
  {
   "cell_type": "code",
   "execution_count": null,
   "metadata": {
    "execution": {
     "iopub.execute_input": "2020-11-18T16:39:43.706028Z",
     "iopub.status.busy": "2020-11-18T16:39:43.704516Z",
     "iopub.status.idle": "2020-11-18T16:39:43.747523Z",
     "shell.execute_reply": "2020-11-18T16:39:43.748141Z"
    },
    "papermill": {
     "duration": 0.525664,
     "end_time": "2020-11-18T16:39:43.748340",
     "exception": false,
     "start_time": "2020-11-18T16:39:43.222676",
     "status": "completed"
    },
    "tags": []
   },
   "outputs": [],
   "source": [
    "amt_cs = [\"AMT_ANNUITY_y\",\"AMT_GOODS_PRICE_y\"]\n",
    "for i in amt_cs:\n",
    "    mergeddf[i] = mergeddf[i].fillna(mergeddf[i].mean())\n",
    "    "
   ]
  },
  {
   "cell_type": "code",
   "execution_count": null,
   "metadata": {
    "execution": {
     "iopub.execute_input": "2020-11-18T16:39:44.698842Z",
     "iopub.status.busy": "2020-11-18T16:39:44.698083Z",
     "iopub.status.idle": "2020-11-18T16:39:44.902830Z",
     "shell.execute_reply": "2020-11-18T16:39:44.902191Z"
    },
    "papermill": {
     "duration": 0.682744,
     "end_time": "2020-11-18T16:39:44.902991",
     "exception": false,
     "start_time": "2020-11-18T16:39:44.220247",
     "status": "completed"
    },
    "tags": []
   },
   "outputs": [],
   "source": [
    "cols = [\"DAYS_FIRST_DRAWING\",\"DAYS_FIRST_DUE\",\"DAYS_LAST_DUE_1ST_VERSION\",\n",
    "        \"DAYS_LAST_DUE\",\"DAYS_TERMINATION\",'CNT_PAYMENT']\n",
    "for i in cols :\n",
    "    mergeddf[i]  = mergeddf[i].fillna(mergeddf[i].median())"
   ]
  },
  {
   "cell_type": "code",
   "execution_count": null,
   "metadata": {
    "execution": {
     "iopub.execute_input": "2020-11-18T16:39:46.016704Z",
     "iopub.status.busy": "2020-11-18T16:39:46.015858Z",
     "iopub.status.idle": "2020-11-18T16:39:46.223454Z",
     "shell.execute_reply": "2020-11-18T16:39:46.222804Z"
    },
    "papermill": {
     "duration": 0.848331,
     "end_time": "2020-11-18T16:39:46.223594",
     "exception": false,
     "start_time": "2020-11-18T16:39:45.375263",
     "status": "completed"
    },
    "tags": []
   },
   "outputs": [],
   "source": [
    "cols = [\"NAME_TYPE_SUITE_y\",\"NFLAG_INSURED_ON_APPROVAL\"]\n",
    "for i in cols :\n",
    "    mergeddf[i]  = mergeddf[i].fillna(mergeddf[i].mode()[0])"
   ]
  },
  {
   "cell_type": "code",
   "execution_count": null,
   "metadata": {
    "execution": {
     "iopub.execute_input": "2020-11-18T16:39:47.186120Z",
     "iopub.status.busy": "2020-11-18T16:39:47.184516Z",
     "iopub.status.idle": "2020-11-18T16:39:52.600643Z",
     "shell.execute_reply": "2020-11-18T16:39:52.601223Z"
    },
    "papermill": {
     "duration": 5.907634,
     "end_time": "2020-11-18T16:39:52.601397",
     "exception": false,
     "start_time": "2020-11-18T16:39:46.693763",
     "status": "completed"
    },
    "tags": []
   },
   "outputs": [],
   "source": [
    "# Rest missing values are under 1.5% so we can drop these rows.\n",
    "mergeddf.dropna(inplace = True)"
   ]
  },
  {
   "cell_type": "code",
   "execution_count": null,
   "metadata": {
    "_kg_hide-output": false,
    "execution": {
     "iopub.execute_input": "2020-11-18T16:39:53.570216Z",
     "iopub.status.busy": "2020-11-18T16:39:53.569393Z",
     "iopub.status.idle": "2020-11-18T16:39:57.990843Z",
     "shell.execute_reply": "2020-11-18T16:39:57.990172Z"
    },
    "papermill": {
     "duration": 4.9082,
     "end_time": "2020-11-18T16:39:57.991004",
     "exception": false,
     "start_time": "2020-11-18T16:39:53.082804",
     "status": "completed"
    },
    "tags": []
   },
   "outputs": [],
   "source": [
    "round(100*(mergeddf.isnull().sum()/len(mergeddf.index)), 2)"
   ]
  },
  {
   "cell_type": "code",
   "execution_count": null,
   "metadata": {
    "execution": {
     "iopub.execute_input": "2020-11-18T16:39:58.990917Z",
     "iopub.status.busy": "2020-11-18T16:39:58.989458Z",
     "iopub.status.idle": "2020-11-18T16:40:03.289923Z",
     "shell.execute_reply": "2020-11-18T16:40:03.289199Z"
    },
    "papermill": {
     "duration": 4.812767,
     "end_time": "2020-11-18T16:40:03.290072",
     "exception": false,
     "start_time": "2020-11-18T16:39:58.477305",
     "status": "completed"
    },
    "tags": []
   },
   "outputs": [],
   "source": [
    "mergeddf.isnull().sum()"
   ]
  },
  {
   "cell_type": "code",
   "execution_count": null,
   "metadata": {
    "execution": {
     "iopub.execute_input": "2020-11-18T16:40:04.335820Z",
     "iopub.status.busy": "2020-11-18T16:40:04.334937Z",
     "iopub.status.idle": "2020-11-18T16:40:04.341440Z",
     "shell.execute_reply": "2020-11-18T16:40:04.340699Z"
    },
    "papermill": {
     "duration": 0.575757,
     "end_time": "2020-11-18T16:40:04.341567",
     "exception": false,
     "start_time": "2020-11-18T16:40:03.765810",
     "status": "completed"
    },
    "tags": []
   },
   "outputs": [],
   "source": [
    "mergeddf.head()"
   ]
  },
  {
   "cell_type": "markdown",
   "metadata": {
    "papermill": {
     "duration": 0.477314,
     "end_time": "2020-11-18T16:40:05.293480",
     "exception": false,
     "start_time": "2020-11-18T16:40:04.816166",
     "status": "completed"
    },
    "tags": []
   },
   "source": [
    "# Data Preparation"
   ]
  },
  {
   "cell_type": "markdown",
   "metadata": {
    "papermill": {
     "duration": 0.481052,
     "end_time": "2020-11-18T16:40:06.295216",
     "exception": false,
     "start_time": "2020-11-18T16:40:05.814164",
     "status": "completed"
    },
    "tags": []
   },
   "source": [
    "Converting some binary variables (Y/N) to 1/0"
   ]
  },
  {
   "cell_type": "code",
   "execution_count": null,
   "metadata": {
    "execution": {
     "iopub.execute_input": "2020-11-18T16:40:07.256063Z",
     "iopub.status.busy": "2020-11-18T16:40:07.255250Z",
     "iopub.status.idle": "2020-11-18T16:40:09.713799Z",
     "shell.execute_reply": "2020-11-18T16:40:09.713030Z"
    },
    "papermill": {
     "duration": 2.947357,
     "end_time": "2020-11-18T16:40:09.713940",
     "exception": false,
     "start_time": "2020-11-18T16:40:06.766583",
     "status": "completed"
    },
    "tags": []
   },
   "outputs": [],
   "source": [
    "# List of variables to map\n",
    "\n",
    "varlist =  ['FLAG_OWN_CAR','FLAG_OWN_REALTY','FLAG_LAST_APPL_PER_CONTRACT']\n",
    "\n",
    "# Defining the map function\n",
    "def binary_map(x):\n",
    "    return x.map({'Y': 1, \"N\": 0})\n",
    "\n",
    "# Applying the function to the housing list\n",
    "mergeddf[varlist] = mergeddf[varlist].apply(binary_map)\n",
    "mergeddf.head()"
   ]
  },
  {
   "cell_type": "code",
   "execution_count": null,
   "metadata": {
    "execution": {
     "iopub.execute_input": "2020-11-18T16:40:10.693551Z",
     "iopub.status.busy": "2020-11-18T16:40:10.692028Z",
     "iopub.status.idle": "2020-11-18T16:40:12.173467Z",
     "shell.execute_reply": "2020-11-18T16:40:12.174128Z"
    },
    "papermill": {
     "duration": 1.965927,
     "end_time": "2020-11-18T16:40:12.174301",
     "exception": false,
     "start_time": "2020-11-18T16:40:10.208374",
     "status": "completed"
    },
    "tags": []
   },
   "outputs": [],
   "source": [
    "#dropping SK_ID_PREV since non required technical field \n",
    "\n",
    "mergeddf.drop(['SK_ID_PREV'], 1, inplace = True)\n",
    "mergeddf.head()"
   ]
  },
  {
   "cell_type": "code",
   "execution_count": null,
   "metadata": {
    "execution": {
     "iopub.execute_input": "2020-11-18T16:40:13.281231Z",
     "iopub.status.busy": "2020-11-18T16:40:13.280413Z",
     "iopub.status.idle": "2020-11-18T16:40:17.543490Z",
     "shell.execute_reply": "2020-11-18T16:40:17.542822Z"
    },
    "papermill": {
     "duration": 4.880756,
     "end_time": "2020-11-18T16:40:17.543632",
     "exception": false,
     "start_time": "2020-11-18T16:40:12.662876",
     "status": "completed"
    },
    "tags": []
   },
   "outputs": [],
   "source": [
    "mergeddf[['FLAG_OWN_CAR','FLAG_OWN_REALTY','FLAG_MOBIL',\n",
    " 'FLAG_EMP_PHONE','FLAG_WORK_PHONE','FLAG_CONT_MOBILE',\n",
    " 'FLAG_PHONE','FLAG_EMAIL','REGION_RATING_CLIENT',\n",
    " 'REGION_RATING_CLIENT_W_CITY','REG_REGION_NOT_LIVE_REGION',\n",
    " 'REG_REGION_NOT_WORK_REGION','LIVE_REGION_NOT_WORK_REGION',\n",
    " 'REG_CITY_NOT_LIVE_CITY','REG_CITY_NOT_WORK_CITY','FLAG_DOCUMENT_2',\n",
    " 'FLAG_DOCUMENT_3','FLAG_DOCUMENT_4','FLAG_DOCUMENT_5','FLAG_DOCUMENT_6',\n",
    " 'FLAG_DOCUMENT_7','FLAG_DOCUMENT_8','FLAG_DOCUMENT_9',\n",
    " 'FLAG_DOCUMENT_10','FLAG_DOCUMENT_11','FLAG_DOCUMENT_12','FLAG_DOCUMENT_13',\n",
    " 'FLAG_DOCUMENT_14','FLAG_DOCUMENT_15','FLAG_DOCUMENT_16','FLAG_DOCUMENT_17',\n",
    " 'FLAG_DOCUMENT_18','FLAG_DOCUMENT_19','FLAG_DOCUMENT_20','FLAG_DOCUMENT_21',\n",
    " 'NFLAG_INSURED_ON_APPROVAL']]= mergeddf[['FLAG_OWN_CAR','FLAG_OWN_REALTY','FLAG_MOBIL',\n",
    "                                        'FLAG_EMP_PHONE','FLAG_WORK_PHONE','FLAG_CONT_MOBILE',\n",
    "                                        'FLAG_PHONE','FLAG_EMAIL','REGION_RATING_CLIENT',\n",
    "                                        'REGION_RATING_CLIENT_W_CITY','REG_REGION_NOT_LIVE_REGION',\n",
    "                                        'REG_REGION_NOT_WORK_REGION','LIVE_REGION_NOT_WORK_REGION',\n",
    "                                        'REG_CITY_NOT_LIVE_CITY','REG_CITY_NOT_WORK_CITY','FLAG_DOCUMENT_2',\n",
    "                                        'FLAG_DOCUMENT_3','FLAG_DOCUMENT_4','FLAG_DOCUMENT_5','FLAG_DOCUMENT_6',\n",
    "                                        'FLAG_DOCUMENT_7','FLAG_DOCUMENT_8','FLAG_DOCUMENT_9',\n",
    "                                        'FLAG_DOCUMENT_10','FLAG_DOCUMENT_11','FLAG_DOCUMENT_12','FLAG_DOCUMENT_13',\n",
    "                                        'FLAG_DOCUMENT_14','FLAG_DOCUMENT_15','FLAG_DOCUMENT_16','FLAG_DOCUMENT_17',\n",
    "                                        'FLAG_DOCUMENT_18','FLAG_DOCUMENT_19','FLAG_DOCUMENT_20','FLAG_DOCUMENT_21',\n",
    "                                        'NFLAG_INSURED_ON_APPROVAL']].astype('category')"
   ]
  },
  {
   "cell_type": "code",
   "execution_count": null,
   "metadata": {
    "execution": {
     "iopub.execute_input": "2020-11-18T16:40:18.534822Z",
     "iopub.status.busy": "2020-11-18T16:40:18.534068Z",
     "iopub.status.idle": "2020-11-18T16:40:19.177145Z",
     "shell.execute_reply": "2020-11-18T16:40:19.176368Z"
    },
    "papermill": {
     "duration": 1.148172,
     "end_time": "2020-11-18T16:40:19.177293",
     "exception": false,
     "start_time": "2020-11-18T16:40:18.029121",
     "status": "completed"
    },
    "tags": []
   },
   "outputs": [],
   "source": [
    "obj_dtypes = [i for i in mergeddf.select_dtypes(include=np.object).columns if i not in [\"type\"] ]\n",
    "num_dtypes = [i for i in mergeddf.select_dtypes(include = np.number).columns if i not in [ 'TARGET']]"
   ]
  },
  {
   "cell_type": "code",
   "execution_count": null,
   "metadata": {
    "execution": {
     "iopub.execute_input": "2020-11-18T16:40:20.142658Z",
     "iopub.status.busy": "2020-11-18T16:40:20.141606Z",
     "iopub.status.idle": "2020-11-18T16:40:20.146554Z",
     "shell.execute_reply": "2020-11-18T16:40:20.145813Z"
    },
    "papermill": {
     "duration": 0.491608,
     "end_time": "2020-11-18T16:40:20.146693",
     "exception": false,
     "start_time": "2020-11-18T16:40:19.655085",
     "status": "completed"
    },
    "tags": []
   },
   "outputs": [],
   "source": [
    "num_dtypes"
   ]
  },
  {
   "cell_type": "code",
   "execution_count": null,
   "metadata": {
    "execution": {
     "iopub.execute_input": "2020-11-18T16:40:21.116481Z",
     "iopub.status.busy": "2020-11-18T16:40:21.115452Z",
     "iopub.status.idle": "2020-11-18T16:40:21.119808Z",
     "shell.execute_reply": "2020-11-18T16:40:21.120347Z"
    },
    "papermill": {
     "duration": 0.491633,
     "end_time": "2020-11-18T16:40:21.120514",
     "exception": false,
     "start_time": "2020-11-18T16:40:20.628881",
     "status": "completed"
    },
    "tags": []
   },
   "outputs": [],
   "source": [
    "obj_dtypes"
   ]
  },
  {
   "cell_type": "code",
   "execution_count": null,
   "metadata": {
    "execution": {
     "iopub.execute_input": "2020-11-18T16:40:22.097652Z",
     "iopub.status.busy": "2020-11-18T16:40:22.096802Z",
     "iopub.status.idle": "2020-11-18T16:40:28.557141Z",
     "shell.execute_reply": "2020-11-18T16:40:28.557826Z"
    },
    "papermill": {
     "duration": 6.954359,
     "end_time": "2020-11-18T16:40:28.558029",
     "exception": false,
     "start_time": "2020-11-18T16:40:21.603670",
     "status": "completed"
    },
    "tags": []
   },
   "outputs": [],
   "source": [
    "# Creating a dummy variable for some of the categorical variables and dropping the first one.\n",
    "dummy1 = pd.get_dummies(mergeddf[['FLAG_OWN_CAR','FLAG_OWN_REALTY','FLAG_MOBIL',\n",
    "                                  'FLAG_EMP_PHONE','FLAG_WORK_PHONE','FLAG_CONT_MOBILE',\n",
    "                                  'FLAG_PHONE','FLAG_EMAIL','REGION_RATING_CLIENT',\n",
    "                                  'REGION_RATING_CLIENT_W_CITY','REG_REGION_NOT_LIVE_REGION',\n",
    "                                  'REG_REGION_NOT_WORK_REGION','LIVE_REGION_NOT_WORK_REGION',\n",
    "                                  'REG_CITY_NOT_LIVE_CITY','REG_CITY_NOT_WORK_CITY','FLAG_DOCUMENT_2',\n",
    "                                  'FLAG_DOCUMENT_3','FLAG_DOCUMENT_4','FLAG_DOCUMENT_5','FLAG_DOCUMENT_6',\n",
    "                                  'FLAG_DOCUMENT_7','FLAG_DOCUMENT_8','FLAG_DOCUMENT_9',\n",
    "                                  'FLAG_DOCUMENT_10','FLAG_DOCUMENT_11','FLAG_DOCUMENT_12','FLAG_DOCUMENT_13',\n",
    "                                  'FLAG_DOCUMENT_14','FLAG_DOCUMENT_15','FLAG_DOCUMENT_16','FLAG_DOCUMENT_17',\n",
    "                                  'FLAG_DOCUMENT_18','FLAG_DOCUMENT_19','FLAG_DOCUMENT_20','FLAG_DOCUMENT_21',\n",
    "                                  'NFLAG_INSURED_ON_APPROVAL','NAME_CONTRACT_TYPE_x','CODE_GENDER',\n",
    "                                  'NAME_TYPE_SUITE_x','NAME_INCOME_TYPE','NAME_EDUCATION_TYPE','NAME_FAMILY_STATUS',\n",
    "                                  'NAME_HOUSING_TYPE','WEEKDAY_APPR_PROCESS_START_x','ORGANIZATION_TYPE','NAME_CONTRACT_TYPE_y',\n",
    "                                  'WEEKDAY_APPR_PROCESS_START_y','NAME_CASH_LOAN_PURPOSE','NAME_CONTRACT_STATUS','NAME_PAYMENT_TYPE',\n",
    "                                  'CODE_REJECT_REASON','NAME_TYPE_SUITE_y','NAME_CLIENT_TYPE','NAME_GOODS_CATEGORY',\n",
    "                                  'NAME_PORTFOLIO','NAME_PRODUCT_TYPE','CHANNEL_TYPE','NAME_SELLER_INDUSTRY',\n",
    "                                  'NAME_YIELD_GROUP','PRODUCT_COMBINATION']], drop_first=True)\n",
    "dummy1.head()"
   ]
  },
  {
   "cell_type": "code",
   "execution_count": null,
   "metadata": {
    "execution": {
     "iopub.execute_input": "2020-11-18T16:40:29.555873Z",
     "iopub.status.busy": "2020-11-18T16:40:29.554772Z",
     "iopub.status.idle": "2020-11-18T16:40:31.711694Z",
     "shell.execute_reply": "2020-11-18T16:40:31.712304Z"
    },
    "papermill": {
     "duration": 2.654721,
     "end_time": "2020-11-18T16:40:31.712462",
     "exception": false,
     "start_time": "2020-11-18T16:40:29.057741",
     "status": "completed"
    },
    "tags": []
   },
   "outputs": [],
   "source": [
    "# Adding the results to the master dataframe\n",
    "mergeddf = pd.concat([mergeddf, dummy1], axis=1)\n",
    "mergeddf.head()"
   ]
  },
  {
   "cell_type": "code",
   "execution_count": null,
   "metadata": {
    "execution": {
     "iopub.execute_input": "2020-11-18T16:40:32.730616Z",
     "iopub.status.busy": "2020-11-18T16:40:32.729829Z",
     "iopub.status.idle": "2020-11-18T16:40:35.166149Z",
     "shell.execute_reply": "2020-11-18T16:40:35.166729Z"
    },
    "papermill": {
     "duration": 2.946996,
     "end_time": "2020-11-18T16:40:35.166915",
     "exception": false,
     "start_time": "2020-11-18T16:40:32.219919",
     "status": "completed"
    },
    "tags": []
   },
   "outputs": [],
   "source": [
    "mergeddf = mergeddf.drop(['FLAG_OWN_CAR','FLAG_OWN_REALTY','FLAG_MOBIL',\n",
    "                          'FLAG_EMP_PHONE','FLAG_WORK_PHONE','FLAG_CONT_MOBILE',\n",
    "                          'FLAG_PHONE','FLAG_EMAIL','REGION_RATING_CLIENT',\n",
    "                          'REGION_RATING_CLIENT_W_CITY','REG_REGION_NOT_LIVE_REGION',\n",
    "                          'REG_REGION_NOT_WORK_REGION','LIVE_REGION_NOT_WORK_REGION',\n",
    "                          'REG_CITY_NOT_LIVE_CITY','REG_CITY_NOT_WORK_CITY','FLAG_DOCUMENT_2',\n",
    "                          'FLAG_DOCUMENT_3','FLAG_DOCUMENT_4','FLAG_DOCUMENT_5','FLAG_DOCUMENT_6',\n",
    "                          'FLAG_DOCUMENT_7','FLAG_DOCUMENT_8','FLAG_DOCUMENT_9',\n",
    "                          'FLAG_DOCUMENT_10','FLAG_DOCUMENT_11','FLAG_DOCUMENT_12','FLAG_DOCUMENT_13',\n",
    "                          'FLAG_DOCUMENT_14','FLAG_DOCUMENT_15','FLAG_DOCUMENT_16','FLAG_DOCUMENT_17',\n",
    "                          'FLAG_DOCUMENT_18','FLAG_DOCUMENT_19','FLAG_DOCUMENT_20','FLAG_DOCUMENT_21',\n",
    "                          'NFLAG_INSURED_ON_APPROVAL','NAME_CONTRACT_TYPE_x','CODE_GENDER',\n",
    "                          'NAME_TYPE_SUITE_x','NAME_INCOME_TYPE','NAME_EDUCATION_TYPE','NAME_FAMILY_STATUS',\n",
    "                          'NAME_HOUSING_TYPE','WEEKDAY_APPR_PROCESS_START_x','ORGANIZATION_TYPE','NAME_CONTRACT_TYPE_y',\n",
    "                          'WEEKDAY_APPR_PROCESS_START_y','NAME_CASH_LOAN_PURPOSE','NAME_CONTRACT_STATUS','NAME_PAYMENT_TYPE',\n",
    "                          'CODE_REJECT_REASON','NAME_TYPE_SUITE_y','NAME_CLIENT_TYPE','NAME_GOODS_CATEGORY',\n",
    "                          'NAME_PORTFOLIO','NAME_PRODUCT_TYPE','CHANNEL_TYPE','NAME_SELLER_INDUSTRY',\n",
    "                          'NAME_YIELD_GROUP','PRODUCT_COMBINATION'], axis = 1)\n",
    "mergeddf.head()"
   ]
  },
  {
   "cell_type": "code",
   "execution_count": null,
   "metadata": {
    "execution": {
     "iopub.execute_input": "2020-11-18T16:40:36.206530Z",
     "iopub.status.busy": "2020-11-18T16:40:36.205358Z",
     "iopub.status.idle": "2020-11-18T16:40:36.210092Z",
     "shell.execute_reply": "2020-11-18T16:40:36.209361Z"
    },
    "papermill": {
     "duration": 0.51053,
     "end_time": "2020-11-18T16:40:36.210218",
     "exception": false,
     "start_time": "2020-11-18T16:40:35.699688",
     "status": "completed"
    },
    "tags": []
   },
   "outputs": [],
   "source": [
    "mergeddf.shape"
   ]
  },
  {
   "cell_type": "code",
   "execution_count": null,
   "metadata": {
    "execution": {
     "iopub.execute_input": "2020-11-18T16:40:37.224810Z",
     "iopub.status.busy": "2020-11-18T16:40:37.223761Z",
     "iopub.status.idle": "2020-11-18T16:40:37.317987Z",
     "shell.execute_reply": "2020-11-18T16:40:37.317270Z"
    },
    "papermill": {
     "duration": 0.607272,
     "end_time": "2020-11-18T16:40:37.318130",
     "exception": false,
     "start_time": "2020-11-18T16:40:36.710858",
     "status": "completed"
    },
    "tags": []
   },
   "outputs": [],
   "source": [
    "mergeddfs=mergeddf.sample(n = 7000) "
   ]
  },
  {
   "cell_type": "code",
   "execution_count": null,
   "metadata": {
    "execution": {
     "iopub.execute_input": "2020-11-18T16:40:38.368183Z",
     "iopub.status.busy": "2020-11-18T16:40:38.367051Z",
     "iopub.status.idle": "2020-11-18T16:40:38.526545Z",
     "shell.execute_reply": "2020-11-18T16:40:38.525689Z"
    },
    "papermill": {
     "duration": 0.69278,
     "end_time": "2020-11-18T16:40:38.526687",
     "exception": false,
     "start_time": "2020-11-18T16:40:37.833907",
     "status": "completed"
    },
    "tags": []
   },
   "outputs": [],
   "source": [
    "from sklearn.model_selection import train_test_split\n",
    "\n",
    "# Putting feature variable to X\n",
    "X = mergeddfs.drop(['TARGET'], axis=1)"
   ]
  },
  {
   "cell_type": "code",
   "execution_count": null,
   "metadata": {
    "execution": {
     "iopub.execute_input": "2020-11-18T16:40:39.653272Z",
     "iopub.status.busy": "2020-11-18T16:40:39.652084Z",
     "iopub.status.idle": "2020-11-18T16:40:39.821552Z",
     "shell.execute_reply": "2020-11-18T16:40:39.822153Z"
    },
    "papermill": {
     "duration": 0.714024,
     "end_time": "2020-11-18T16:40:39.822328",
     "exception": false,
     "start_time": "2020-11-18T16:40:39.108304",
     "status": "completed"
    },
    "tags": []
   },
   "outputs": [],
   "source": [
    "X.head()"
   ]
  },
  {
   "cell_type": "code",
   "execution_count": null,
   "metadata": {
    "execution": {
     "iopub.execute_input": "2020-11-18T16:40:40.868861Z",
     "iopub.status.busy": "2020-11-18T16:40:40.867890Z",
     "iopub.status.idle": "2020-11-18T16:40:40.873126Z",
     "shell.execute_reply": "2020-11-18T16:40:40.873694Z"
    },
    "papermill": {
     "duration": 0.525394,
     "end_time": "2020-11-18T16:40:40.873867",
     "exception": false,
     "start_time": "2020-11-18T16:40:40.348473",
     "status": "completed"
    },
    "tags": []
   },
   "outputs": [],
   "source": [
    "X.shape"
   ]
  },
  {
   "cell_type": "code",
   "execution_count": null,
   "metadata": {
    "execution": {
     "iopub.execute_input": "2020-11-18T16:40:41.926237Z",
     "iopub.status.busy": "2020-11-18T16:40:41.925443Z",
     "iopub.status.idle": "2020-11-18T16:40:41.929440Z",
     "shell.execute_reply": "2020-11-18T16:40:41.928589Z"
    },
    "papermill": {
     "duration": 0.521834,
     "end_time": "2020-11-18T16:40:41.929586",
     "exception": false,
     "start_time": "2020-11-18T16:40:41.407752",
     "status": "completed"
    },
    "tags": []
   },
   "outputs": [],
   "source": [
    "# Putting response variable to y\n",
    "y = mergeddfs['TARGET']"
   ]
  },
  {
   "cell_type": "code",
   "execution_count": null,
   "metadata": {
    "execution": {
     "iopub.execute_input": "2020-11-18T16:40:42.986872Z",
     "iopub.status.busy": "2020-11-18T16:40:42.986037Z",
     "iopub.status.idle": "2020-11-18T16:40:42.990113Z",
     "shell.execute_reply": "2020-11-18T16:40:42.989515Z"
    },
    "papermill": {
     "duration": 0.537736,
     "end_time": "2020-11-18T16:40:42.990250",
     "exception": false,
     "start_time": "2020-11-18T16:40:42.452514",
     "status": "completed"
    },
    "tags": []
   },
   "outputs": [],
   "source": [
    "y.head()"
   ]
  },
  {
   "cell_type": "code",
   "execution_count": null,
   "metadata": {
    "execution": {
     "iopub.execute_input": "2020-11-18T16:40:44.018939Z",
     "iopub.status.busy": "2020-11-18T16:40:44.017616Z",
     "iopub.status.idle": "2020-11-18T16:40:44.030205Z",
     "shell.execute_reply": "2020-11-18T16:40:44.031047Z"
    },
    "papermill": {
     "duration": 0.528493,
     "end_time": "2020-11-18T16:40:44.031434",
     "exception": false,
     "start_time": "2020-11-18T16:40:43.502941",
     "status": "completed"
    },
    "tags": []
   },
   "outputs": [],
   "source": [
    "# Splitting the data into train and test\n",
    "X_train, X_test, y_train, y_test = train_test_split(X, y, train_size=0.7, random_state=70)"
   ]
  },
  {
   "cell_type": "code",
   "execution_count": null,
   "metadata": {
    "execution": {
     "iopub.execute_input": "2020-11-18T16:40:45.084095Z",
     "iopub.status.busy": "2020-11-18T16:40:45.073544Z",
     "iopub.status.idle": "2020-11-18T16:40:45.242726Z",
     "shell.execute_reply": "2020-11-18T16:40:45.243337Z"
    },
    "papermill": {
     "duration": 0.70505,
     "end_time": "2020-11-18T16:40:45.243497",
     "exception": false,
     "start_time": "2020-11-18T16:40:44.538447",
     "status": "completed"
    },
    "tags": []
   },
   "outputs": [],
   "source": [
    "X_train.head()"
   ]
  },
  {
   "cell_type": "code",
   "execution_count": null,
   "metadata": {
    "execution": {
     "iopub.execute_input": "2020-11-18T16:40:46.275274Z",
     "iopub.status.busy": "2020-11-18T16:40:46.274223Z",
     "iopub.status.idle": "2020-11-18T16:40:46.278406Z",
     "shell.execute_reply": "2020-11-18T16:40:46.279119Z"
    },
    "papermill": {
     "duration": 0.52102,
     "end_time": "2020-11-18T16:40:46.279286",
     "exception": false,
     "start_time": "2020-11-18T16:40:45.758266",
     "status": "completed"
    },
    "tags": []
   },
   "outputs": [],
   "source": [
    "X_train.shape"
   ]
  },
  {
   "cell_type": "code",
   "execution_count": null,
   "metadata": {
    "execution": {
     "iopub.execute_input": "2020-11-18T16:40:47.365887Z",
     "iopub.status.busy": "2020-11-18T16:40:47.350236Z",
     "iopub.status.idle": "2020-11-18T16:40:47.533360Z",
     "shell.execute_reply": "2020-11-18T16:40:47.534291Z"
    },
    "papermill": {
     "duration": 0.713658,
     "end_time": "2020-11-18T16:40:47.534525",
     "exception": false,
     "start_time": "2020-11-18T16:40:46.820867",
     "status": "completed"
    },
    "tags": []
   },
   "outputs": [],
   "source": [
    "X_test.head()"
   ]
  },
  {
   "cell_type": "code",
   "execution_count": null,
   "metadata": {
    "execution": {
     "iopub.execute_input": "2020-11-18T16:40:48.589736Z",
     "iopub.status.busy": "2020-11-18T16:40:48.588706Z",
     "iopub.status.idle": "2020-11-18T16:40:48.594231Z",
     "shell.execute_reply": "2020-11-18T16:40:48.593533Z"
    },
    "papermill": {
     "duration": 0.533041,
     "end_time": "2020-11-18T16:40:48.594376",
     "exception": false,
     "start_time": "2020-11-18T16:40:48.061335",
     "status": "completed"
    },
    "tags": []
   },
   "outputs": [],
   "source": [
    "X_test.shape"
   ]
  },
  {
   "cell_type": "code",
   "execution_count": null,
   "metadata": {
    "execution": {
     "iopub.execute_input": "2020-11-18T16:40:49.717482Z",
     "iopub.status.busy": "2020-11-18T16:40:49.716521Z",
     "iopub.status.idle": "2020-11-18T16:40:49.721765Z",
     "shell.execute_reply": "2020-11-18T16:40:49.721174Z"
    },
    "papermill": {
     "duration": 0.534296,
     "end_time": "2020-11-18T16:40:49.721895",
     "exception": false,
     "start_time": "2020-11-18T16:40:49.187599",
     "status": "completed"
    },
    "tags": []
   },
   "outputs": [],
   "source": [
    "y_train.head()"
   ]
  },
  {
   "cell_type": "code",
   "execution_count": null,
   "metadata": {
    "execution": {
     "iopub.execute_input": "2020-11-18T16:40:50.778626Z",
     "iopub.status.busy": "2020-11-18T16:40:50.777496Z",
     "iopub.status.idle": "2020-11-18T16:40:50.781621Z",
     "shell.execute_reply": "2020-11-18T16:40:50.782179Z"
    },
    "papermill": {
     "duration": 0.526708,
     "end_time": "2020-11-18T16:40:50.782392",
     "exception": false,
     "start_time": "2020-11-18T16:40:50.255684",
     "status": "completed"
    },
    "tags": []
   },
   "outputs": [],
   "source": [
    "y_train.shape"
   ]
  },
  {
   "cell_type": "code",
   "execution_count": null,
   "metadata": {
    "execution": {
     "iopub.execute_input": "2020-11-18T16:40:51.840548Z",
     "iopub.status.busy": "2020-11-18T16:40:51.839453Z",
     "iopub.status.idle": "2020-11-18T16:40:51.850877Z",
     "shell.execute_reply": "2020-11-18T16:40:51.850284Z"
    },
    "papermill": {
     "duration": 0.545586,
     "end_time": "2020-11-18T16:40:51.851044",
     "exception": false,
     "start_time": "2020-11-18T16:40:51.305458",
     "status": "completed"
    },
    "tags": []
   },
   "outputs": [],
   "source": [
    "y_test.head()"
   ]
  },
  {
   "cell_type": "code",
   "execution_count": null,
   "metadata": {
    "execution": {
     "iopub.execute_input": "2020-11-18T16:40:52.907833Z",
     "iopub.status.busy": "2020-11-18T16:40:52.906923Z",
     "iopub.status.idle": "2020-11-18T16:40:52.911544Z",
     "shell.execute_reply": "2020-11-18T16:40:52.910757Z"
    },
    "papermill": {
     "duration": 0.536689,
     "end_time": "2020-11-18T16:40:52.911686",
     "exception": false,
     "start_time": "2020-11-18T16:40:52.374997",
     "status": "completed"
    },
    "tags": []
   },
   "outputs": [],
   "source": [
    "y_test.shape"
   ]
  },
  {
   "cell_type": "markdown",
   "metadata": {
    "papermill": {
     "duration": 0.566558,
     "end_time": "2020-11-18T16:40:54.008523",
     "exception": false,
     "start_time": "2020-11-18T16:40:53.441965",
     "status": "completed"
    },
    "tags": []
   },
   "source": [
    "# Feature Scaling"
   ]
  },
  {
   "cell_type": "code",
   "execution_count": null,
   "metadata": {
    "execution": {
     "iopub.execute_input": "2020-11-18T16:40:55.093745Z",
     "iopub.status.busy": "2020-11-18T16:40:55.084016Z",
     "iopub.status.idle": "2020-11-18T16:40:55.372251Z",
     "shell.execute_reply": "2020-11-18T16:40:55.372826Z"
    },
    "papermill": {
     "duration": 0.825358,
     "end_time": "2020-11-18T16:40:55.373043",
     "exception": false,
     "start_time": "2020-11-18T16:40:54.547685",
     "status": "completed"
    },
    "tags": []
   },
   "outputs": [],
   "source": [
    "from sklearn.preprocessing import StandardScaler\n",
    "\n",
    "scaler = StandardScaler()\n",
    "\n",
    "X_train[['CNT_CHILDREN','AMT_INCOME_TOTAL','AMT_CREDIT_x','AMT_ANNUITY_x',\n",
    "         'AMT_GOODS_PRICE_x','REGION_POPULATION_RELATIVE','DAYS_BIRTH',\n",
    "         'DAYS_EMPLOYED','DAYS_REGISTRATION','DAYS_ID_PUBLISH','CNT_FAM_MEMBERS',\n",
    "         'HOUR_APPR_PROCESS_START_x','LIVE_CITY_NOT_WORK_CITY','OBS_30_CNT_SOCIAL_CIRCLE',\n",
    "         'DEF_30_CNT_SOCIAL_CIRCLE','OBS_60_CNT_SOCIAL_CIRCLE','DEF_60_CNT_SOCIAL_CIRCLE',\n",
    "         'DAYS_LAST_PHONE_CHANGE','AMT_REQ_CREDIT_BUREAU_HOUR','AMT_REQ_CREDIT_BUREAU_DAY',\n",
    "         'AMT_REQ_CREDIT_BUREAU_WEEK','AMT_REQ_CREDIT_BUREAU_MON','AMT_REQ_CREDIT_BUREAU_QRT',\n",
    "         'AMT_REQ_CREDIT_BUREAU_YEAR','AMT_ANNUITY_y','AMT_APPLICATION','AMT_CREDIT_y',\n",
    "         'AMT_GOODS_PRICE_y','HOUR_APPR_PROCESS_START_y','FLAG_LAST_APPL_PER_CONTRACT',\n",
    "         'NFLAG_LAST_APPL_IN_DAY','DAYS_DECISION','SELLERPLACE_AREA','CNT_PAYMENT',\n",
    "         'DAYS_FIRST_DRAWING','DAYS_FIRST_DUE','DAYS_LAST_DUE_1ST_VERSION','DAYS_LAST_DUE',\n",
    "         'DAYS_TERMINATION']] = scaler.fit_transform(X_train[['CNT_CHILDREN','AMT_INCOME_TOTAL','AMT_CREDIT_x',\n",
    "                                                               'AMT_ANNUITY_x','AMT_GOODS_PRICE_x','REGION_POPULATION_RELATIVE',\n",
    "                                                               'DAYS_BIRTH','DAYS_EMPLOYED','DAYS_REGISTRATION','DAYS_ID_PUBLISH',\n",
    "                                                               'CNT_FAM_MEMBERS','HOUR_APPR_PROCESS_START_x','LIVE_CITY_NOT_WORK_CITY',\n",
    "                                                               'OBS_30_CNT_SOCIAL_CIRCLE','DEF_30_CNT_SOCIAL_CIRCLE','OBS_60_CNT_SOCIAL_CIRCLE',\n",
    "                                                               'DEF_60_CNT_SOCIAL_CIRCLE','DAYS_LAST_PHONE_CHANGE','AMT_REQ_CREDIT_BUREAU_HOUR',\n",
    "                                                               'AMT_REQ_CREDIT_BUREAU_DAY','AMT_REQ_CREDIT_BUREAU_WEEK','AMT_REQ_CREDIT_BUREAU_MON',\n",
    "                                                               'AMT_REQ_CREDIT_BUREAU_QRT','AMT_REQ_CREDIT_BUREAU_YEAR','AMT_ANNUITY_y','AMT_APPLICATION',\n",
    "                                                               'AMT_CREDIT_y','AMT_GOODS_PRICE_y','HOUR_APPR_PROCESS_START_y','FLAG_LAST_APPL_PER_CONTRACT',\n",
    "                                                               'NFLAG_LAST_APPL_IN_DAY','DAYS_DECISION','SELLERPLACE_AREA','CNT_PAYMENT','DAYS_FIRST_DRAWING',\n",
    "                                                               'DAYS_FIRST_DUE','DAYS_LAST_DUE_1ST_VERSION','DAYS_LAST_DUE','DAYS_TERMINATION']])\n",
    "\n",
    "X_train.head()"
   ]
  },
  {
   "cell_type": "code",
   "execution_count": null,
   "metadata": {
    "execution": {
     "iopub.execute_input": "2020-11-18T16:40:56.448133Z",
     "iopub.status.busy": "2020-11-18T16:40:56.447332Z",
     "iopub.status.idle": "2020-11-18T16:40:56.704854Z",
     "shell.execute_reply": "2020-11-18T16:40:56.705497Z"
    },
    "papermill": {
     "duration": 0.797745,
     "end_time": "2020-11-18T16:40:56.705655",
     "exception": false,
     "start_time": "2020-11-18T16:40:55.907910",
     "status": "completed"
    },
    "tags": []
   },
   "outputs": [],
   "source": [
    "X_test[['CNT_CHILDREN','AMT_INCOME_TOTAL','AMT_CREDIT_x','AMT_ANNUITY_x',\n",
    "         'AMT_GOODS_PRICE_x','REGION_POPULATION_RELATIVE','DAYS_BIRTH',\n",
    "         'DAYS_EMPLOYED','DAYS_REGISTRATION','DAYS_ID_PUBLISH','CNT_FAM_MEMBERS',\n",
    "         'HOUR_APPR_PROCESS_START_x','LIVE_CITY_NOT_WORK_CITY','OBS_30_CNT_SOCIAL_CIRCLE',\n",
    "         'DEF_30_CNT_SOCIAL_CIRCLE','OBS_60_CNT_SOCIAL_CIRCLE','DEF_60_CNT_SOCIAL_CIRCLE',\n",
    "         'DAYS_LAST_PHONE_CHANGE','AMT_REQ_CREDIT_BUREAU_HOUR','AMT_REQ_CREDIT_BUREAU_DAY',\n",
    "         'AMT_REQ_CREDIT_BUREAU_WEEK','AMT_REQ_CREDIT_BUREAU_MON','AMT_REQ_CREDIT_BUREAU_QRT',\n",
    "         'AMT_REQ_CREDIT_BUREAU_YEAR','AMT_ANNUITY_y','AMT_APPLICATION','AMT_CREDIT_y',\n",
    "         'AMT_GOODS_PRICE_y','HOUR_APPR_PROCESS_START_y','FLAG_LAST_APPL_PER_CONTRACT',\n",
    "         'NFLAG_LAST_APPL_IN_DAY','DAYS_DECISION','SELLERPLACE_AREA','CNT_PAYMENT',\n",
    "         'DAYS_FIRST_DRAWING','DAYS_FIRST_DUE','DAYS_LAST_DUE_1ST_VERSION','DAYS_LAST_DUE',\n",
    "         'DAYS_TERMINATION']] = scaler.transform(X_test[['CNT_CHILDREN','AMT_INCOME_TOTAL','AMT_CREDIT_x',\n",
    "                                                               'AMT_ANNUITY_x','AMT_GOODS_PRICE_x','REGION_POPULATION_RELATIVE',\n",
    "                                                               'DAYS_BIRTH','DAYS_EMPLOYED','DAYS_REGISTRATION','DAYS_ID_PUBLISH',\n",
    "                                                               'CNT_FAM_MEMBERS','HOUR_APPR_PROCESS_START_x','LIVE_CITY_NOT_WORK_CITY',\n",
    "                                                               'OBS_30_CNT_SOCIAL_CIRCLE','DEF_30_CNT_SOCIAL_CIRCLE','OBS_60_CNT_SOCIAL_CIRCLE',\n",
    "                                                               'DEF_60_CNT_SOCIAL_CIRCLE','DAYS_LAST_PHONE_CHANGE','AMT_REQ_CREDIT_BUREAU_HOUR',\n",
    "                                                               'AMT_REQ_CREDIT_BUREAU_DAY','AMT_REQ_CREDIT_BUREAU_WEEK','AMT_REQ_CREDIT_BUREAU_MON',\n",
    "                                                               'AMT_REQ_CREDIT_BUREAU_QRT','AMT_REQ_CREDIT_BUREAU_YEAR','AMT_ANNUITY_y','AMT_APPLICATION',\n",
    "                                                               'AMT_CREDIT_y','AMT_GOODS_PRICE_y','HOUR_APPR_PROCESS_START_y','FLAG_LAST_APPL_PER_CONTRACT',\n",
    "                                                               'NFLAG_LAST_APPL_IN_DAY','DAYS_DECISION','SELLERPLACE_AREA','CNT_PAYMENT','DAYS_FIRST_DRAWING',\n",
    "                                                               'DAYS_FIRST_DUE','DAYS_LAST_DUE_1ST_VERSION','DAYS_LAST_DUE','DAYS_TERMINATION']])\n",
    "\n",
    "X_test.head()"
   ]
  },
  {
   "cell_type": "code",
   "execution_count": null,
   "metadata": {
    "execution": {
     "iopub.execute_input": "2020-11-18T16:40:58.057645Z",
     "iopub.status.busy": "2020-11-18T16:40:58.056597Z",
     "iopub.status.idle": "2020-11-18T16:40:58.062082Z",
     "shell.execute_reply": "2020-11-18T16:40:58.062721Z"
    },
    "papermill": {
     "duration": 0.815842,
     "end_time": "2020-11-18T16:40:58.062895",
     "exception": false,
     "start_time": "2020-11-18T16:40:57.247053",
     "status": "completed"
    },
    "tags": []
   },
   "outputs": [],
   "source": [
    "# Checking the Converted Rate\n",
    "Target = round((sum(mergeddf['TARGET'])/len(mergeddf['TARGET'].index))*100,2)\n",
    "print(\"We have almost {} %  Converted rate after successful data manipulation\".format(Target))"
   ]
  },
  {
   "cell_type": "markdown",
   "metadata": {
    "papermill": {
     "duration": 0.550383,
     "end_time": "2020-11-18T16:40:59.159838",
     "exception": false,
     "start_time": "2020-11-18T16:40:58.609455",
     "status": "completed"
    },
    "tags": []
   },
   "source": [
    "# Model Building"
   ]
  },
  {
   "cell_type": "markdown",
   "metadata": {
    "papermill": {
     "duration": 0.53483,
     "end_time": "2020-11-18T16:41:00.221181",
     "exception": false,
     "start_time": "2020-11-18T16:40:59.686351",
     "status": "completed"
    },
    "tags": []
   },
   "source": [
    "# Decision Tree"
   ]
  },
  {
   "cell_type": "markdown",
   "metadata": {
    "papermill": {
     "duration": 0.535793,
     "end_time": "2020-11-18T16:41:01.285677",
     "exception": false,
     "start_time": "2020-11-18T16:41:00.749884",
     "status": "completed"
    },
    "tags": []
   },
   "source": [
    "It is a type of supervised learning algorithm that is mostly used for classification problems. Surprisingly, it works for both categorical and continuous dependent variables. In this algorithm, we split the population into two or more homogeneous sets. This is done based on most significant attributes/ independent variables to make as distinct groups as possible."
   ]
  },
  {
   "cell_type": "code",
   "execution_count": null,
   "metadata": {
    "execution": {
     "iopub.execute_input": "2020-11-18T16:41:02.364050Z",
     "iopub.status.busy": "2020-11-18T16:41:02.363334Z",
     "iopub.status.idle": "2020-11-18T16:41:02.547363Z",
     "shell.execute_reply": "2020-11-18T16:41:02.546687Z"
    },
    "papermill": {
     "duration": 0.72656,
     "end_time": "2020-11-18T16:41:02.547492",
     "exception": false,
     "start_time": "2020-11-18T16:41:01.820932",
     "status": "completed"
    },
    "tags": []
   },
   "outputs": [],
   "source": [
    "from sklearn.tree import DecisionTreeClassifier\n",
    "from sklearn.metrics import accuracy_score\n",
    "model = DecisionTreeClassifier()"
   ]
  },
  {
   "cell_type": "code",
   "execution_count": null,
   "metadata": {
    "execution": {
     "iopub.execute_input": "2020-11-18T16:41:03.677214Z",
     "iopub.status.busy": "2020-11-18T16:41:03.676049Z",
     "iopub.status.idle": "2020-11-18T16:41:04.046817Z",
     "shell.execute_reply": "2020-11-18T16:41:04.046080Z"
    },
    "papermill": {
     "duration": 0.924146,
     "end_time": "2020-11-18T16:41:04.046947",
     "exception": false,
     "start_time": "2020-11-18T16:41:03.122801",
     "status": "completed"
    },
    "tags": []
   },
   "outputs": [],
   "source": [
    "# fit the model with the training data\n",
    "model.fit(X_train,y_train)"
   ]
  },
  {
   "cell_type": "code",
   "execution_count": null,
   "metadata": {
    "execution": {
     "iopub.execute_input": "2020-11-18T16:41:05.177478Z",
     "iopub.status.busy": "2020-11-18T16:41:05.176708Z",
     "iopub.status.idle": "2020-11-18T16:41:05.187961Z",
     "shell.execute_reply": "2020-11-18T16:41:05.187197Z"
    },
    "papermill": {
     "duration": 0.608149,
     "end_time": "2020-11-18T16:41:05.188114",
     "exception": false,
     "start_time": "2020-11-18T16:41:04.579965",
     "status": "completed"
    },
    "tags": []
   },
   "outputs": [],
   "source": [
    "# predict the target on the train dataset\n",
    "predict_train = model.predict(X_train)\n",
    "predict_train"
   ]
  },
  {
   "cell_type": "code",
   "execution_count": null,
   "metadata": {
    "execution": {
     "iopub.execute_input": "2020-11-18T16:41:06.268270Z",
     "iopub.status.busy": "2020-11-18T16:41:06.267226Z",
     "iopub.status.idle": "2020-11-18T16:41:06.273373Z",
     "shell.execute_reply": "2020-11-18T16:41:06.272522Z"
    },
    "papermill": {
     "duration": 0.547947,
     "end_time": "2020-11-18T16:41:06.273514",
     "exception": false,
     "start_time": "2020-11-18T16:41:05.725567",
     "status": "completed"
    },
    "tags": []
   },
   "outputs": [],
   "source": [
    "trainaccuracy = accuracy_score(y_train,predict_train)\n",
    "print('accuracy_score on train dataset : ', trainaccuracy)"
   ]
  },
  {
   "cell_type": "markdown",
   "metadata": {
    "papermill": {
     "duration": 0.534788,
     "end_time": "2020-11-18T16:41:07.342318",
     "exception": false,
     "start_time": "2020-11-18T16:41:06.807530",
     "status": "completed"
    },
    "tags": []
   },
   "source": [
    "# VIF"
   ]
  },
  {
   "cell_type": "code",
   "execution_count": null,
   "metadata": {
    "execution": {
     "iopub.execute_input": "2020-11-18T16:41:08.417624Z",
     "iopub.status.busy": "2020-11-18T16:41:08.416845Z",
     "iopub.status.idle": "2020-11-18T16:42:20.855673Z",
     "shell.execute_reply": "2020-11-18T16:42:20.856688Z"
    },
    "papermill": {
     "duration": 72.983405,
     "end_time": "2020-11-18T16:42:20.856949",
     "exception": false,
     "start_time": "2020-11-18T16:41:07.873544",
     "status": "completed"
    },
    "tags": []
   },
   "outputs": [],
   "source": [
    "# Check for the VIF values of the feature variables. \n",
    "from statsmodels.stats.outliers_influence import variance_inflation_factor\n",
    "# Create a dataframe that will contain the names of all the feature variables and their respective VIFs\n",
    "vif = pd.DataFrame()\n",
    "vif['Features'] = X_train.columns\n",
    "vif['VIF'] = [variance_inflation_factor(X_train.values, i) for i in range(X_train.shape[1])]\n",
    "vif['VIF'] = round(vif['VIF'], 2)\n",
    "vif = vif.sort_values(by = \"VIF\", ascending = False)\n",
    "vif.tail()"
   ]
  },
  {
   "cell_type": "code",
   "execution_count": null,
   "metadata": {
    "execution": {
     "iopub.execute_input": "2020-11-18T16:42:21.924278Z",
     "iopub.status.busy": "2020-11-18T16:42:21.923487Z",
     "iopub.status.idle": "2020-11-18T16:42:21.928021Z",
     "shell.execute_reply": "2020-11-18T16:42:21.927086Z"
    },
    "papermill": {
     "duration": 0.541632,
     "end_time": "2020-11-18T16:42:21.928184",
     "exception": false,
     "start_time": "2020-11-18T16:42:21.386552",
     "status": "completed"
    },
    "tags": []
   },
   "outputs": [],
   "source": [
    "features_to_remove = vif.loc[vif['VIF'] >= 4.99,'Features'].values\n",
    "features_to_remove = list(features_to_remove)\n",
    "print(features_to_remove)"
   ]
  },
  {
   "cell_type": "code",
   "execution_count": null,
   "metadata": {
    "execution": {
     "iopub.execute_input": "2020-11-18T16:42:23.002208Z",
     "iopub.status.busy": "2020-11-18T16:42:23.001403Z",
     "iopub.status.idle": "2020-11-18T16:42:23.101112Z",
     "shell.execute_reply": "2020-11-18T16:42:23.101672Z"
    },
    "papermill": {
     "duration": 0.640466,
     "end_time": "2020-11-18T16:42:23.101838",
     "exception": false,
     "start_time": "2020-11-18T16:42:22.461372",
     "status": "completed"
    },
    "tags": []
   },
   "outputs": [],
   "source": [
    "X_train = X_train.drop(columns=features_to_remove, axis = 1)\n",
    "X_train.head()"
   ]
  },
  {
   "cell_type": "code",
   "execution_count": null,
   "metadata": {
    "execution": {
     "iopub.execute_input": "2020-11-18T16:42:24.187612Z",
     "iopub.status.busy": "2020-11-18T16:42:24.186458Z",
     "iopub.status.idle": "2020-11-18T16:42:24.287783Z",
     "shell.execute_reply": "2020-11-18T16:42:24.288379Z"
    },
    "papermill": {
     "duration": 0.645663,
     "end_time": "2020-11-18T16:42:24.288533",
     "exception": false,
     "start_time": "2020-11-18T16:42:23.642870",
     "status": "completed"
    },
    "tags": []
   },
   "outputs": [],
   "source": [
    "X_test = X_test.drop(columns=features_to_remove, axis = 1)\n",
    "X_test.head()"
   ]
  },
  {
   "cell_type": "code",
   "execution_count": null,
   "metadata": {
    "execution": {
     "iopub.execute_input": "2020-11-18T16:42:25.385180Z",
     "iopub.status.busy": "2020-11-18T16:42:25.383952Z",
     "iopub.status.idle": "2020-11-18T16:42:35.849351Z",
     "shell.execute_reply": "2020-11-18T16:42:35.850074Z"
    },
    "papermill": {
     "duration": 11.018103,
     "end_time": "2020-11-18T16:42:35.850264",
     "exception": false,
     "start_time": "2020-11-18T16:42:24.832161",
     "status": "completed"
    },
    "tags": []
   },
   "outputs": [],
   "source": [
    "# Check for the VIF values of the feature variables. \n",
    "from statsmodels.stats.outliers_influence import variance_inflation_factor\n",
    "# Create a dataframe that will contain the names of all the feature variables and their respective VIFs\n",
    "vif = pd.DataFrame()\n",
    "vif['Features'] = X_train.columns\n",
    "vif['VIF'] = [variance_inflation_factor(X_train.values, i) for i in range(X_train.shape[1])]\n",
    "vif['VIF'] = round(vif['VIF'], 2)\n",
    "vif = vif.sort_values(by = \"VIF\", ascending = False)\n",
    "vif"
   ]
  },
  {
   "cell_type": "markdown",
   "metadata": {
    "papermill": {
     "duration": 0.577492,
     "end_time": "2020-11-18T16:42:36.984485",
     "exception": false,
     "start_time": "2020-11-18T16:42:36.406993",
     "status": "completed"
    },
    "tags": []
   },
   "source": [
    "The NaN, in if in  case, is interpretted as no correlation between the two variables."
   ]
  },
  {
   "cell_type": "code",
   "execution_count": null,
   "metadata": {
    "execution": {
     "iopub.execute_input": "2020-11-18T16:42:38.094477Z",
     "iopub.status.busy": "2020-11-18T16:42:38.093505Z",
     "iopub.status.idle": "2020-11-18T16:42:38.097936Z",
     "shell.execute_reply": "2020-11-18T16:42:38.098690Z"
    },
    "papermill": {
     "duration": 0.564042,
     "end_time": "2020-11-18T16:42:38.098877",
     "exception": false,
     "start_time": "2020-11-18T16:42:37.534835",
     "status": "completed"
    },
    "tags": []
   },
   "outputs": [],
   "source": [
    "features_to_remove = vif.loc[vif['VIF'] >= 4.99,'Features'].values\n",
    "features_to_remove = list(features_to_remove)\n",
    "print(features_to_remove)"
   ]
  },
  {
   "cell_type": "code",
   "execution_count": null,
   "metadata": {
    "execution": {
     "iopub.execute_input": "2020-11-18T16:42:39.218368Z",
     "iopub.status.busy": "2020-11-18T16:42:39.217504Z",
     "iopub.status.idle": "2020-11-18T16:42:39.335328Z",
     "shell.execute_reply": "2020-11-18T16:42:39.335911Z"
    },
    "papermill": {
     "duration": 0.682554,
     "end_time": "2020-11-18T16:42:39.336124",
     "exception": false,
     "start_time": "2020-11-18T16:42:38.653570",
     "status": "completed"
    },
    "tags": []
   },
   "outputs": [],
   "source": [
    "X_train = X_train.drop(columns=features_to_remove, axis = 1)\n",
    "X_train.head()"
   ]
  },
  {
   "cell_type": "code",
   "execution_count": null,
   "metadata": {
    "execution": {
     "iopub.execute_input": "2020-11-18T16:42:40.496546Z",
     "iopub.status.busy": "2020-11-18T16:42:40.476879Z",
     "iopub.status.idle": "2020-11-18T16:42:40.583155Z",
     "shell.execute_reply": "2020-11-18T16:42:40.583740Z"
    },
    "papermill": {
     "duration": 0.660987,
     "end_time": "2020-11-18T16:42:40.583902",
     "exception": false,
     "start_time": "2020-11-18T16:42:39.922915",
     "status": "completed"
    },
    "tags": []
   },
   "outputs": [],
   "source": [
    "X_test = X_test.drop(columns=features_to_remove, axis = 1)\n",
    "X_test.head()"
   ]
  },
  {
   "cell_type": "code",
   "execution_count": null,
   "metadata": {
    "execution": {
     "iopub.execute_input": "2020-11-18T16:42:41.710562Z",
     "iopub.status.busy": "2020-11-18T16:42:41.707327Z",
     "iopub.status.idle": "2020-11-18T16:42:52.128620Z",
     "shell.execute_reply": "2020-11-18T16:42:52.129241Z"
    },
    "papermill": {
     "duration": 10.989022,
     "end_time": "2020-11-18T16:42:52.129408",
     "exception": false,
     "start_time": "2020-11-18T16:42:41.140386",
     "status": "completed"
    },
    "tags": []
   },
   "outputs": [],
   "source": [
    "# Check for the VIF values of the feature variables. \n",
    "from statsmodels.stats.outliers_influence import variance_inflation_factor\n",
    "# Create a dataframe that will contain the names of all the feature variables and their respective VIFs\n",
    "vif = pd.DataFrame()\n",
    "vif['Features'] = X_train.columns\n",
    "vif['VIF'] = [variance_inflation_factor(X_train.values, i) for i in range(X_train.shape[1])]\n",
    "vif['VIF'] = round(vif['VIF'], 2)\n",
    "vif = vif.sort_values(by = \"VIF\", ascending = False)\n",
    "vif"
   ]
  },
  {
   "cell_type": "code",
   "execution_count": null,
   "metadata": {
    "execution": {
     "iopub.execute_input": "2020-11-18T16:42:53.248665Z",
     "iopub.status.busy": "2020-11-18T16:42:53.247461Z",
     "iopub.status.idle": "2020-11-18T16:42:53.387867Z",
     "shell.execute_reply": "2020-11-18T16:42:53.387229Z"
    },
    "papermill": {
     "duration": 0.70442,
     "end_time": "2020-11-18T16:42:53.388013",
     "exception": false,
     "start_time": "2020-11-18T16:42:52.683593",
     "status": "completed"
    },
    "tags": []
   },
   "outputs": [],
   "source": [
    "# fit the model with the training data\n",
    "model.fit(X_train,y_train)"
   ]
  },
  {
   "cell_type": "code",
   "execution_count": null,
   "metadata": {
    "execution": {
     "iopub.execute_input": "2020-11-18T16:42:54.534450Z",
     "iopub.status.busy": "2020-11-18T16:42:54.533608Z",
     "iopub.status.idle": "2020-11-18T16:42:54.542245Z",
     "shell.execute_reply": "2020-11-18T16:42:54.541491Z"
    },
    "papermill": {
     "duration": 0.591092,
     "end_time": "2020-11-18T16:42:54.542381",
     "exception": false,
     "start_time": "2020-11-18T16:42:53.951289",
     "status": "completed"
    },
    "tags": []
   },
   "outputs": [],
   "source": [
    "# predict the target on the train dataset\n",
    "predict_train = model.predict(X_train)\n",
    "predict_train"
   ]
  },
  {
   "cell_type": "code",
   "execution_count": null,
   "metadata": {
    "execution": {
     "iopub.execute_input": "2020-11-18T16:42:55.726961Z",
     "iopub.status.busy": "2020-11-18T16:42:55.725921Z",
     "iopub.status.idle": "2020-11-18T16:42:55.732596Z",
     "shell.execute_reply": "2020-11-18T16:42:55.731628Z"
    },
    "papermill": {
     "duration": 0.640856,
     "end_time": "2020-11-18T16:42:55.732762",
     "exception": false,
     "start_time": "2020-11-18T16:42:55.091906",
     "status": "completed"
    },
    "tags": []
   },
   "outputs": [],
   "source": [
    "trainaccuracy = accuracy_score(y_train,predict_train)\n",
    "print('accuracy_score on train dataset : ', trainaccuracy)"
   ]
  },
  {
   "cell_type": "code",
   "execution_count": null,
   "metadata": {
    "execution": {
     "iopub.execute_input": "2020-11-18T16:42:57.195913Z",
     "iopub.status.busy": "2020-11-18T16:42:57.194873Z",
     "iopub.status.idle": "2020-11-18T16:42:57.211173Z",
     "shell.execute_reply": "2020-11-18T16:42:57.210008Z"
    },
    "papermill": {
     "duration": 0.606658,
     "end_time": "2020-11-18T16:42:57.211368",
     "exception": false,
     "start_time": "2020-11-18T16:42:56.604710",
     "status": "completed"
    },
    "tags": []
   },
   "outputs": [],
   "source": [
    "from sklearn import metrics\n",
    "# Confusion matrix \n",
    "confusion = metrics.confusion_matrix(y_train, predict_train )\n",
    "print(confusion)"
   ]
  },
  {
   "cell_type": "code",
   "execution_count": null,
   "metadata": {
    "execution": {
     "iopub.execute_input": "2020-11-18T16:42:58.347167Z",
     "iopub.status.busy": "2020-11-18T16:42:58.346377Z",
     "iopub.status.idle": "2020-11-18T16:42:58.350016Z",
     "shell.execute_reply": "2020-11-18T16:42:58.349416Z"
    },
    "papermill": {
     "duration": 0.577761,
     "end_time": "2020-11-18T16:42:58.350156",
     "exception": false,
     "start_time": "2020-11-18T16:42:57.772395",
     "status": "completed"
    },
    "tags": []
   },
   "outputs": [],
   "source": [
    "TP = confusion[1,1] # true positive \n",
    "TN = confusion[0,0] # true negatives\n",
    "FP = confusion[0,1] # false positives\n",
    "FN = confusion[1,0] # false negatives"
   ]
  },
  {
   "cell_type": "code",
   "execution_count": null,
   "metadata": {
    "execution": {
     "iopub.execute_input": "2020-11-18T16:42:59.518688Z",
     "iopub.status.busy": "2020-11-18T16:42:59.517686Z",
     "iopub.status.idle": "2020-11-18T16:42:59.521162Z",
     "shell.execute_reply": "2020-11-18T16:42:59.521790Z"
    },
    "papermill": {
     "duration": 0.601114,
     "end_time": "2020-11-18T16:42:59.522020",
     "exception": false,
     "start_time": "2020-11-18T16:42:58.920906",
     "status": "completed"
    },
    "tags": []
   },
   "outputs": [],
   "source": [
    "# Let's see the sensitivity of our model\n",
    "trainsensitivity= TP / float(TP+FN)\n",
    "trainsensitivity"
   ]
  },
  {
   "cell_type": "code",
   "execution_count": null,
   "metadata": {
    "execution": {
     "iopub.execute_input": "2020-11-18T16:43:00.638647Z",
     "iopub.status.busy": "2020-11-18T16:43:00.637750Z",
     "iopub.status.idle": "2020-11-18T16:43:00.642782Z",
     "shell.execute_reply": "2020-11-18T16:43:00.642214Z"
    },
    "papermill": {
     "duration": 0.565126,
     "end_time": "2020-11-18T16:43:00.642913",
     "exception": false,
     "start_time": "2020-11-18T16:43:00.077787",
     "status": "completed"
    },
    "tags": []
   },
   "outputs": [],
   "source": [
    "# Let us calculate specificity\n",
    "trainspecificity= TN / float(TN+FP)\n",
    "trainspecificity"
   ]
  },
  {
   "cell_type": "code",
   "execution_count": null,
   "metadata": {
    "execution": {
     "iopub.execute_input": "2020-11-18T16:43:01.759803Z",
     "iopub.status.busy": "2020-11-18T16:43:01.758730Z",
     "iopub.status.idle": "2020-11-18T16:43:01.762490Z",
     "shell.execute_reply": "2020-11-18T16:43:01.763279Z"
    },
    "papermill": {
     "duration": 0.56705,
     "end_time": "2020-11-18T16:43:01.763484",
     "exception": false,
     "start_time": "2020-11-18T16:43:01.196434",
     "status": "completed"
    },
    "tags": []
   },
   "outputs": [],
   "source": [
    "# Calculate false postive rate - predicting Defaulted when customer does not have Defaulted\n",
    "print(FP/ float(TN+FP))"
   ]
  },
  {
   "cell_type": "code",
   "execution_count": null,
   "metadata": {
    "execution": {
     "iopub.execute_input": "2020-11-18T16:43:02.893542Z",
     "iopub.status.busy": "2020-11-18T16:43:02.892581Z",
     "iopub.status.idle": "2020-11-18T16:43:02.898056Z",
     "shell.execute_reply": "2020-11-18T16:43:02.897419Z"
    },
    "papermill": {
     "duration": 0.578945,
     "end_time": "2020-11-18T16:43:02.898207",
     "exception": false,
     "start_time": "2020-11-18T16:43:02.319262",
     "status": "completed"
    },
    "tags": []
   },
   "outputs": [],
   "source": [
    "# Positive predictive value \n",
    "print (TP / float(TP+FP))"
   ]
  },
  {
   "cell_type": "code",
   "execution_count": null,
   "metadata": {
    "execution": {
     "iopub.execute_input": "2020-11-18T16:43:04.051175Z",
     "iopub.status.busy": "2020-11-18T16:43:04.050293Z",
     "iopub.status.idle": "2020-11-18T16:43:04.053706Z",
     "shell.execute_reply": "2020-11-18T16:43:04.054428Z"
    },
    "papermill": {
     "duration": 0.579978,
     "end_time": "2020-11-18T16:43:04.054594",
     "exception": false,
     "start_time": "2020-11-18T16:43:03.474616",
     "status": "completed"
    },
    "tags": []
   },
   "outputs": [],
   "source": [
    "# Negative predictive value\n",
    "print(TN / float(TN+ FN))"
   ]
  },
  {
   "cell_type": "markdown",
   "metadata": {
    "papermill": {
     "duration": 0.570817,
     "end_time": "2020-11-18T16:43:05.196159",
     "exception": false,
     "start_time": "2020-11-18T16:43:04.625342",
     "status": "completed"
    },
    "tags": []
   },
   "source": [
    "# Plotting the ROC Curve"
   ]
  },
  {
   "cell_type": "code",
   "execution_count": null,
   "metadata": {
    "execution": {
     "iopub.execute_input": "2020-11-18T16:43:06.361216Z",
     "iopub.status.busy": "2020-11-18T16:43:06.360122Z",
     "iopub.status.idle": "2020-11-18T16:43:06.364405Z",
     "shell.execute_reply": "2020-11-18T16:43:06.363582Z"
    },
    "papermill": {
     "duration": 0.5917,
     "end_time": "2020-11-18T16:43:06.364570",
     "exception": false,
     "start_time": "2020-11-18T16:43:05.772870",
     "status": "completed"
    },
    "tags": []
   },
   "outputs": [],
   "source": [
    "def draw_roc( actual, probs ):\n",
    "    fpr, tpr, thresholds = metrics.roc_curve( actual, probs,\n",
    "                                              drop_intermediate = False )\n",
    "    auc_score = metrics.roc_auc_score( actual, probs )\n",
    "    plt.figure(figsize=(5, 5))\n",
    "    plt.plot( fpr, tpr, label='ROC curve (area = %0.2f)' % auc_score )\n",
    "    plt.plot([0, 1], [0, 1], 'k--')\n",
    "    plt.xlim([0.0, 1.0])\n",
    "    plt.ylim([0.0, 1.05])\n",
    "    plt.xlabel('False Positive Rate or [1 - True Negative Rate]')\n",
    "    plt.ylabel('True Positive Rate')\n",
    "    plt.title('Receiver operating characteristic example')\n",
    "    plt.legend(loc=\"lower right\")\n",
    "    plt.show()\n",
    "\n",
    "    return None"
   ]
  },
  {
   "cell_type": "code",
   "execution_count": null,
   "metadata": {
    "execution": {
     "iopub.execute_input": "2020-11-18T16:43:07.480001Z",
     "iopub.status.busy": "2020-11-18T16:43:07.479249Z",
     "iopub.status.idle": "2020-11-18T16:43:07.787139Z",
     "shell.execute_reply": "2020-11-18T16:43:07.786499Z"
    },
    "papermill": {
     "duration": 0.866951,
     "end_time": "2020-11-18T16:43:07.787268",
     "exception": false,
     "start_time": "2020-11-18T16:43:06.920317",
     "status": "completed"
    },
    "tags": []
   },
   "outputs": [],
   "source": [
    "draw_roc(y_train,predict_train)"
   ]
  },
  {
   "cell_type": "markdown",
   "metadata": {
    "papermill": {
     "duration": 0.602864,
     "end_time": "2020-11-18T16:43:08.957625",
     "exception": false,
     "start_time": "2020-11-18T16:43:08.354761",
     "status": "completed"
    },
    "tags": []
   },
   "source": [
    "# Precision and Recall"
   ]
  },
  {
   "cell_type": "code",
   "execution_count": null,
   "metadata": {
    "execution": {
     "iopub.execute_input": "2020-11-18T16:43:10.098339Z",
     "iopub.status.busy": "2020-11-18T16:43:10.097299Z",
     "iopub.status.idle": "2020-11-18T16:43:10.100669Z",
     "shell.execute_reply": "2020-11-18T16:43:10.099925Z"
    },
    "papermill": {
     "duration": 0.591993,
     "end_time": "2020-11-18T16:43:10.100801",
     "exception": false,
     "start_time": "2020-11-18T16:43:09.508808",
     "status": "completed"
    },
    "tags": []
   },
   "outputs": [],
   "source": [
    "#Using sklearn utilities for the same"
   ]
  },
  {
   "cell_type": "code",
   "execution_count": null,
   "metadata": {
    "execution": {
     "iopub.execute_input": "2020-11-18T16:43:11.267134Z",
     "iopub.status.busy": "2020-11-18T16:43:11.266362Z",
     "iopub.status.idle": "2020-11-18T16:43:11.277011Z",
     "shell.execute_reply": "2020-11-18T16:43:11.276252Z"
    },
    "papermill": {
     "duration": 0.617344,
     "end_time": "2020-11-18T16:43:11.277181",
     "exception": false,
     "start_time": "2020-11-18T16:43:10.659837",
     "status": "completed"
    },
    "tags": []
   },
   "outputs": [],
   "source": [
    "from sklearn.metrics import precision_score, recall_score\n",
    "precision_score(y_train,predict_train)"
   ]
  },
  {
   "cell_type": "code",
   "execution_count": null,
   "metadata": {
    "execution": {
     "iopub.execute_input": "2020-11-18T16:43:12.396893Z",
     "iopub.status.busy": "2020-11-18T16:43:12.396168Z",
     "iopub.status.idle": "2020-11-18T16:43:12.406536Z",
     "shell.execute_reply": "2020-11-18T16:43:12.405765Z"
    },
    "papermill": {
     "duration": 0.570235,
     "end_time": "2020-11-18T16:43:12.406692",
     "exception": false,
     "start_time": "2020-11-18T16:43:11.836457",
     "status": "completed"
    },
    "tags": []
   },
   "outputs": [],
   "source": [
    "recall_score(y_train,predict_train)  "
   ]
  },
  {
   "cell_type": "markdown",
   "metadata": {
    "papermill": {
     "duration": 0.555145,
     "end_time": "2020-11-18T16:43:13.519493",
     "exception": false,
     "start_time": "2020-11-18T16:43:12.964348",
     "status": "completed"
    },
    "tags": []
   },
   "source": [
    "# Making predictions on the test set"
   ]
  },
  {
   "cell_type": "code",
   "execution_count": null,
   "metadata": {
    "execution": {
     "iopub.execute_input": "2020-11-18T16:43:14.645256Z",
     "iopub.status.busy": "2020-11-18T16:43:14.644411Z",
     "iopub.status.idle": "2020-11-18T16:43:14.650300Z",
     "shell.execute_reply": "2020-11-18T16:43:14.650896Z"
    },
    "papermill": {
     "duration": 0.579699,
     "end_time": "2020-11-18T16:43:14.651074",
     "exception": false,
     "start_time": "2020-11-18T16:43:14.071375",
     "status": "completed"
    },
    "tags": []
   },
   "outputs": [],
   "source": [
    "# predict the target on the test dataset\n",
    "predict_test = model.predict(X_test)\n",
    "print('Target on test data\\n\\n',predict_test)"
   ]
  },
  {
   "cell_type": "code",
   "execution_count": null,
   "metadata": {
    "execution": {
     "iopub.execute_input": "2020-11-18T16:43:15.768466Z",
     "iopub.status.busy": "2020-11-18T16:43:15.767460Z",
     "iopub.status.idle": "2020-11-18T16:43:15.777324Z",
     "shell.execute_reply": "2020-11-18T16:43:15.776636Z"
    },
    "papermill": {
     "duration": 0.571278,
     "end_time": "2020-11-18T16:43:15.777457",
     "exception": false,
     "start_time": "2020-11-18T16:43:15.206179",
     "status": "completed"
    },
    "tags": []
   },
   "outputs": [],
   "source": [
    "confusion2 = metrics.confusion_matrix(y_test, predict_test )\n",
    "print(confusion2)"
   ]
  },
  {
   "cell_type": "code",
   "execution_count": null,
   "metadata": {
    "execution": {
     "iopub.execute_input": "2020-11-18T16:43:16.905286Z",
     "iopub.status.busy": "2020-11-18T16:43:16.904205Z",
     "iopub.status.idle": "2020-11-18T16:43:16.907964Z",
     "shell.execute_reply": "2020-11-18T16:43:16.907374Z"
    },
    "papermill": {
     "duration": 0.57038,
     "end_time": "2020-11-18T16:43:16.908132",
     "exception": false,
     "start_time": "2020-11-18T16:43:16.337752",
     "status": "completed"
    },
    "tags": []
   },
   "outputs": [],
   "source": [
    "TP = confusion2[1,1] # true positive \n",
    "TN = confusion2[0,0] # true negatives\n",
    "FP = confusion2[0,1] # false positives\n",
    "FN = confusion2[1,0] # false negatives"
   ]
  },
  {
   "cell_type": "code",
   "execution_count": null,
   "metadata": {
    "execution": {
     "iopub.execute_input": "2020-11-18T16:43:18.031752Z",
     "iopub.status.busy": "2020-11-18T16:43:18.030999Z",
     "iopub.status.idle": "2020-11-18T16:43:18.037330Z",
     "shell.execute_reply": "2020-11-18T16:43:18.037908Z"
    },
    "papermill": {
     "duration": 0.575082,
     "end_time": "2020-11-18T16:43:18.038093",
     "exception": false,
     "start_time": "2020-11-18T16:43:17.463011",
     "status": "completed"
    },
    "tags": []
   },
   "outputs": [],
   "source": [
    "# Let's check the overall accuracy.\n",
    "testaccuracy= accuracy_score(y_test,predict_test)\n",
    "testaccuracy"
   ]
  },
  {
   "cell_type": "code",
   "execution_count": null,
   "metadata": {
    "execution": {
     "iopub.execute_input": "2020-11-18T16:43:19.162788Z",
     "iopub.status.busy": "2020-11-18T16:43:19.161742Z",
     "iopub.status.idle": "2020-11-18T16:43:19.165358Z",
     "shell.execute_reply": "2020-11-18T16:43:19.165930Z"
    },
    "papermill": {
     "duration": 0.567669,
     "end_time": "2020-11-18T16:43:19.166101",
     "exception": false,
     "start_time": "2020-11-18T16:43:18.598432",
     "status": "completed"
    },
    "tags": []
   },
   "outputs": [],
   "source": [
    "# Let's see the sensitivity of our lmodel\n",
    "testsensitivity=TP / float(TP+FN)\n",
    "testsensitivity"
   ]
  },
  {
   "cell_type": "code",
   "execution_count": null,
   "metadata": {
    "execution": {
     "iopub.execute_input": "2020-11-18T16:43:20.288465Z",
     "iopub.status.busy": "2020-11-18T16:43:20.287446Z",
     "iopub.status.idle": "2020-11-18T16:43:20.292203Z",
     "shell.execute_reply": "2020-11-18T16:43:20.291484Z"
    },
    "papermill": {
     "duration": 0.568146,
     "end_time": "2020-11-18T16:43:20.292328",
     "exception": false,
     "start_time": "2020-11-18T16:43:19.724182",
     "status": "completed"
    },
    "tags": []
   },
   "outputs": [],
   "source": [
    "# Let us calculate specificity\n",
    "testspecificity= TN / float(TN+FP)\n",
    "testspecificity"
   ]
  },
  {
   "cell_type": "markdown",
   "metadata": {
    "papermill": {
     "duration": 0.560731,
     "end_time": "2020-11-18T16:43:21.442616",
     "exception": false,
     "start_time": "2020-11-18T16:43:20.881885",
     "status": "completed"
    },
    "tags": []
   },
   "source": [
    "# Final Observation:"
   ]
  },
  {
   "cell_type": "code",
   "execution_count": null,
   "metadata": {
    "execution": {
     "iopub.execute_input": "2020-11-18T16:43:22.578101Z",
     "iopub.status.busy": "2020-11-18T16:43:22.577216Z",
     "iopub.status.idle": "2020-11-18T16:43:22.581930Z",
     "shell.execute_reply": "2020-11-18T16:43:22.580697Z"
    },
    "papermill": {
     "duration": 0.577192,
     "end_time": "2020-11-18T16:43:22.582134",
     "exception": false,
     "start_time": "2020-11-18T16:43:22.004942",
     "status": "completed"
    },
    "tags": []
   },
   "outputs": [],
   "source": [
    "# Let us compare the values obtained for Train & Test:\n",
    "print(\"Train Data Accuracy    :{} %\".format(round((trainaccuracy*100),2)))\n",
    "print(\"Train Data Sensitivity :{} %\".format(round((trainsensitivity*100),2)))\n",
    "print(\"Train Data Specificity :{} %\".format(round((trainspecificity*100),2)))\n",
    "print(\"Test Data Accuracy     :{} %\".format(round((testaccuracy*100),2)))\n",
    "print(\"Test Data Sensitivity  :{} %\".format(round((testsensitivity*100),2)))\n",
    "print(\"Test Data Specificity  :{} %\".format(round((testspecificity*100),2)))"
   ]
  }
 ],
 "metadata": {
  "kernelspec": {
   "display_name": "koziolenv",
   "language": "python",
   "name": "koziolenv"
  },
  "language_info": {
   "codemirror_mode": {
    "name": "ipython",
    "version": 3
   },
   "file_extension": ".py",
   "mimetype": "text/x-python",
   "name": "python",
   "nbconvert_exporter": "python",
   "pygments_lexer": "ipython3",
   "version": "3.11.3"
  },
  "papermill": {
   "duration": 1288.458651,
   "end_time": "2020-11-18T16:43:23.395272",
   "environment_variables": {},
   "exception": null,
   "input_path": "__notebook__.ipynb",
   "output_path": "__notebook__.ipynb",
   "parameters": {},
   "start_time": "2020-11-18T16:21:54.936621",
   "version": "2.1.0"
  }
 },
 "nbformat": 4,
 "nbformat_minor": 4
}
